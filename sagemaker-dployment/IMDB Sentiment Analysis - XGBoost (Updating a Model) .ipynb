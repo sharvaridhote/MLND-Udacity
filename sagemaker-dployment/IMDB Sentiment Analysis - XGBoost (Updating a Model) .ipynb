{
 "cells": [
  {
   "cell_type": "markdown",
   "metadata": {},
   "source": [
    "# Sentiment Analysis\n",
    "\n",
    "## Updating a Model in SageMaker\n",
    "\n",
    "_Deep Learning Nanodegree Program | Deployment_\n",
    "\n",
    "---\n",
    "\n",
    "In this notebook we will consider a situation in which a model that we constructed is no longer working as we intended. In particular, we will look at the XGBoost sentiment analysis model that we constructed earlier. In this case, however, we have some new data that our model doesn't seem to perform very well on. As a result, we will re-train our model and update an existing endpoint so that it uses our new model.\n",
    "\n",
    "This notebook starts by re-creating the XGBoost sentiment analysis model that was created in earlier notebooks. This means that you will have already seen the cells up to the end of Step 4. The new content in this notebook begins at Step 5.\n",
    "\n",
    "## Instructions\n",
    "\n",
    "Some template code has already been provided for you, and you will need to implement additional functionality to successfully complete this notebook. You will not need to modify the included code beyond what is requested. Sections that begin with '**TODO**' in the header indicate that you need to complete or implement some portion within them. Instructions will be provided for each section and the specifics of the implementation are marked in the code block with a `# TODO: ...` comment. Please be sure to read the instructions carefully!\n",
    "\n",
    "In addition to implementing code, there will be questions for you to answer which relate to the task and your implementation. Each section where you will answer a question is preceded by a '**Question:**' header. Carefully read each question and provide your answer below the '**Answer:**' header by editing the Markdown cell.\n",
    "\n",
    "> **Note**: Code and Markdown cells can be executed using the **Shift+Enter** keyboard shortcut. In addition, a cell can be edited by typically clicking it (double-click for Markdown cells) or by pressing **Enter** while it is highlighted."
   ]
  },
  {
   "cell_type": "markdown",
   "metadata": {},
   "source": [
    "## Step 1: Downloading the data\n",
    "\n",
    "The dataset we are going to use is very popular among researchers in Natural Language Processing, usually referred to as the [IMDb dataset](http://ai.stanford.edu/~amaas/data/sentiment/). It consists of movie reviews from the website [imdb.com](http://www.imdb.com/), each labeled as either '**pos**itive', if the reviewer enjoyed the film, or '**neg**ative' otherwise.\n",
    "\n",
    "> Maas, Andrew L., et al. [Learning Word Vectors for Sentiment Analysis](http://ai.stanford.edu/~amaas/data/sentiment/). In _Proceedings of the 49th Annual Meeting of the Association for Computational Linguistics: Human Language Technologies_. Association for Computational Linguistics, 2011.\n",
    "\n",
    "We begin by using some Jupyter Notebook magic to download and extract the dataset."
   ]
  },
  {
   "cell_type": "code",
   "execution_count": null,
   "metadata": {},
   "outputs": [],
   "source": [
    "#%mkdir ../data\n",
    "#!wget -O ../data/aclImdb_v1.tar.gz http://ai.stanford.edu/~amaas/data/sentiment/aclImdb_v1.tar.gz\n",
    "#!tar -zxf ../data/aclImdb_v1.tar.gz -C ../data"
   ]
  },
  {
   "cell_type": "markdown",
   "metadata": {},
   "source": [
    "## Step 2: Preparing the data\n",
    "\n",
    "The data we have downloaded is split into various files, each of which contains a single review. It will be much easier going forward if we combine these individual files into two large files, one for training and one for testing."
   ]
  },
  {
   "cell_type": "code",
   "execution_count": 1,
   "metadata": {},
   "outputs": [],
   "source": [
    "import os\n",
    "import glob\n",
    "\n",
    "def read_imdb_data(data_dir='../data/aclImdb'):\n",
    "    data = {}\n",
    "    labels = {}\n",
    "    \n",
    "    for data_type in ['train', 'test']:\n",
    "        data[data_type] = {}\n",
    "        labels[data_type] = {}\n",
    "        \n",
    "        for sentiment in ['pos', 'neg']:\n",
    "            data[data_type][sentiment] = []\n",
    "            labels[data_type][sentiment] = []\n",
    "            \n",
    "            path = os.path.join(data_dir, data_type, sentiment, '*.txt')\n",
    "            files = glob.glob(path)\n",
    "            \n",
    "            for f in files:\n",
    "                with open(f) as review:\n",
    "                    data[data_type][sentiment].append(review.read())\n",
    "                    # Here we represent a positive review by '1' and a negative review by '0'\n",
    "                    labels[data_type][sentiment].append(1 if sentiment == 'pos' else 0)\n",
    "                    \n",
    "            assert len(data[data_type][sentiment]) == len(labels[data_type][sentiment]), \\\n",
    "                    \"{}/{} data size does not match labels size\".format(data_type, sentiment)\n",
    "                \n",
    "    return data, labels"
   ]
  },
  {
   "cell_type": "code",
   "execution_count": 2,
   "metadata": {},
   "outputs": [
    {
     "name": "stdout",
     "output_type": "stream",
     "text": [
      "IMDB reviews: train = 12500 pos / 12500 neg, test = 12500 pos / 12500 neg\n"
     ]
    }
   ],
   "source": [
    "data, labels = read_imdb_data()\n",
    "print(\"IMDB reviews: train = {} pos / {} neg, test = {} pos / {} neg\".format(\n",
    "            len(data['train']['pos']), len(data['train']['neg']),\n",
    "            len(data['test']['pos']), len(data['test']['neg'])))"
   ]
  },
  {
   "cell_type": "code",
   "execution_count": 3,
   "metadata": {},
   "outputs": [],
   "source": [
    "from sklearn.utils import shuffle\n",
    "\n",
    "def prepare_imdb_data(data, labels):\n",
    "    \"\"\"Prepare training and test sets from IMDb movie reviews.\"\"\"\n",
    "    \n",
    "    #Combine positive and negative reviews and labels\n",
    "    data_train = data['train']['pos'] + data['train']['neg']\n",
    "    data_test = data['test']['pos'] + data['test']['neg']\n",
    "    labels_train = labels['train']['pos'] + labels['train']['neg']\n",
    "    labels_test = labels['test']['pos'] + labels['test']['neg']\n",
    "    \n",
    "    #Shuffle reviews and corresponding labels within training and test sets\n",
    "    data_train, labels_train = shuffle(data_train, labels_train)\n",
    "    data_test, labels_test = shuffle(data_test, labels_test)\n",
    "    \n",
    "    # Return a unified training data, test data, training labels, test labets\n",
    "    return data_train, data_test, labels_train, labels_test"
   ]
  },
  {
   "cell_type": "code",
   "execution_count": 4,
   "metadata": {},
   "outputs": [
    {
     "name": "stdout",
     "output_type": "stream",
     "text": [
      "IMDb reviews (combined): train = 25000, test = 25000\n"
     ]
    }
   ],
   "source": [
    "train_X, test_X, train_y, test_y = prepare_imdb_data(data, labels)\n",
    "print(\"IMDb reviews (combined): train = {}, test = {}\".format(len(train_X), len(test_X)))"
   ]
  },
  {
   "cell_type": "code",
   "execution_count": 5,
   "metadata": {},
   "outputs": [
    {
     "data": {
      "text/plain": [
       "\"This is not Michael Madsen's fault, he was hardly in it. This movie was just awful. If you want to laugh and be bored, go ahead and watch this movie. Words cannot describe how idiotic it is. Sorry Michael. The cinematography was dark. All the other actors are unknowns. When watching it, it feels like a soft porn, but with no nudity or heated scenes. This movie had sexual overtones, since it is about a underground S & M killer. The acting was bad, except Michael Madsen's parts. He looked like he wanted to laugh. I hope he got paid well for this lousy movie. It is something I would not be proud of. It is not even a B movie for cable, it is more like a F and it should never be shown, ever.\""
      ]
     },
     "execution_count": 5,
     "metadata": {},
     "output_type": "execute_result"
    }
   ],
   "source": [
    "train_X[100]"
   ]
  },
  {
   "cell_type": "markdown",
   "metadata": {},
   "source": [
    "## Step 3: Processing the data\n",
    "\n",
    "Now that we have our training and testing datasets merged and ready to use, we need to start processing the raw data into something that will be useable by our machine learning algorithm. To begin with, we remove any html formatting that may appear in the reviews and perform some standard natural language processing in order to homogenize the data."
   ]
  },
  {
   "cell_type": "code",
   "execution_count": 6,
   "metadata": {},
   "outputs": [
    {
     "name": "stdout",
     "output_type": "stream",
     "text": [
      "[nltk_data] Downloading package stopwords to\n",
      "[nltk_data]     /home/ec2-user/nltk_data...\n",
      "[nltk_data]   Unzipping corpora/stopwords.zip.\n"
     ]
    }
   ],
   "source": [
    "import nltk\n",
    "nltk.download(\"stopwords\")\n",
    "from nltk.corpus import stopwords\n",
    "from nltk.stem.porter import *\n",
    "stemmer = PorterStemmer()"
   ]
  },
  {
   "cell_type": "code",
   "execution_count": 7,
   "metadata": {},
   "outputs": [],
   "source": [
    "import re\n",
    "from bs4 import BeautifulSoup\n",
    "\n",
    "def review_to_words(review):\n",
    "    text = BeautifulSoup(review, \"html.parser\").get_text() # Remove HTML tags\n",
    "    text = re.sub(r\"[^a-zA-Z0-9]\", \" \", text.lower()) # Convert to lower case\n",
    "    words = text.split() # Split string into words\n",
    "    words = [w for w in words if w not in stopwords.words(\"english\")] # Remove stopwords\n",
    "    words = [PorterStemmer().stem(w) for w in words] # stem\n",
    "    \n",
    "    return words"
   ]
  },
  {
   "cell_type": "code",
   "execution_count": 8,
   "metadata": {},
   "outputs": [
    {
     "data": {
      "text/plain": [
       "['michael',\n",
       " 'madsen',\n",
       " 'fault',\n",
       " 'hardli',\n",
       " 'movi',\n",
       " 'aw',\n",
       " 'want',\n",
       " 'laugh',\n",
       " 'bore',\n",
       " 'go',\n",
       " 'ahead',\n",
       " 'watch',\n",
       " 'movi',\n",
       " 'word',\n",
       " 'cannot',\n",
       " 'describ',\n",
       " 'idiot',\n",
       " 'sorri',\n",
       " 'michael',\n",
       " 'cinematographi',\n",
       " 'dark',\n",
       " 'actor',\n",
       " 'unknown',\n",
       " 'watch',\n",
       " 'feel',\n",
       " 'like',\n",
       " 'soft',\n",
       " 'porn',\n",
       " 'nuditi',\n",
       " 'heat',\n",
       " 'scene',\n",
       " 'movi',\n",
       " 'sexual',\n",
       " 'overton',\n",
       " 'sinc',\n",
       " 'underground',\n",
       " 'killer',\n",
       " 'act',\n",
       " 'bad',\n",
       " 'except',\n",
       " 'michael',\n",
       " 'madsen',\n",
       " 'part',\n",
       " 'look',\n",
       " 'like',\n",
       " 'want',\n",
       " 'laugh',\n",
       " 'hope',\n",
       " 'got',\n",
       " 'paid',\n",
       " 'well',\n",
       " 'lousi',\n",
       " 'movi',\n",
       " 'someth',\n",
       " 'would',\n",
       " 'proud',\n",
       " 'even',\n",
       " 'b',\n",
       " 'movi',\n",
       " 'cabl',\n",
       " 'like',\n",
       " 'f',\n",
       " 'never',\n",
       " 'shown',\n",
       " 'ever']"
      ]
     },
     "execution_count": 8,
     "metadata": {},
     "output_type": "execute_result"
    }
   ],
   "source": [
    "review_to_words(train_X[100])"
   ]
  },
  {
   "cell_type": "code",
   "execution_count": 9,
   "metadata": {},
   "outputs": [],
   "source": [
    "import pickle\n",
    "\n",
    "cache_dir = os.path.join(\"../cache\", \"sentiment_analysis\")  # where to store cache files\n",
    "os.makedirs(cache_dir, exist_ok=True)  # ensure cache directory exists\n",
    "\n",
    "def preprocess_data(data_train, data_test, labels_train, labels_test,\n",
    "                    cache_dir=cache_dir, cache_file=\"preprocessed_data.pkl\"):\n",
    "    \"\"\"Convert each review to words; read from cache if available.\"\"\"\n",
    "\n",
    "    # If cache_file is not None, try to read from it first\n",
    "    cache_data = None\n",
    "    if cache_file is not None:\n",
    "        try:\n",
    "            with open(os.path.join(cache_dir, cache_file), \"rb\") as f:\n",
    "                cache_data = pickle.load(f)\n",
    "            print(\"Read preprocessed data from cache file:\", cache_file)\n",
    "        except:\n",
    "            pass  # unable to read from cache, but that's okay\n",
    "    \n",
    "    # If cache is missing, then do the heavy lifting\n",
    "    if cache_data is None:\n",
    "        # Preprocess training and test data to obtain words for each review\n",
    "        #words_train = list(map(review_to_words, data_train))\n",
    "        #words_test = list(map(review_to_words, data_test))\n",
    "        words_train = [review_to_words(review) for review in data_train]\n",
    "        words_test = [review_to_words(review) for review in data_test]\n",
    "        \n",
    "        # Write to cache file for future runs\n",
    "        if cache_file is not None:\n",
    "            cache_data = dict(words_train=words_train, words_test=words_test,\n",
    "                              labels_train=labels_train, labels_test=labels_test)\n",
    "            with open(os.path.join(cache_dir, cache_file), \"wb\") as f:\n",
    "                pickle.dump(cache_data, f)\n",
    "            print(\"Wrote preprocessed data to cache file:\", cache_file)\n",
    "    else:\n",
    "        # Unpack data loaded from cache file\n",
    "        words_train, words_test, labels_train, labels_test = (cache_data['words_train'],\n",
    "                cache_data['words_test'], cache_data['labels_train'], cache_data['labels_test'])\n",
    "    \n",
    "    return words_train, words_test, labels_train, labels_test"
   ]
  },
  {
   "cell_type": "code",
   "execution_count": 10,
   "metadata": {},
   "outputs": [
    {
     "name": "stdout",
     "output_type": "stream",
     "text": [
      "Wrote preprocessed data to cache file: preprocessed_data.pkl\n"
     ]
    }
   ],
   "source": [
    "# Preprocess data\n",
    "train_X, test_X, train_y, test_y = preprocess_data(train_X, test_X, train_y, test_y)"
   ]
  },
  {
   "cell_type": "markdown",
   "metadata": {},
   "source": [
    "### Extract Bag-of-Words features\n",
    "\n",
    "For the model we will be implementing, rather than using the reviews directly, we are going to transform each review into a Bag-of-Words feature representation. Keep in mind that 'in the wild' we will only have access to the training set so our transformer can only use the training set to construct a representation."
   ]
  },
  {
   "cell_type": "code",
   "execution_count": 11,
   "metadata": {},
   "outputs": [],
   "source": [
    "import numpy as np\n",
    "from sklearn.feature_extraction.text import CountVectorizer\n",
    "from sklearn.externals import joblib\n",
    "# joblib is an enhanced version of pickle that is more efficient for storing NumPy arrays\n",
    "\n",
    "def extract_BoW_features(words_train, words_test, vocabulary_size=5000,\n",
    "                         cache_dir=cache_dir, cache_file=\"bow_features.pkl\"):\n",
    "    \"\"\"Extract Bag-of-Words for a given set of documents, already preprocessed into words.\"\"\"\n",
    "    \n",
    "    # If cache_file is not None, try to read from it first\n",
    "    cache_data = None\n",
    "    if cache_file is not None:\n",
    "        try:\n",
    "            with open(os.path.join(cache_dir, cache_file), \"rb\") as f:\n",
    "                cache_data = joblib.load(f)\n",
    "            print(\"Read features from cache file:\", cache_file)\n",
    "        except:\n",
    "            pass  # unable to read from cache, but that's okay\n",
    "    \n",
    "    # If cache is missing, then do the heavy lifting\n",
    "    if cache_data is None:\n",
    "        # Fit a vectorizer to training documents and use it to transform them\n",
    "        # NOTE: Training documents have already been preprocessed and tokenized into words;\n",
    "        #       pass in dummy functions to skip those steps, e.g. preprocessor=lambda x: x\n",
    "        vectorizer = CountVectorizer(max_features=vocabulary_size,\n",
    "                preprocessor=lambda x: x, tokenizer=lambda x: x)  # already preprocessed\n",
    "        features_train = vectorizer.fit_transform(words_train).toarray()\n",
    "\n",
    "        # Apply the same vectorizer to transform the test documents (ignore unknown words)\n",
    "        features_test = vectorizer.transform(words_test).toarray()\n",
    "        \n",
    "        # NOTE: Remember to convert the features using .toarray() for a compact representation\n",
    "        \n",
    "        # Write to cache file for future runs (store vocabulary as well)\n",
    "        if cache_file is not None:\n",
    "            vocabulary = vectorizer.vocabulary_\n",
    "            cache_data = dict(features_train=features_train, features_test=features_test,\n",
    "                             vocabulary=vocabulary)\n",
    "            with open(os.path.join(cache_dir, cache_file), \"wb\") as f:\n",
    "                joblib.dump(cache_data, f)\n",
    "            print(\"Wrote features to cache file:\", cache_file)\n",
    "    else:\n",
    "        # Unpack data loaded from cache file\n",
    "        features_train, features_test, vocabulary = (cache_data['features_train'],\n",
    "                cache_data['features_test'], cache_data['vocabulary'])\n",
    "    \n",
    "    # Return both the extracted features as well as the vocabulary\n",
    "    return features_train, features_test, vocabulary"
   ]
  },
  {
   "cell_type": "code",
   "execution_count": 12,
   "metadata": {},
   "outputs": [
    {
     "name": "stdout",
     "output_type": "stream",
     "text": [
      "Wrote features to cache file: bow_features.pkl\n"
     ]
    }
   ],
   "source": [
    "# Extract Bag of Words features for both training and test datasets\n",
    "train_X, test_X, vocabulary = extract_BoW_features(train_X, test_X)"
   ]
  },
  {
   "cell_type": "code",
   "execution_count": 13,
   "metadata": {},
   "outputs": [
    {
     "data": {
      "text/plain": [
       "5000"
      ]
     },
     "execution_count": 13,
     "metadata": {},
     "output_type": "execute_result"
    }
   ],
   "source": [
    "len(train_X[100])"
   ]
  },
  {
   "cell_type": "markdown",
   "metadata": {},
   "source": [
    "## Step 4: Classification using XGBoost\n",
    "\n",
    "Now that we have created the feature representation of our training (and testing) data, it is time to start setting up and using the XGBoost classifier provided by SageMaker.\n",
    "\n",
    "### Writing the dataset\n",
    "\n",
    "The XGBoost classifier that we will be using requires the dataset to be written to a file and stored using Amazon S3. To do this, we will start by splitting the training dataset into two parts, the data we will train the model with and a validation set. Then, we will write those datasets to a file and upload the files to S3. In addition, we will write the test set input to a file and upload the file to S3. This is so that we can use SageMakers Batch Transform functionality to test our model once we've fit it."
   ]
  },
  {
   "cell_type": "code",
   "execution_count": 14,
   "metadata": {},
   "outputs": [],
   "source": [
    "import pandas as pd\n",
    "\n",
    "# Earlier we shuffled the training dataset so to make things simple we can just assign\n",
    "# the first 10 000 reviews to the validation set and use the remaining reviews for training.\n",
    "val_X = pd.DataFrame(train_X[:10000])\n",
    "train_X = pd.DataFrame(train_X[10000:])\n",
    "\n",
    "val_y = pd.DataFrame(train_y[:10000])\n",
    "train_y = pd.DataFrame(train_y[10000:])"
   ]
  },
  {
   "cell_type": "markdown",
   "metadata": {},
   "source": [
    "The documentation for the XGBoost algorithm in SageMaker requires that the saved datasets should contain no headers or index and that for the training and validation data, the label should occur first for each sample.\n",
    "\n",
    "For more information about this and other algorithms, the SageMaker developer documentation can be found on __[Amazon's website.](https://docs.aws.amazon.com/sagemaker/latest/dg/)__"
   ]
  },
  {
   "cell_type": "code",
   "execution_count": 15,
   "metadata": {},
   "outputs": [],
   "source": [
    "# First we make sure that the local directory in which we'd like to store the training and validation csv files exists.\n",
    "data_dir = '../data/sentiment_update'\n",
    "if not os.path.exists(data_dir):\n",
    "    os.makedirs(data_dir)"
   ]
  },
  {
   "cell_type": "code",
   "execution_count": 16,
   "metadata": {},
   "outputs": [],
   "source": [
    "pd.DataFrame(test_X).to_csv(os.path.join(data_dir, 'test.csv'), header=False, index=False)\n",
    "\n",
    "pd.concat([val_y, val_X], axis=1).to_csv(os.path.join(data_dir, 'validation.csv'), header=False, index=False)\n",
    "pd.concat([train_y, train_X], axis=1).to_csv(os.path.join(data_dir, 'train.csv'), header=False, index=False)"
   ]
  },
  {
   "cell_type": "code",
   "execution_count": 17,
   "metadata": {},
   "outputs": [],
   "source": [
    "# To save a bit of memory we can set text_X, train_X, val_X, train_y and val_y to None.\n",
    "\n",
    "test_X = train_X = val_X = train_y = val_y = None"
   ]
  },
  {
   "cell_type": "markdown",
   "metadata": {},
   "source": [
    "### Uploading Training / Validation files to S3\n",
    "\n",
    "Amazon's S3 service allows us to store files that can be access by both the built-in training models such as the XGBoost model we will be using as well as custom models such as the one we will see a little later.\n",
    "\n",
    "For this, and most other tasks we will be doing using SageMaker, there are two methods we could use. The first is to use the low level functionality of SageMaker which requires knowing each of the objects involved in the SageMaker environment. The second is to use the high level functionality in which certain choices have been made on the user's behalf. The low level approach benefits from allowing the user a great deal of flexibility while the high level approach makes development much quicker. For our purposes we will opt to use the high level approach although using the low-level approach is certainly an option.\n",
    "\n",
    "Recall the method `upload_data()` which is a member of object representing our current SageMaker session. What this method does is upload the data to the default bucket (which is created if it does not exist) into the path described by the key_prefix variable. To see this for yourself, once you have uploaded the data files, go to the S3 console and look to see where the files have been uploaded.\n",
    "\n",
    "For additional resources, see the __[SageMaker API documentation](http://sagemaker.readthedocs.io/en/latest/)__ and in addition the __[SageMaker Developer Guide.](https://docs.aws.amazon.com/sagemaker/latest/dg/)__"
   ]
  },
  {
   "cell_type": "code",
   "execution_count": 18,
   "metadata": {},
   "outputs": [],
   "source": [
    "import sagemaker\n",
    "\n",
    "session = sagemaker.Session() # Store the current SageMaker session\n",
    "\n",
    "# S3 prefix (which folder will we use)\n",
    "prefix = 'sentiment-update'\n",
    "\n",
    "test_location = session.upload_data(os.path.join(data_dir, 'test.csv'), key_prefix=prefix)\n",
    "val_location = session.upload_data(os.path.join(data_dir, 'validation.csv'), key_prefix=prefix)\n",
    "train_location = session.upload_data(os.path.join(data_dir, 'train.csv'), key_prefix=prefix)"
   ]
  },
  {
   "cell_type": "markdown",
   "metadata": {},
   "source": [
    "### Creating the XGBoost model\n",
    "\n",
    "Now that the data has been uploaded it is time to create the XGBoost model. To begin with, we need to do some setup. At this point it is worth discussing what a model is in SageMaker. It is easiest to think of a model of comprising three different objects in the SageMaker ecosystem, which interact with one another.\n",
    "\n",
    "- Model Artifacts\n",
    "- Training Code (Container)\n",
    "- Inference Code (Container)\n",
    "\n",
    "The Model Artifacts are what you might think of as the actual model itself. For example, if you were building a neural network, the model artifacts would be the weights of the various layers. In our case, for an XGBoost model, the artifacts are the actual trees that are created during training.\n",
    "\n",
    "The other two objects, the training code and the inference code are then used the manipulate the training artifacts. More precisely, the training code uses the training data that is provided and creates the model artifacts, while the inference code uses the model artifacts to make predictions on new data.\n",
    "\n",
    "The way that SageMaker runs the training and inference code is by making use of Docker containers. For now, think of a container as being a way of packaging code up so that dependencies aren't an issue."
   ]
  },
  {
   "cell_type": "code",
   "execution_count": 19,
   "metadata": {},
   "outputs": [],
   "source": [
    "from sagemaker import get_execution_role\n",
    "\n",
    "# Our current execution role is require when creating the model as the training\n",
    "# and inference code will need to access the model artifacts.\n",
    "role = get_execution_role()"
   ]
  },
  {
   "cell_type": "code",
   "execution_count": 20,
   "metadata": {},
   "outputs": [
    {
     "name": "stderr",
     "output_type": "stream",
     "text": [
      "WARNING:root:There is a more up to date SageMaker XGBoost image. To use the newer image, please set 'repo_version'='0.90-1'. For example:\n",
      "\tget_image_uri(region, 'xgboost', '0.90-1').\n"
     ]
    }
   ],
   "source": [
    "# We need to retrieve the location of the container which is provided by Amazon for using XGBoost.\n",
    "# As a matter of convenience, the training and inference code both use the same container.\n",
    "from sagemaker.amazon.amazon_estimator import get_image_uri\n",
    "\n",
    "container = get_image_uri(session.boto_region_name, 'xgboost')"
   ]
  },
  {
   "cell_type": "code",
   "execution_count": 21,
   "metadata": {},
   "outputs": [],
   "source": [
    "# First we create a SageMaker estimator object for our model.\n",
    "xgb = sagemaker.estimator.Estimator(container, # The location of the container we wish to use\n",
    "                                    role,                                    # What is our current IAM Role\n",
    "                                    train_instance_count=1,                  # How many compute instances\n",
    "                                    train_instance_type='ml.m4.xlarge',      # What kind of compute instances\n",
    "                                    output_path='s3://{}/{}/output'.format(session.default_bucket(), prefix),\n",
    "                                    sagemaker_session=session)\n",
    "\n",
    "# And then set the algorithm specific parameters.\n",
    "xgb.set_hyperparameters(max_depth=5,\n",
    "                        eta=0.2,\n",
    "                        gamma=4,\n",
    "                        min_child_weight=6,\n",
    "                        subsample=0.8,\n",
    "                        silent=0,\n",
    "                        objective='binary:logistic',\n",
    "                        early_stopping_rounds=10,\n",
    "                        num_round=500)"
   ]
  },
  {
   "cell_type": "markdown",
   "metadata": {},
   "source": [
    "### Fit the XGBoost model\n",
    "\n",
    "Now that our model has been set up we simply need to attach the training and validation datasets and then ask SageMaker to set up the computation."
   ]
  },
  {
   "cell_type": "code",
   "execution_count": 22,
   "metadata": {},
   "outputs": [],
   "source": [
    "s3_input_train = sagemaker.s3_input(s3_data=train_location, content_type='csv')\n",
    "s3_input_validation = sagemaker.s3_input(s3_data=val_location, content_type='csv')"
   ]
  },
  {
   "cell_type": "code",
   "execution_count": 23,
   "metadata": {},
   "outputs": [
    {
     "name": "stdout",
     "output_type": "stream",
     "text": [
      "2020-02-23 12:59:49 Starting - Starting the training job...\n",
      "2020-02-23 12:59:50 Starting - Launching requested ML instances...\n",
      "2020-02-23 13:00:48 Starting - Preparing the instances for training......\n",
      "2020-02-23 13:01:42 Downloading - Downloading input data...\n",
      "2020-02-23 13:02:13 Training - Downloading the training image..\u001b[34mArguments: train\u001b[0m\n",
      "\u001b[34m[2020-02-23:13:02:32:INFO] Running standalone xgboost training.\u001b[0m\n",
      "\u001b[34m[2020-02-23:13:02:32:INFO] File size need to be processed in the node: 238.47mb. Available memory size in the node: 8506.03mb\u001b[0m\n",
      "\u001b[34m[2020-02-23:13:02:32:INFO] Determined delimiter of CSV input is ','\u001b[0m\n",
      "\u001b[34m[13:02:32] S3DistributionType set as FullyReplicated\u001b[0m\n",
      "\u001b[34m[13:02:34] 15000x5000 matrix with 75000000 entries loaded from /opt/ml/input/data/train?format=csv&label_column=0&delimiter=,\u001b[0m\n",
      "\u001b[34m[2020-02-23:13:02:34:INFO] Determined delimiter of CSV input is ','\u001b[0m\n",
      "\u001b[34m[13:02:34] S3DistributionType set as FullyReplicated\u001b[0m\n",
      "\u001b[34m[13:02:35] 10000x5000 matrix with 50000000 entries loaded from /opt/ml/input/data/validation?format=csv&label_column=0&delimiter=,\u001b[0m\n",
      "\n",
      "2020-02-23 13:02:32 Training - Training image download completed. Training in progress.\u001b[34m[13:02:39] src/tree/updater_prune.cc:74: tree pruning end, 1 roots, 42 extra nodes, 4 pruned nodes, max_depth=5\u001b[0m\n",
      "\u001b[34m[0]#011train-error:0.297667#011validation-error:0.2995\u001b[0m\n",
      "\u001b[34mMultiple eval metrics have been passed: 'validation-error' will be used for early stopping.\n",
      "\u001b[0m\n",
      "\u001b[34mWill train until validation-error hasn't improved in 10 rounds.\u001b[0m\n",
      "\u001b[34m[13:02:40] src/tree/updater_prune.cc:74: tree pruning end, 1 roots, 38 extra nodes, 4 pruned nodes, max_depth=5\u001b[0m\n",
      "\u001b[34m[1]#011train-error:0.280733#011validation-error:0.2853\u001b[0m\n",
      "\u001b[34m[13:02:41] src/tree/updater_prune.cc:74: tree pruning end, 1 roots, 42 extra nodes, 2 pruned nodes, max_depth=5\u001b[0m\n",
      "\u001b[34m[2]#011train-error:0.279933#011validation-error:0.285\u001b[0m\n",
      "\u001b[34m[13:02:43] src/tree/updater_prune.cc:74: tree pruning end, 1 roots, 44 extra nodes, 6 pruned nodes, max_depth=5\u001b[0m\n",
      "\u001b[34m[3]#011train-error:0.270067#011validation-error:0.2745\u001b[0m\n",
      "\u001b[34m[13:02:44] src/tree/updater_prune.cc:74: tree pruning end, 1 roots, 34 extra nodes, 4 pruned nodes, max_depth=5\u001b[0m\n",
      "\u001b[34m[4]#011train-error:0.2664#011validation-error:0.2712\u001b[0m\n",
      "\u001b[34m[13:02:46] src/tree/updater_prune.cc:74: tree pruning end, 1 roots, 30 extra nodes, 2 pruned nodes, max_depth=5\u001b[0m\n",
      "\u001b[34m[5]#011train-error:0.258267#011validation-error:0.2649\u001b[0m\n",
      "\u001b[34m[13:02:47] src/tree/updater_prune.cc:74: tree pruning end, 1 roots, 36 extra nodes, 6 pruned nodes, max_depth=5\u001b[0m\n",
      "\u001b[34m[6]#011train-error:0.256867#011validation-error:0.2649\u001b[0m\n",
      "\u001b[34m[13:02:48] src/tree/updater_prune.cc:74: tree pruning end, 1 roots, 38 extra nodes, 2 pruned nodes, max_depth=5\u001b[0m\n",
      "\u001b[34m[7]#011train-error:0.238733#011validation-error:0.2491\u001b[0m\n",
      "\u001b[34m[13:02:50] src/tree/updater_prune.cc:74: tree pruning end, 1 roots, 28 extra nodes, 8 pruned nodes, max_depth=5\u001b[0m\n",
      "\u001b[34m[8]#011train-error:0.235133#011validation-error:0.245\u001b[0m\n",
      "\u001b[34m[13:02:51] src/tree/updater_prune.cc:74: tree pruning end, 1 roots, 32 extra nodes, 8 pruned nodes, max_depth=5\u001b[0m\n",
      "\u001b[34m[9]#011train-error:0.230333#011validation-error:0.24\u001b[0m\n",
      "\u001b[34m[13:02:52] src/tree/updater_prune.cc:74: tree pruning end, 1 roots, 36 extra nodes, 4 pruned nodes, max_depth=5\u001b[0m\n",
      "\u001b[34m[10]#011train-error:0.226667#011validation-error:0.2365\u001b[0m\n",
      "\u001b[34m[13:02:53] src/tree/updater_prune.cc:74: tree pruning end, 1 roots, 28 extra nodes, 8 pruned nodes, max_depth=5\u001b[0m\n",
      "\u001b[34m[11]#011train-error:0.218333#011validation-error:0.2288\u001b[0m\n",
      "\u001b[34m[13:02:55] src/tree/updater_prune.cc:74: tree pruning end, 1 roots, 30 extra nodes, 6 pruned nodes, max_depth=5\u001b[0m\n",
      "\u001b[34m[12]#011train-error:0.215667#011validation-error:0.224\u001b[0m\n",
      "\u001b[34m[13:02:56] src/tree/updater_prune.cc:74: tree pruning end, 1 roots, 22 extra nodes, 8 pruned nodes, max_depth=5\u001b[0m\n",
      "\u001b[34m[13]#011train-error:0.210133#011validation-error:0.2207\u001b[0m\n",
      "\u001b[34m[13:02:57] src/tree/updater_prune.cc:74: tree pruning end, 1 roots, 36 extra nodes, 4 pruned nodes, max_depth=5\u001b[0m\n",
      "\u001b[34m[14]#011train-error:0.207267#011validation-error:0.2181\u001b[0m\n",
      "\u001b[34m[13:02:58] src/tree/updater_prune.cc:74: tree pruning end, 1 roots, 24 extra nodes, 14 pruned nodes, max_depth=5\u001b[0m\n",
      "\u001b[34m[15]#011train-error:0.203267#011validation-error:0.2149\u001b[0m\n",
      "\u001b[34m[13:03:00] src/tree/updater_prune.cc:74: tree pruning end, 1 roots, 32 extra nodes, 12 pruned nodes, max_depth=5\u001b[0m\n",
      "\u001b[34m[16]#011train-error:0.199133#011validation-error:0.2116\u001b[0m\n",
      "\u001b[34m[13:03:01] src/tree/updater_prune.cc:74: tree pruning end, 1 roots, 24 extra nodes, 2 pruned nodes, max_depth=5\u001b[0m\n",
      "\u001b[34m[17]#011train-error:0.197533#011validation-error:0.2097\u001b[0m\n",
      "\u001b[34m[13:03:02] src/tree/updater_prune.cc:74: tree pruning end, 1 roots, 22 extra nodes, 10 pruned nodes, max_depth=5\u001b[0m\n",
      "\u001b[34m[18]#011train-error:0.1934#011validation-error:0.2084\u001b[0m\n",
      "\u001b[34m[13:03:03] src/tree/updater_prune.cc:74: tree pruning end, 1 roots, 32 extra nodes, 10 pruned nodes, max_depth=5\u001b[0m\n",
      "\u001b[34m[19]#011train-error:0.1906#011validation-error:0.2062\u001b[0m\n",
      "\u001b[34m[13:03:05] src/tree/updater_prune.cc:74: tree pruning end, 1 roots, 32 extra nodes, 4 pruned nodes, max_depth=5\u001b[0m\n",
      "\u001b[34m[20]#011train-error:0.189467#011validation-error:0.201\u001b[0m\n",
      "\u001b[34m[13:03:06] src/tree/updater_prune.cc:74: tree pruning end, 1 roots, 30 extra nodes, 6 pruned nodes, max_depth=5\u001b[0m\n",
      "\u001b[34m[21]#011train-error:0.187867#011validation-error:0.2016\u001b[0m\n",
      "\u001b[34m[13:03:07] src/tree/updater_prune.cc:74: tree pruning end, 1 roots, 40 extra nodes, 6 pruned nodes, max_depth=5\u001b[0m\n",
      "\u001b[34m[22]#011train-error:0.1848#011validation-error:0.2009\u001b[0m\n",
      "\u001b[34m[13:03:09] src/tree/updater_prune.cc:74: tree pruning end, 1 roots, 28 extra nodes, 2 pruned nodes, max_depth=5\u001b[0m\n",
      "\u001b[34m[23]#011train-error:0.1842#011validation-error:0.2006\u001b[0m\n",
      "\u001b[34m[13:03:10] src/tree/updater_prune.cc:74: tree pruning end, 1 roots, 24 extra nodes, 8 pruned nodes, max_depth=5\u001b[0m\n",
      "\u001b[34m[24]#011train-error:0.1822#011validation-error:0.1995\u001b[0m\n",
      "\u001b[34m[13:03:11] src/tree/updater_prune.cc:74: tree pruning end, 1 roots, 26 extra nodes, 6 pruned nodes, max_depth=5\u001b[0m\n",
      "\u001b[34m[25]#011train-error:0.18#011validation-error:0.196\u001b[0m\n",
      "\u001b[34m[13:03:12] src/tree/updater_prune.cc:74: tree pruning end, 1 roots, 36 extra nodes, 4 pruned nodes, max_depth=5\u001b[0m\n",
      "\u001b[34m[26]#011train-error:0.175067#011validation-error:0.1936\u001b[0m\n",
      "\u001b[34m[13:03:14] src/tree/updater_prune.cc:74: tree pruning end, 1 roots, 30 extra nodes, 8 pruned nodes, max_depth=5\u001b[0m\n",
      "\u001b[34m[27]#011train-error:0.173667#011validation-error:0.1928\u001b[0m\n",
      "\u001b[34m[13:03:15] src/tree/updater_prune.cc:74: tree pruning end, 1 roots, 34 extra nodes, 4 pruned nodes, max_depth=5\u001b[0m\n",
      "\u001b[34m[28]#011train-error:0.171667#011validation-error:0.1922\u001b[0m\n",
      "\u001b[34m[13:03:16] src/tree/updater_prune.cc:74: tree pruning end, 1 roots, 22 extra nodes, 12 pruned nodes, max_depth=5\u001b[0m\n",
      "\u001b[34m[29]#011train-error:0.1698#011validation-error:0.1906\u001b[0m\n",
      "\u001b[34m[13:03:17] src/tree/updater_prune.cc:74: tree pruning end, 1 roots, 32 extra nodes, 6 pruned nodes, max_depth=5\u001b[0m\n",
      "\u001b[34m[30]#011train-error:0.1676#011validation-error:0.1893\u001b[0m\n",
      "\u001b[34m[13:03:19] src/tree/updater_prune.cc:74: tree pruning end, 1 roots, 32 extra nodes, 6 pruned nodes, max_depth=5\u001b[0m\n",
      "\u001b[34m[31]#011train-error:0.165333#011validation-error:0.1866\u001b[0m\n",
      "\u001b[34m[13:03:20] src/tree/updater_prune.cc:74: tree pruning end, 1 roots, 42 extra nodes, 10 pruned nodes, max_depth=5\u001b[0m\n",
      "\u001b[34m[32]#011train-error:0.162533#011validation-error:0.1848\u001b[0m\n",
      "\u001b[34m[13:03:21] src/tree/updater_prune.cc:74: tree pruning end, 1 roots, 20 extra nodes, 12 pruned nodes, max_depth=5\u001b[0m\n",
      "\u001b[34m[33]#011train-error:0.161133#011validation-error:0.1841\u001b[0m\n",
      "\u001b[34m[13:03:22] src/tree/updater_prune.cc:74: tree pruning end, 1 roots, 34 extra nodes, 6 pruned nodes, max_depth=5\u001b[0m\n",
      "\u001b[34m[34]#011train-error:0.159333#011validation-error:0.1832\u001b[0m\n",
      "\u001b[34m[13:03:24] src/tree/updater_prune.cc:74: tree pruning end, 1 roots, 10 extra nodes, 8 pruned nodes, max_depth=5\u001b[0m\n",
      "\u001b[34m[35]#011train-error:0.158267#011validation-error:0.1817\u001b[0m\n",
      "\u001b[34m[13:03:25] src/tree/updater_prune.cc:74: tree pruning end, 1 roots, 26 extra nodes, 6 pruned nodes, max_depth=5\u001b[0m\n",
      "\u001b[34m[36]#011train-error:0.157467#011validation-error:0.1807\u001b[0m\n",
      "\u001b[34m[13:03:26] src/tree/updater_prune.cc:74: tree pruning end, 1 roots, 18 extra nodes, 14 pruned nodes, max_depth=5\u001b[0m\n",
      "\u001b[34m[37]#011train-error:0.156133#011validation-error:0.1783\u001b[0m\n",
      "\u001b[34m[13:03:28] src/tree/updater_prune.cc:74: tree pruning end, 1 roots, 26 extra nodes, 8 pruned nodes, max_depth=5\u001b[0m\n",
      "\u001b[34m[38]#011train-error:0.155667#011validation-error:0.1781\u001b[0m\n"
     ]
    },
    {
     "name": "stdout",
     "output_type": "stream",
     "text": [
      "\u001b[34m[13:03:29] src/tree/updater_prune.cc:74: tree pruning end, 1 roots, 16 extra nodes, 12 pruned nodes, max_depth=5\u001b[0m\n",
      "\u001b[34m[39]#011train-error:0.154667#011validation-error:0.1769\u001b[0m\n",
      "\u001b[34m[13:03:30] src/tree/updater_prune.cc:74: tree pruning end, 1 roots, 18 extra nodes, 6 pruned nodes, max_depth=5\u001b[0m\n",
      "\u001b[34m[40]#011train-error:0.153467#011validation-error:0.1741\u001b[0m\n",
      "\u001b[34m[13:03:31] src/tree/updater_prune.cc:74: tree pruning end, 1 roots, 28 extra nodes, 14 pruned nodes, max_depth=5\u001b[0m\n",
      "\u001b[34m[41]#011train-error:0.151467#011validation-error:0.1735\u001b[0m\n",
      "\u001b[34m[13:03:33] src/tree/updater_prune.cc:74: tree pruning end, 1 roots, 16 extra nodes, 10 pruned nodes, max_depth=5\u001b[0m\n",
      "\u001b[34m[42]#011train-error:0.151533#011validation-error:0.1728\u001b[0m\n",
      "\u001b[34m[13:03:34] src/tree/updater_prune.cc:74: tree pruning end, 1 roots, 24 extra nodes, 8 pruned nodes, max_depth=5\u001b[0m\n",
      "\u001b[34m[43]#011train-error:0.150133#011validation-error:0.1716\u001b[0m\n",
      "\u001b[34m[13:03:35] src/tree/updater_prune.cc:74: tree pruning end, 1 roots, 30 extra nodes, 10 pruned nodes, max_depth=5\u001b[0m\n",
      "\u001b[34m[44]#011train-error:0.148333#011validation-error:0.1711\u001b[0m\n",
      "\u001b[34m[13:03:36] src/tree/updater_prune.cc:74: tree pruning end, 1 roots, 16 extra nodes, 12 pruned nodes, max_depth=5\u001b[0m\n",
      "\u001b[34m[45]#011train-error:0.147933#011validation-error:0.1709\u001b[0m\n",
      "\u001b[34m[13:03:38] src/tree/updater_prune.cc:74: tree pruning end, 1 roots, 18 extra nodes, 12 pruned nodes, max_depth=5\u001b[0m\n",
      "\u001b[34m[46]#011train-error:0.146267#011validation-error:0.1693\u001b[0m\n",
      "\u001b[34m[13:03:39] src/tree/updater_prune.cc:74: tree pruning end, 1 roots, 14 extra nodes, 18 pruned nodes, max_depth=5\u001b[0m\n",
      "\u001b[34m[47]#011train-error:0.145333#011validation-error:0.1691\u001b[0m\n",
      "\u001b[34m[13:03:40] src/tree/updater_prune.cc:74: tree pruning end, 1 roots, 10 extra nodes, 14 pruned nodes, max_depth=5\u001b[0m\n",
      "\u001b[34m[48]#011train-error:0.1444#011validation-error:0.1679\u001b[0m\n",
      "\u001b[34m[13:03:41] src/tree/updater_prune.cc:74: tree pruning end, 1 roots, 26 extra nodes, 6 pruned nodes, max_depth=5\u001b[0m\n",
      "\u001b[34m[49]#011train-error:0.143533#011validation-error:0.1671\u001b[0m\n",
      "\u001b[34m[13:03:43] src/tree/updater_prune.cc:74: tree pruning end, 1 roots, 40 extra nodes, 4 pruned nodes, max_depth=5\u001b[0m\n",
      "\u001b[34m[50]#011train-error:0.1408#011validation-error:0.1659\u001b[0m\n",
      "\u001b[34m[13:03:44] src/tree/updater_prune.cc:74: tree pruning end, 1 roots, 12 extra nodes, 6 pruned nodes, max_depth=5\u001b[0m\n",
      "\u001b[34m[51]#011train-error:0.140533#011validation-error:0.1653\u001b[0m\n",
      "\u001b[34m[13:03:45] src/tree/updater_prune.cc:74: tree pruning end, 1 roots, 30 extra nodes, 6 pruned nodes, max_depth=5\u001b[0m\n",
      "\u001b[34m[52]#011train-error:0.140467#011validation-error:0.1653\u001b[0m\n",
      "\u001b[34m[13:03:46] src/tree/updater_prune.cc:74: tree pruning end, 1 roots, 28 extra nodes, 6 pruned nodes, max_depth=5\u001b[0m\n",
      "\u001b[34m[53]#011train-error:0.138667#011validation-error:0.1645\u001b[0m\n",
      "\u001b[34m[13:03:48] src/tree/updater_prune.cc:74: tree pruning end, 1 roots, 18 extra nodes, 8 pruned nodes, max_depth=5\u001b[0m\n",
      "\u001b[34m[54]#011train-error:0.138#011validation-error:0.1625\u001b[0m\n",
      "\u001b[34m[13:03:49] src/tree/updater_prune.cc:74: tree pruning end, 1 roots, 26 extra nodes, 12 pruned nodes, max_depth=5\u001b[0m\n",
      "\u001b[34m[55]#011train-error:0.136#011validation-error:0.1611\u001b[0m\n",
      "\u001b[34m[13:03:50] src/tree/updater_prune.cc:74: tree pruning end, 1 roots, 26 extra nodes, 8 pruned nodes, max_depth=5\u001b[0m\n",
      "\u001b[34m[56]#011train-error:0.135267#011validation-error:0.1597\u001b[0m\n",
      "\u001b[34m[13:03:52] src/tree/updater_prune.cc:74: tree pruning end, 1 roots, 24 extra nodes, 10 pruned nodes, max_depth=5\u001b[0m\n",
      "\u001b[34m[57]#011train-error:0.1334#011validation-error:0.1607\u001b[0m\n",
      "\u001b[34m[13:03:53] src/tree/updater_prune.cc:74: tree pruning end, 1 roots, 30 extra nodes, 8 pruned nodes, max_depth=5\u001b[0m\n",
      "\u001b[34m[58]#011train-error:0.131667#011validation-error:0.16\u001b[0m\n",
      "\u001b[34m[13:03:54] src/tree/updater_prune.cc:74: tree pruning end, 1 roots, 14 extra nodes, 16 pruned nodes, max_depth=5\u001b[0m\n",
      "\u001b[34m[59]#011train-error:0.131933#011validation-error:0.1586\u001b[0m\n",
      "\u001b[34m[13:03:55] src/tree/updater_prune.cc:74: tree pruning end, 1 roots, 18 extra nodes, 4 pruned nodes, max_depth=5\u001b[0m\n",
      "\u001b[34m[60]#011train-error:0.1312#011validation-error:0.1575\u001b[0m\n",
      "\u001b[34m[13:03:57] src/tree/updater_prune.cc:74: tree pruning end, 1 roots, 10 extra nodes, 6 pruned nodes, max_depth=5\u001b[0m\n",
      "\u001b[34m[61]#011train-error:0.130467#011validation-error:0.157\u001b[0m\n",
      "\u001b[34m[13:03:58] src/tree/updater_prune.cc:74: tree pruning end, 1 roots, 22 extra nodes, 8 pruned nodes, max_depth=5\u001b[0m\n",
      "\u001b[34m[62]#011train-error:0.130133#011validation-error:0.157\u001b[0m\n",
      "\u001b[34m[13:03:59] src/tree/updater_prune.cc:74: tree pruning end, 1 roots, 16 extra nodes, 10 pruned nodes, max_depth=5\u001b[0m\n",
      "\u001b[34m[63]#011train-error:0.129667#011validation-error:0.1563\u001b[0m\n",
      "\u001b[34m[13:04:00] src/tree/updater_prune.cc:74: tree pruning end, 1 roots, 20 extra nodes, 4 pruned nodes, max_depth=5\u001b[0m\n",
      "\u001b[34m[64]#011train-error:0.129067#011validation-error:0.1563\u001b[0m\n",
      "\u001b[34m[13:04:02] src/tree/updater_prune.cc:74: tree pruning end, 1 roots, 22 extra nodes, 6 pruned nodes, max_depth=5\u001b[0m\n",
      "\u001b[34m[65]#011train-error:0.127467#011validation-error:0.158\u001b[0m\n",
      "\u001b[34m[13:04:03] src/tree/updater_prune.cc:74: tree pruning end, 1 roots, 30 extra nodes, 10 pruned nodes, max_depth=5\u001b[0m\n",
      "\u001b[34m[66]#011train-error:0.125467#011validation-error:0.1566\u001b[0m\n",
      "\u001b[34m[13:04:04] src/tree/updater_prune.cc:74: tree pruning end, 1 roots, 14 extra nodes, 16 pruned nodes, max_depth=5\u001b[0m\n",
      "\u001b[34m[67]#011train-error:0.124933#011validation-error:0.1546\u001b[0m\n",
      "\u001b[34m[13:04:05] src/tree/updater_prune.cc:74: tree pruning end, 1 roots, 12 extra nodes, 10 pruned nodes, max_depth=5\u001b[0m\n",
      "\u001b[34m[68]#011train-error:0.124533#011validation-error:0.1552\u001b[0m\n",
      "\u001b[34m[13:04:07] src/tree/updater_prune.cc:74: tree pruning end, 1 roots, 24 extra nodes, 6 pruned nodes, max_depth=5\u001b[0m\n",
      "\u001b[34m[69]#011train-error:0.123667#011validation-error:0.1547\u001b[0m\n",
      "\u001b[34m[13:04:08] src/tree/updater_prune.cc:74: tree pruning end, 1 roots, 18 extra nodes, 16 pruned nodes, max_depth=5\u001b[0m\n",
      "\u001b[34m[70]#011train-error:0.1246#011validation-error:0.154\u001b[0m\n",
      "\u001b[34m[13:04:09] src/tree/updater_prune.cc:74: tree pruning end, 1 roots, 20 extra nodes, 4 pruned nodes, max_depth=5\u001b[0m\n",
      "\u001b[34m[71]#011train-error:0.123867#011validation-error:0.1534\u001b[0m\n",
      "\u001b[34m[13:04:10] src/tree/updater_prune.cc:74: tree pruning end, 1 roots, 12 extra nodes, 12 pruned nodes, max_depth=5\u001b[0m\n",
      "\u001b[34m[72]#011train-error:0.1236#011validation-error:0.1537\u001b[0m\n",
      "\u001b[34m[13:04:12] src/tree/updater_prune.cc:74: tree pruning end, 1 roots, 18 extra nodes, 2 pruned nodes, max_depth=5\u001b[0m\n",
      "\u001b[34m[73]#011train-error:0.122733#011validation-error:0.1544\u001b[0m\n",
      "\u001b[34m[13:04:13] src/tree/updater_prune.cc:74: tree pruning end, 1 roots, 18 extra nodes, 6 pruned nodes, max_depth=5\u001b[0m\n",
      "\u001b[34m[74]#011train-error:0.123133#011validation-error:0.1523\u001b[0m\n",
      "\u001b[34m[13:04:14] src/tree/updater_prune.cc:74: tree pruning end, 1 roots, 22 extra nodes, 12 pruned nodes, max_depth=5\u001b[0m\n",
      "\u001b[34m[75]#011train-error:0.122533#011validation-error:0.1523\u001b[0m\n",
      "\u001b[34m[13:04:16] src/tree/updater_prune.cc:74: tree pruning end, 1 roots, 16 extra nodes, 6 pruned nodes, max_depth=5\u001b[0m\n",
      "\u001b[34m[76]#011train-error:0.122267#011validation-error:0.1513\u001b[0m\n",
      "\u001b[34m[13:04:17] src/tree/updater_prune.cc:74: tree pruning end, 1 roots, 14 extra nodes, 14 pruned nodes, max_depth=5\u001b[0m\n",
      "\u001b[34m[77]#011train-error:0.121667#011validation-error:0.1514\u001b[0m\n",
      "\u001b[34m[13:04:18] src/tree/updater_prune.cc:74: tree pruning end, 1 roots, 14 extra nodes, 12 pruned nodes, max_depth=5\u001b[0m\n",
      "\u001b[34m[78]#011train-error:0.12#011validation-error:0.152\u001b[0m\n",
      "\u001b[34m[13:04:19] src/tree/updater_prune.cc:74: tree pruning end, 1 roots, 24 extra nodes, 2 pruned nodes, max_depth=5\u001b[0m\n",
      "\u001b[34m[79]#011train-error:0.1192#011validation-error:0.1502\u001b[0m\n",
      "\u001b[34m[13:04:21] src/tree/updater_prune.cc:74: tree pruning end, 1 roots, 18 extra nodes, 12 pruned nodes, max_depth=5\u001b[0m\n",
      "\u001b[34m[80]#011train-error:0.1188#011validation-error:0.1497\u001b[0m\n",
      "\u001b[34m[13:04:22] src/tree/updater_prune.cc:74: tree pruning end, 1 roots, 18 extra nodes, 4 pruned nodes, max_depth=5\u001b[0m\n",
      "\u001b[34m[81]#011train-error:0.1184#011validation-error:0.1484\u001b[0m\n",
      "\u001b[34m[13:04:23] src/tree/updater_prune.cc:74: tree pruning end, 1 roots, 14 extra nodes, 8 pruned nodes, max_depth=5\u001b[0m\n",
      "\u001b[34m[82]#011train-error:0.118133#011validation-error:0.1488\u001b[0m\n",
      "\u001b[34m[13:04:24] src/tree/updater_prune.cc:74: tree pruning end, 1 roots, 12 extra nodes, 12 pruned nodes, max_depth=5\u001b[0m\n",
      "\u001b[34m[83]#011train-error:0.1178#011validation-error:0.1491\u001b[0m\n",
      "\u001b[34m[13:04:26] src/tree/updater_prune.cc:74: tree pruning end, 1 roots, 24 extra nodes, 6 pruned nodes, max_depth=5\u001b[0m\n",
      "\u001b[34m[84]#011train-error:0.116267#011validation-error:0.1489\u001b[0m\n",
      "\u001b[34m[13:04:27] src/tree/updater_prune.cc:74: tree pruning end, 1 roots, 10 extra nodes, 2 pruned nodes, max_depth=5\u001b[0m\n",
      "\u001b[34m[85]#011train-error:0.115733#011validation-error:0.1493\u001b[0m\n",
      "\u001b[34m[13:04:28] src/tree/updater_prune.cc:74: tree pruning end, 1 roots, 20 extra nodes, 8 pruned nodes, max_depth=5\u001b[0m\n",
      "\u001b[34m[86]#011train-error:0.114867#011validation-error:0.1488\u001b[0m\n"
     ]
    },
    {
     "name": "stdout",
     "output_type": "stream",
     "text": [
      "\u001b[34m[13:04:29] src/tree/updater_prune.cc:74: tree pruning end, 1 roots, 20 extra nodes, 8 pruned nodes, max_depth=5\u001b[0m\n",
      "\u001b[34m[87]#011train-error:0.114133#011validation-error:0.1491\u001b[0m\n",
      "\u001b[34m[13:04:31] src/tree/updater_prune.cc:74: tree pruning end, 1 roots, 24 extra nodes, 12 pruned nodes, max_depth=5\u001b[0m\n",
      "\u001b[34m[88]#011train-error:0.112867#011validation-error:0.1489\u001b[0m\n",
      "\u001b[34m[13:04:32] src/tree/updater_prune.cc:74: tree pruning end, 1 roots, 20 extra nodes, 2 pruned nodes, max_depth=5\u001b[0m\n",
      "\u001b[34m[89]#011train-error:0.113333#011validation-error:0.1491\u001b[0m\n",
      "\u001b[34m[13:04:33] src/tree/updater_prune.cc:74: tree pruning end, 1 roots, 16 extra nodes, 6 pruned nodes, max_depth=5\u001b[0m\n",
      "\u001b[34m[90]#011train-error:0.112733#011validation-error:0.1486\u001b[0m\n",
      "\n",
      "2020-02-23 13:04:46 Uploading - Uploading generated training model\n",
      "2020-02-23 13:04:46 Completed - Training job completed\n",
      "\u001b[34m[13:04:35] src/tree/updater_prune.cc:74: tree pruning end, 1 roots, 22 extra nodes, 4 pruned nodes, max_depth=5\u001b[0m\n",
      "\u001b[34m[91]#011train-error:0.114#011validation-error:0.1493\u001b[0m\n",
      "\u001b[34mStopping. Best iteration:\u001b[0m\n",
      "\u001b[34m[81]#011train-error:0.1184#011validation-error:0.1484\n",
      "\u001b[0m\n",
      "Training seconds: 184\n",
      "Billable seconds: 184\n"
     ]
    }
   ],
   "source": [
    "xgb.fit({'train': s3_input_train, 'validation': s3_input_validation})"
   ]
  },
  {
   "cell_type": "markdown",
   "metadata": {},
   "source": [
    "### Testing the model\n",
    "\n",
    "Now that we've fit our XGBoost model, it's time to see how well it performs. To do this we will use SageMakers Batch Transform functionality. Batch Transform is a convenient way to perform inference on a large dataset in a way that is not realtime. That is, we don't necessarily need to use our model's results immediately and instead we can peform inference on a large number of samples. An example of this in industry might be peforming an end of month report. This method of inference can also be useful to us as it means to can perform inference on our entire test set. \n",
    "\n",
    "To perform a Batch Transformation we need to first create a transformer objects from our trained estimator object."
   ]
  },
  {
   "cell_type": "code",
   "execution_count": 24,
   "metadata": {},
   "outputs": [],
   "source": [
    "xgb_transformer = xgb.transformer(instance_count = 1, instance_type = 'ml.m4.xlarge')"
   ]
  },
  {
   "cell_type": "markdown",
   "metadata": {},
   "source": [
    "Next we actually perform the transform job. When doing so we need to make sure to specify the type of data we are sending so that it is serialized correctly in the background. In our case we are providing our model with csv data so we specify `text/csv`. Also, if the test data that we have provided is too large to process all at once then we need to specify how the data file should be split up. Since each line is a single entry in our data set we tell SageMaker that it can split the input on each line."
   ]
  },
  {
   "cell_type": "code",
   "execution_count": 25,
   "metadata": {},
   "outputs": [],
   "source": [
    "xgb_transformer.transform(test_location, content_type='text/csv', split_type='Line')"
   ]
  },
  {
   "cell_type": "markdown",
   "metadata": {},
   "source": [
    "Currently the transform job is running but it is doing so in the background. Since we wish to wait until the transform job is done and we would like a bit of feedback we can run the `wait()` method."
   ]
  },
  {
   "cell_type": "code",
   "execution_count": 26,
   "metadata": {},
   "outputs": [
    {
     "name": "stdout",
     "output_type": "stream",
     "text": [
      "........................\u001b[34mArguments: serve\u001b[0m\n",
      "\u001b[34m[2020-02-23 13:08:40 +0000] [1] [INFO] Starting gunicorn 19.7.1\u001b[0m\n",
      "\u001b[34m[2020-02-23 13:08:40 +0000] [1] [INFO] Listening at: http://0.0.0.0:8080 (1)\u001b[0m\n",
      "\u001b[34m[2020-02-23 13:08:40 +0000] [1] [INFO] Using worker: gevent\u001b[0m\n",
      "\u001b[34m[2020-02-23 13:08:40 +0000] [37] [INFO] Booting worker with pid: 37\u001b[0m\n",
      "\u001b[34m[2020-02-23 13:08:40 +0000] [38] [INFO] Booting worker with pid: 38\u001b[0m\n",
      "\u001b[34m[2020-02-23 13:08:40 +0000] [39] [INFO] Booting worker with pid: 39\u001b[0m\n",
      "\u001b[34m[2020-02-23:13:08:41:INFO] Model loaded successfully for worker : 37\u001b[0m\n",
      "\u001b[34m[2020-02-23 13:08:41 +0000] [40] [INFO] Booting worker with pid: 40\u001b[0m\n",
      "\u001b[34m[2020-02-23:13:08:41:INFO] Model loaded successfully for worker : 38\u001b[0m\n",
      "\u001b[34m[2020-02-23:13:08:41:INFO] Model loaded successfully for worker : 39\u001b[0m\n",
      "\u001b[34m[2020-02-23:13:08:41:INFO] Model loaded successfully for worker : 40\u001b[0m\n",
      "\u001b[32m2020-02-23T13:09:01.266:[sagemaker logs]: MaxConcurrentTransforms=4, MaxPayloadInMB=6, BatchStrategy=MULTI_RECORD\u001b[0m\n",
      "\u001b[34m[2020-02-23:13:09:04:INFO] Sniff delimiter as ','\u001b[0m\n",
      "\u001b[34m[2020-02-23:13:09:04:INFO] Determined delimiter of CSV input is ','\u001b[0m\n",
      "\u001b[35m[2020-02-23:13:09:04:INFO] Sniff delimiter as ','\u001b[0m\n",
      "\u001b[35m[2020-02-23:13:09:04:INFO] Determined delimiter of CSV input is ','\u001b[0m\n",
      "\u001b[34m[2020-02-23:13:09:04:INFO] Sniff delimiter as ','\u001b[0m\n",
      "\u001b[34m[2020-02-23:13:09:04:INFO] Determined delimiter of CSV input is ','\u001b[0m\n",
      "\u001b[35m[2020-02-23:13:09:04:INFO] Sniff delimiter as ','\u001b[0m\n",
      "\u001b[35m[2020-02-23:13:09:04:INFO] Determined delimiter of CSV input is ','\u001b[0m\n",
      "\u001b[34m[2020-02-23:13:09:04:INFO] Sniff delimiter as ','\u001b[0m\n",
      "\u001b[34m[2020-02-23:13:09:04:INFO] Determined delimiter of CSV input is ','\u001b[0m\n",
      "\u001b[34m[2020-02-23:13:09:04:INFO] Sniff delimiter as ','\u001b[0m\n",
      "\u001b[34m[2020-02-23:13:09:04:INFO] Determined delimiter of CSV input is ','\u001b[0m\n",
      "\u001b[35m[2020-02-23:13:09:04:INFO] Sniff delimiter as ','\u001b[0m\n",
      "\u001b[35m[2020-02-23:13:09:04:INFO] Determined delimiter of CSV input is ','\u001b[0m\n",
      "\u001b[35m[2020-02-23:13:09:04:INFO] Sniff delimiter as ','\u001b[0m\n",
      "\u001b[35m[2020-02-23:13:09:04:INFO] Determined delimiter of CSV input is ','\u001b[0m\n",
      "\u001b[34m[2020-02-23:13:09:07:INFO] Sniff delimiter as ','\u001b[0m\n",
      "\u001b[34m[2020-02-23:13:09:07:INFO] Determined delimiter of CSV input is ','\u001b[0m\n",
      "\u001b[34m[2020-02-23:13:09:07:INFO] Sniff delimiter as ','\u001b[0m\n",
      "\u001b[34m[2020-02-23:13:09:07:INFO] Determined delimiter of CSV input is ','\u001b[0m\n",
      "\u001b[34m[2020-02-23:13:09:07:INFO] Sniff delimiter as ','\u001b[0m\n",
      "\u001b[34m[2020-02-23:13:09:07:INFO] Determined delimiter of CSV input is ','\u001b[0m\n",
      "\u001b[34m[2020-02-23:13:09:07:INFO] Sniff delimiter as ','\u001b[0m\n",
      "\u001b[34m[2020-02-23:13:09:07:INFO] Determined delimiter of CSV input is ','\u001b[0m\n",
      "\u001b[35m[2020-02-23:13:09:07:INFO] Sniff delimiter as ','\u001b[0m\n",
      "\u001b[35m[2020-02-23:13:09:07:INFO] Determined delimiter of CSV input is ','\u001b[0m\n",
      "\u001b[35m[2020-02-23:13:09:07:INFO] Sniff delimiter as ','\u001b[0m\n",
      "\u001b[35m[2020-02-23:13:09:07:INFO] Determined delimiter of CSV input is ','\u001b[0m\n",
      "\u001b[35m[2020-02-23:13:09:07:INFO] Sniff delimiter as ','\u001b[0m\n",
      "\u001b[35m[2020-02-23:13:09:07:INFO] Determined delimiter of CSV input is ','\u001b[0m\n",
      "\u001b[35m[2020-02-23:13:09:07:INFO] Sniff delimiter as ','\u001b[0m\n",
      "\u001b[35m[2020-02-23:13:09:07:INFO] Determined delimiter of CSV input is ','\u001b[0m\n",
      "\u001b[34m[2020-02-23:13:09:11:INFO] Sniff delimiter as ','\u001b[0m\n",
      "\u001b[35m[2020-02-23:13:09:11:INFO] Sniff delimiter as ','\u001b[0m\n",
      "\u001b[34m[2020-02-23:13:09:11:INFO] Determined delimiter of CSV input is ','\u001b[0m\n",
      "\u001b[34m[2020-02-23:13:09:12:INFO] Sniff delimiter as ','\u001b[0m\n",
      "\u001b[34m[2020-02-23:13:09:12:INFO] Determined delimiter of CSV input is ','\u001b[0m\n",
      "\u001b[34m[2020-02-23:13:09:12:INFO] Sniff delimiter as ','\u001b[0m\n",
      "\u001b[34m[2020-02-23:13:09:12:INFO] Determined delimiter of CSV input is ','\u001b[0m\n",
      "\u001b[34m[2020-02-23:13:09:12:INFO] Sniff delimiter as ','\u001b[0m\n",
      "\u001b[34m[2020-02-23:13:09:12:INFO] Determined delimiter of CSV input is ','\u001b[0m\n",
      "\u001b[35m[2020-02-23:13:09:11:INFO] Determined delimiter of CSV input is ','\u001b[0m\n",
      "\u001b[35m[2020-02-23:13:09:12:INFO] Sniff delimiter as ','\u001b[0m\n",
      "\u001b[35m[2020-02-23:13:09:12:INFO] Determined delimiter of CSV input is ','\u001b[0m\n",
      "\u001b[35m[2020-02-23:13:09:12:INFO] Sniff delimiter as ','\u001b[0m\n",
      "\u001b[35m[2020-02-23:13:09:12:INFO] Determined delimiter of CSV input is ','\u001b[0m\n",
      "\u001b[35m[2020-02-23:13:09:12:INFO] Sniff delimiter as ','\u001b[0m\n",
      "\u001b[35m[2020-02-23:13:09:12:INFO] Determined delimiter of CSV input is ','\u001b[0m\n",
      "\u001b[34m[2020-02-23:13:09:14:INFO] Sniff delimiter as ','\u001b[0m\n",
      "\u001b[34m[2020-02-23:13:09:14:INFO] Determined delimiter of CSV input is ','\u001b[0m\n",
      "\u001b[34m[2020-02-23:13:09:14:INFO] Sniff delimiter as ','\u001b[0m\n",
      "\u001b[34m[2020-02-23:13:09:14:INFO] Determined delimiter of CSV input is ','\u001b[0m\n",
      "\u001b[34m[2020-02-23:13:09:14:INFO] Sniff delimiter as ','\u001b[0m\n",
      "\u001b[34m[2020-02-23:13:09:14:INFO] Determined delimiter of CSV input is ','\u001b[0m\n",
      "\u001b[35m[2020-02-23:13:09:14:INFO] Sniff delimiter as ','\u001b[0m\n",
      "\u001b[35m[2020-02-23:13:09:14:INFO] Determined delimiter of CSV input is ','\u001b[0m\n",
      "\u001b[35m[2020-02-23:13:09:14:INFO] Sniff delimiter as ','\u001b[0m\n",
      "\u001b[35m[2020-02-23:13:09:14:INFO] Determined delimiter of CSV input is ','\u001b[0m\n",
      "\u001b[35m[2020-02-23:13:09:14:INFO] Sniff delimiter as ','\u001b[0m\n",
      "\u001b[35m[2020-02-23:13:09:14:INFO] Determined delimiter of CSV input is ','\u001b[0m\n",
      "\u001b[34m[2020-02-23:13:09:14:INFO] Sniff delimiter as ','\u001b[0m\n",
      "\u001b[35m[2020-02-23:13:09:14:INFO] Sniff delimiter as ','\u001b[0m\n",
      "\u001b[34m[2020-02-23:13:09:14:INFO] Determined delimiter of CSV input is ','\u001b[0m\n",
      "\u001b[35m[2020-02-23:13:09:14:INFO] Determined delimiter of CSV input is ','\u001b[0m\n",
      "\u001b[34m[2020-02-23:13:09:16:INFO] Sniff delimiter as ','\u001b[0m\n",
      "\u001b[34m[2020-02-23:13:09:16:INFO] Determined delimiter of CSV input is ','\u001b[0m\n",
      "\u001b[34m[2020-02-23:13:09:16:INFO] Sniff delimiter as ','\u001b[0m\n",
      "\u001b[34m[2020-02-23:13:09:16:INFO] Determined delimiter of CSV input is ','\u001b[0m\n",
      "\u001b[35m[2020-02-23:13:09:16:INFO] Sniff delimiter as ','\u001b[0m\n",
      "\u001b[35m[2020-02-23:13:09:16:INFO] Determined delimiter of CSV input is ','\u001b[0m\n",
      "\u001b[35m[2020-02-23:13:09:16:INFO] Sniff delimiter as ','\u001b[0m\n",
      "\u001b[35m[2020-02-23:13:09:16:INFO] Determined delimiter of CSV input is ','\u001b[0m\n",
      "\u001b[34m[2020-02-23:13:09:17:INFO] Sniff delimiter as ','\u001b[0m\n",
      "\u001b[34m[2020-02-23:13:09:17:INFO] Determined delimiter of CSV input is ','\u001b[0m\n",
      "\u001b[34m[2020-02-23:13:09:17:INFO] Sniff delimiter as ','\u001b[0m\n",
      "\u001b[34m[2020-02-23:13:09:17:INFO] Determined delimiter of CSV input is ','\u001b[0m\n",
      "\u001b[35m[2020-02-23:13:09:17:INFO] Sniff delimiter as ','\u001b[0m\n",
      "\u001b[35m[2020-02-23:13:09:17:INFO] Determined delimiter of CSV input is ','\u001b[0m\n",
      "\u001b[35m[2020-02-23:13:09:17:INFO] Sniff delimiter as ','\u001b[0m\n",
      "\u001b[35m[2020-02-23:13:09:17:INFO] Determined delimiter of CSV input is ','\u001b[0m\n",
      "\n",
      "\u001b[34m[2020-02-23:13:09:19:INFO] Sniff delimiter as ','\u001b[0m\n",
      "\u001b[34m[2020-02-23:13:09:19:INFO] Determined delimiter of CSV input is ','\u001b[0m\n",
      "\u001b[34m[2020-02-23:13:09:19:INFO] Sniff delimiter as ','\u001b[0m\n",
      "\u001b[34m[2020-02-23:13:09:19:INFO] Determined delimiter of CSV input is ','\u001b[0m\n",
      "\u001b[35m[2020-02-23:13:09:19:INFO] Sniff delimiter as ','\u001b[0m\n",
      "\u001b[35m[2020-02-23:13:09:19:INFO] Determined delimiter of CSV input is ','\u001b[0m\n",
      "\u001b[35m[2020-02-23:13:09:19:INFO] Sniff delimiter as ','\u001b[0m\n",
      "\u001b[35m[2020-02-23:13:09:19:INFO] Determined delimiter of CSV input is ','\u001b[0m\n",
      "\u001b[34m[2020-02-23:13:09:21:INFO] Sniff delimiter as ','\u001b[0m\n",
      "\u001b[34m[2020-02-23:13:09:21:INFO] Determined delimiter of CSV input is ','\u001b[0m\n",
      "\u001b[35m[2020-02-23:13:09:21:INFO] Sniff delimiter as ','\u001b[0m\n",
      "\u001b[35m[2020-02-23:13:09:21:INFO] Determined delimiter of CSV input is ','\u001b[0m\n",
      "\u001b[34m[2020-02-23:13:09:21:INFO] Sniff delimiter as ','\u001b[0m\n",
      "\u001b[34m[2020-02-23:13:09:21:INFO] Determined delimiter of CSV input is ','\u001b[0m\n",
      "\u001b[34m[2020-02-23:13:09:21:INFO] Sniff delimiter as ','\u001b[0m\n",
      "\u001b[34m[2020-02-23:13:09:21:INFO] Determined delimiter of CSV input is ','\u001b[0m\n",
      "\u001b[34m[2020-02-23:13:09:21:INFO] Sniff delimiter as ','\u001b[0m\n",
      "\u001b[34m[2020-02-23:13:09:21:INFO] Determined delimiter of CSV input is ','\u001b[0m\n",
      "\u001b[35m[2020-02-23:13:09:21:INFO] Sniff delimiter as ','\u001b[0m\n",
      "\u001b[35m[2020-02-23:13:09:21:INFO] Determined delimiter of CSV input is ','\u001b[0m\n",
      "\u001b[35m[2020-02-23:13:09:21:INFO] Sniff delimiter as ','\u001b[0m\n",
      "\u001b[35m[2020-02-23:13:09:21:INFO] Determined delimiter of CSV input is ','\u001b[0m\n",
      "\u001b[35m[2020-02-23:13:09:21:INFO] Sniff delimiter as ','\u001b[0m\n",
      "\u001b[35m[2020-02-23:13:09:21:INFO] Determined delimiter of CSV input is ','\u001b[0m\n",
      "\u001b[34m[2020-02-23:13:09:24:INFO] Sniff delimiter as ','\u001b[0m\n",
      "\u001b[34m[2020-02-23:13:09:24:INFO] Determined delimiter of CSV input is ','\u001b[0m\n",
      "\u001b[34m[2020-02-23:13:09:24:INFO] Sniff delimiter as ','\u001b[0m\n",
      "\u001b[34m[2020-02-23:13:09:24:INFO] Determined delimiter of CSV input is ','\u001b[0m\n",
      "\u001b[34m[2020-02-23:13:09:24:INFO] Sniff delimiter as ','\u001b[0m\n",
      "\u001b[34m[2020-02-23:13:09:24:INFO] Determined delimiter of CSV input is ','\u001b[0m\n",
      "\u001b[34m[2020-02-23:13:09:24:INFO] Sniff delimiter as ','\u001b[0m\n",
      "\u001b[34m[2020-02-23:13:09:24:INFO] Determined delimiter of CSV input is ','\u001b[0m\n",
      "\u001b[35m[2020-02-23:13:09:24:INFO] Sniff delimiter as ','\u001b[0m\n",
      "\u001b[35m[2020-02-23:13:09:24:INFO] Determined delimiter of CSV input is ','\u001b[0m\n",
      "\u001b[35m[2020-02-23:13:09:24:INFO] Sniff delimiter as ','\u001b[0m\n",
      "\u001b[35m[2020-02-23:13:09:24:INFO] Determined delimiter of CSV input is ','\u001b[0m\n",
      "\u001b[35m[2020-02-23:13:09:24:INFO] Sniff delimiter as ','\u001b[0m\n",
      "\u001b[35m[2020-02-23:13:09:24:INFO] Determined delimiter of CSV input is ','\u001b[0m\n",
      "\u001b[35m[2020-02-23:13:09:24:INFO] Sniff delimiter as ','\u001b[0m\n",
      "\u001b[35m[2020-02-23:13:09:24:INFO] Determined delimiter of CSV input is ','\u001b[0m\n",
      "\u001b[34m[2020-02-23:13:09:26:INFO] Sniff delimiter as ','\u001b[0m\n",
      "\u001b[34m[2020-02-23:13:09:26:INFO] Determined delimiter of CSV input is ','\u001b[0m\n",
      "\u001b[34m[2020-02-23:13:09:26:INFO] Sniff delimiter as ','\u001b[0m\n",
      "\u001b[34m[2020-02-23:13:09:26:INFO] Determined delimiter of CSV input is ','\u001b[0m\n",
      "\u001b[34m[2020-02-23:13:09:26:INFO] Sniff delimiter as ','\u001b[0m\n",
      "\u001b[35m[2020-02-23:13:09:26:INFO] Sniff delimiter as ','\u001b[0m\n",
      "\u001b[35m[2020-02-23:13:09:26:INFO] Determined delimiter of CSV input is ','\u001b[0m\n",
      "\u001b[35m[2020-02-23:13:09:26:INFO] Sniff delimiter as ','\u001b[0m\n",
      "\u001b[35m[2020-02-23:13:09:26:INFO] Determined delimiter of CSV input is ','\u001b[0m\n",
      "\u001b[35m[2020-02-23:13:09:26:INFO] Sniff delimiter as ','\u001b[0m\n",
      "\u001b[34m[2020-02-23:13:09:26:INFO] Determined delimiter of CSV input is ','\u001b[0m\n",
      "\u001b[35m[2020-02-23:13:09:26:INFO] Determined delimiter of CSV input is ','\u001b[0m\n",
      "\u001b[34m[2020-02-23:13:09:26:INFO] Sniff delimiter as ','\u001b[0m\n",
      "\u001b[34m[2020-02-23:13:09:26:INFO] Determined delimiter of CSV input is ','\u001b[0m\n",
      "\u001b[35m[2020-02-23:13:09:26:INFO] Sniff delimiter as ','\u001b[0m\n",
      "\u001b[35m[2020-02-23:13:09:26:INFO] Determined delimiter of CSV input is ','\u001b[0m\n"
     ]
    }
   ],
   "source": [
    "xgb_transformer.wait()"
   ]
  },
  {
   "cell_type": "markdown",
   "metadata": {},
   "source": [
    "Now the transform job has executed and the result, the estimated sentiment of each review, has been saved on S3. Since we would rather work on this file locally we can perform a bit of notebook magic to copy the file to the `data_dir`."
   ]
  },
  {
   "cell_type": "code",
   "execution_count": 27,
   "metadata": {},
   "outputs": [
    {
     "name": "stdout",
     "output_type": "stream",
     "text": [
      "Completed 256.0 KiB/368.1 KiB (3.6 MiB/s) with 1 file(s) remaining\r",
      "Completed 368.1 KiB/368.1 KiB (5.1 MiB/s) with 1 file(s) remaining\r",
      "download: s3://sagemaker-us-east-2-437802772464/xgboost-2020-02-23-13-05-02-562/test.csv.out to ../data/sentiment_update/test.csv.out\r\n"
     ]
    }
   ],
   "source": [
    "!aws s3 cp --recursive $xgb_transformer.output_path $data_dir"
   ]
  },
  {
   "cell_type": "markdown",
   "metadata": {},
   "source": [
    "The last step is now to read in the output from our model, convert the output to something a little more usable, in this case we want the sentiment to be either `1` (positive) or `0` (negative), and then compare to the ground truth labels."
   ]
  },
  {
   "cell_type": "code",
   "execution_count": 28,
   "metadata": {},
   "outputs": [],
   "source": [
    "predictions = pd.read_csv(os.path.join(data_dir, 'test.csv.out'), header=None)\n",
    "predictions = [round(num) for num in predictions.squeeze().values]"
   ]
  },
  {
   "cell_type": "code",
   "execution_count": 29,
   "metadata": {},
   "outputs": [
    {
     "data": {
      "text/plain": [
       "0.84612"
      ]
     },
     "execution_count": 29,
     "metadata": {},
     "output_type": "execute_result"
    }
   ],
   "source": [
    "from sklearn.metrics import accuracy_score\n",
    "accuracy_score(test_y, predictions)"
   ]
  },
  {
   "cell_type": "markdown",
   "metadata": {},
   "source": [
    "## Step 5: Looking at New Data\n",
    "\n",
    "So now we have an XGBoost sentiment analysis model that we believe is working pretty well. As a result, we deployed it and we are using it in some sort of app.\n",
    "\n",
    "However, as we allow users to use our app we periodically record submitted movie reviews so that we can perform some quality control on our deployed model. Once we've accumulated enough reviews we go through them by hand and evaluate whether they are positive or negative (there are many ways you might do this in practice aside from by hand). The reason for doing this is so that we can check to see how well our model is doing."
   ]
  },
  {
   "cell_type": "code",
   "execution_count": 30,
   "metadata": {},
   "outputs": [],
   "source": [
    "import new_data\n",
    "\n",
    "new_X, new_Y = new_data.get_new_data()"
   ]
  },
  {
   "cell_type": "markdown",
   "metadata": {},
   "source": [
    "**NOTE:** Part of the fun in this notebook is trying to figure out what exactly is happening with the new data, so try not to cheat by looking in the `new_data` module. Also, the `new_data` module assumes that the cache created earlier in Step 3 is still stored in `../cache/sentiment_analysis`."
   ]
  },
  {
   "cell_type": "markdown",
   "metadata": {},
   "source": [
    "### (TODO) Testing the current model\n",
    "\n",
    "Now that we've loaded the new data, let's check to see how our current XGBoost model performs on it.\n",
    "\n",
    "First, note that the data that has been loaded has already been pre-processed so that each entry in `new_X` is a list of words that have been processed using `nltk`. However, we have not yet constructed the bag of words encoding, which we will do now.\n",
    "\n",
    "First, we use the vocabulary that we constructed earlier using the original training data to construct a `CountVectorizer` which we will use to transform our new data into its bag of words encoding.\n",
    "\n",
    "**TODO:** Create the CountVectorizer object using the vocabulary created earlier and use it to transform the new data."
   ]
  },
  {
   "cell_type": "code",
   "execution_count": 31,
   "metadata": {},
   "outputs": [],
   "source": [
    "# TODO: Create the CountVectorizer using the previously constructed vocabulary\n",
    "\n",
    "vectorizer = CountVectorizer(vocabulary=vocabulary,\n",
    "                preprocessor=lambda x: x, tokenizer=lambda x: x)\n",
    "\n",
    "# TODO: Transform our new data set and store the transformed data in the variable new_XV\n",
    "\n",
    "new_XV = vectorizer.transform(new_X).toarray()"
   ]
  },
  {
   "cell_type": "markdown",
   "metadata": {},
   "source": [
    "As a quick sanity check, we make sure that the length of each of our bag of words encoded reviews is correct. In particular, it must be the same size as the vocabulary which in our case is `5000`."
   ]
  },
  {
   "cell_type": "code",
   "execution_count": 32,
   "metadata": {},
   "outputs": [
    {
     "data": {
      "text/plain": [
       "5000"
      ]
     },
     "execution_count": 32,
     "metadata": {},
     "output_type": "execute_result"
    }
   ],
   "source": [
    "len(new_XV[100])"
   ]
  },
  {
   "cell_type": "markdown",
   "metadata": {},
   "source": [
    "Now that we've performed the data processing that is required by our model we can save it locally and then upload it to S3 so that we can construct a batch transform job in order to see how well our model is working.\n",
    "\n",
    "First, we save the data locally.\n",
    "\n",
    "**TODO:** Save the new data (after it has been transformed using the original vocabulary) to the local notebook instance."
   ]
  },
  {
   "cell_type": "code",
   "execution_count": 33,
   "metadata": {},
   "outputs": [],
   "source": [
    "# TODO: Save the data contained in new_XV locally in the data_dir with the file name new_data.csv\n",
    "\n",
    "pd.DataFrame(new_XV).to_csv(os.path.join(data_dir, 'new_data.csv'), header=False, index=False)"
   ]
  },
  {
   "cell_type": "markdown",
   "metadata": {},
   "source": [
    "Next, we upload the data to S3.\n",
    "\n",
    "**TODO:** Upload the csv file created above to S3."
   ]
  },
  {
   "cell_type": "code",
   "execution_count": 34,
   "metadata": {},
   "outputs": [],
   "source": [
    "# TODO: Upload the new_data.csv file contained in the data_dir folder to S3 and save the resulting\n",
    "#       URI as new_data_location\n",
    "\n",
    "\n",
    "new_data_location = session.upload_data(os.path.join(data_dir, 'new_data.csv'), key_prefix=prefix)"
   ]
  },
  {
   "cell_type": "markdown",
   "metadata": {},
   "source": [
    "Then, once the new data has been uploaded to S3, we create and run the batch transform job to get our model's predictions about the sentiment of the new movie reviews.\n",
    "\n",
    "**TODO:** Using the `xgb_transformer` object that was created earlier (at the end of Step 4 to test the XGBoost model), transform the data located at `new_data_location`."
   ]
  },
  {
   "cell_type": "code",
   "execution_count": 35,
   "metadata": {},
   "outputs": [
    {
     "name": "stdout",
     "output_type": "stream",
     "text": [
      "....................\u001b[34mArguments: serve\u001b[0m\n",
      "\u001b[34m[2020-02-23 13:15:11 +0000] [1] [INFO] Starting gunicorn 19.7.1\u001b[0m\n",
      "\u001b[34m[2020-02-23 13:15:11 +0000] [1] [INFO] Listening at: http://0.0.0.0:8080 (1)\u001b[0m\n",
      "\u001b[34m[2020-02-23 13:15:11 +0000] [1] [INFO] Using worker: gevent\u001b[0m\n",
      "\u001b[34m[2020-02-23 13:15:11 +0000] [37] [INFO] Booting worker with pid: 37\u001b[0m\n",
      "\u001b[34m[2020-02-23 13:15:11 +0000] [38] [INFO] Booting worker with pid: 38\u001b[0m\n",
      "\u001b[34m[2020-02-23:13:15:12:INFO] Model loaded successfully for worker : 37\u001b[0m\n",
      "\u001b[34m[2020-02-23 13:15:12 +0000] [39] [INFO] Booting worker with pid: 39\u001b[0m\n",
      "\u001b[34m[2020-02-23 13:15:12 +0000] [40] [INFO] Booting worker with pid: 40\u001b[0m\n",
      "\u001b[34m[2020-02-23:13:15:12:INFO] Model loaded successfully for worker : 38\u001b[0m\n",
      "\u001b[34m[2020-02-23:13:15:12:INFO] Model loaded successfully for worker : 39\u001b[0m\n",
      "\u001b[34m[2020-02-23:13:15:12:INFO] Model loaded successfully for worker : 40\u001b[0m\n",
      "\u001b[32m2020-02-23T13:15:30.670:[sagemaker logs]: MaxConcurrentTransforms=4, MaxPayloadInMB=6, BatchStrategy=MULTI_RECORD\u001b[0m\n",
      "\u001b[34m[2020-02-23:13:15:33:INFO] Sniff delimiter as ','\u001b[0m\n",
      "\u001b[34m[2020-02-23:13:15:33:INFO] Determined delimiter of CSV input is ','\u001b[0m\n",
      "\u001b[35m[2020-02-23:13:15:33:INFO] Sniff delimiter as ','\u001b[0m\n",
      "\u001b[35m[2020-02-23:13:15:33:INFO] Determined delimiter of CSV input is ','\u001b[0m\n",
      "\u001b[34m[2020-02-23:13:15:33:INFO] Sniff delimiter as ','\u001b[0m\n",
      "\u001b[34m[2020-02-23:13:15:33:INFO] Determined delimiter of CSV input is ','\u001b[0m\n",
      "\u001b[34m[2020-02-23:13:15:33:INFO] Sniff delimiter as ','\u001b[0m\n",
      "\u001b[34m[2020-02-23:13:15:33:INFO] Determined delimiter of CSV input is ','\u001b[0m\n",
      "\u001b[34m[2020-02-23:13:15:33:INFO] Sniff delimiter as ','\u001b[0m\n",
      "\u001b[34m[2020-02-23:13:15:33:INFO] Determined delimiter of CSV input is ','\u001b[0m\n",
      "\u001b[35m[2020-02-23:13:15:33:INFO] Sniff delimiter as ','\u001b[0m\n",
      "\u001b[35m[2020-02-23:13:15:33:INFO] Determined delimiter of CSV input is ','\u001b[0m\n",
      "\u001b[35m[2020-02-23:13:15:33:INFO] Sniff delimiter as ','\u001b[0m\n",
      "\u001b[35m[2020-02-23:13:15:33:INFO] Determined delimiter of CSV input is ','\u001b[0m\n",
      "\u001b[35m[2020-02-23:13:15:33:INFO] Sniff delimiter as ','\u001b[0m\n",
      "\u001b[35m[2020-02-23:13:15:33:INFO] Determined delimiter of CSV input is ','\u001b[0m\n",
      "\u001b[34m[2020-02-23:13:15:36:INFO] Sniff delimiter as ','\u001b[0m\n",
      "\u001b[34m[2020-02-23:13:15:36:INFO] Determined delimiter of CSV input is ','\u001b[0m\n",
      "\u001b[34m[2020-02-23:13:15:36:INFO] Sniff delimiter as ','\u001b[0m\n",
      "\u001b[34m[2020-02-23:13:15:36:INFO] Determined delimiter of CSV input is ','\u001b[0m\n",
      "\u001b[34m[2020-02-23:13:15:36:INFO] Sniff delimiter as ','\u001b[0m\n",
      "\u001b[34m[2020-02-23:13:15:36:INFO] Determined delimiter of CSV input is ','\u001b[0m\n",
      "\u001b[35m[2020-02-23:13:15:36:INFO] Sniff delimiter as ','\u001b[0m\n",
      "\u001b[35m[2020-02-23:13:15:36:INFO] Determined delimiter of CSV input is ','\u001b[0m\n",
      "\u001b[35m[2020-02-23:13:15:36:INFO] Sniff delimiter as ','\u001b[0m\n",
      "\u001b[35m[2020-02-23:13:15:36:INFO] Determined delimiter of CSV input is ','\u001b[0m\n",
      "\u001b[35m[2020-02-23:13:15:36:INFO] Sniff delimiter as ','\u001b[0m\n",
      "\u001b[35m[2020-02-23:13:15:36:INFO] Determined delimiter of CSV input is ','\u001b[0m\n",
      "\u001b[34m[2020-02-23:13:15:36:INFO] Sniff delimiter as ','\u001b[0m\n",
      "\u001b[35m[2020-02-23:13:15:36:INFO] Sniff delimiter as ','\u001b[0m\n",
      "\u001b[34m[2020-02-23:13:15:36:INFO] Determined delimiter of CSV input is ','\u001b[0m\n",
      "\u001b[35m[2020-02-23:13:15:36:INFO] Determined delimiter of CSV input is ','\u001b[0m\n",
      "\u001b[34m[2020-02-23:13:15:38:INFO] Determined delimiter of CSV input is ','\u001b[0m\n",
      "\u001b[34m[2020-02-23:13:15:38:INFO] Sniff delimiter as ','\u001b[0m\n",
      "\u001b[35m[2020-02-23:13:15:38:INFO] Determined delimiter of CSV input is ','\u001b[0m\n",
      "\u001b[35m[2020-02-23:13:15:38:INFO] Sniff delimiter as ','\u001b[0m\n",
      "\u001b[34m[2020-02-23:13:15:38:INFO] Determined delimiter of CSV input is ','\u001b[0m\n",
      "\u001b[34m[2020-02-23:13:15:38:INFO] Sniff delimiter as ','\u001b[0m\n",
      "\u001b[34m[2020-02-23:13:15:38:INFO] Determined delimiter of CSV input is ','\u001b[0m\n",
      "\u001b[34m[2020-02-23:13:15:38:INFO] Sniff delimiter as ','\u001b[0m\n",
      "\u001b[34m[2020-02-23:13:15:38:INFO] Determined delimiter of CSV input is ','\u001b[0m\n",
      "\u001b[35m[2020-02-23:13:15:38:INFO] Determined delimiter of CSV input is ','\u001b[0m\n",
      "\u001b[35m[2020-02-23:13:15:38:INFO] Sniff delimiter as ','\u001b[0m\n",
      "\u001b[35m[2020-02-23:13:15:38:INFO] Determined delimiter of CSV input is ','\u001b[0m\n",
      "\u001b[35m[2020-02-23:13:15:38:INFO] Sniff delimiter as ','\u001b[0m\n",
      "\u001b[35m[2020-02-23:13:15:38:INFO] Determined delimiter of CSV input is ','\u001b[0m\n",
      "\u001b[34m[2020-02-23:13:15:40:INFO] Sniff delimiter as ','\u001b[0m\n",
      "\u001b[35m[2020-02-23:13:15:40:INFO] Sniff delimiter as ','\u001b[0m\n",
      "\u001b[34m[2020-02-23:13:15:40:INFO] Determined delimiter of CSV input is ','\u001b[0m\n",
      "\u001b[34m[2020-02-23:13:15:40:INFO] Sniff delimiter as ','\u001b[0m\n",
      "\u001b[34m[2020-02-23:13:15:40:INFO] Determined delimiter of CSV input is ','\u001b[0m\n",
      "\u001b[34m[2020-02-23:13:15:41:INFO] Sniff delimiter as ','\u001b[0m\n",
      "\u001b[34m[2020-02-23:13:15:41:INFO] Determined delimiter of CSV input is ','\u001b[0m\n",
      "\u001b[35m[2020-02-23:13:15:40:INFO] Determined delimiter of CSV input is ','\u001b[0m\n",
      "\u001b[35m[2020-02-23:13:15:40:INFO] Sniff delimiter as ','\u001b[0m\n",
      "\u001b[35m[2020-02-23:13:15:40:INFO] Determined delimiter of CSV input is ','\u001b[0m\n",
      "\u001b[35m[2020-02-23:13:15:41:INFO] Sniff delimiter as ','\u001b[0m\n",
      "\u001b[35m[2020-02-23:13:15:41:INFO] Determined delimiter of CSV input is ','\u001b[0m\n",
      "\u001b[34m[2020-02-23:13:15:41:INFO] Sniff delimiter as ','\u001b[0m\n",
      "\u001b[34m[2020-02-23:13:15:41:INFO] Determined delimiter of CSV input is ','\u001b[0m\n",
      "\u001b[35m[2020-02-23:13:15:41:INFO] Sniff delimiter as ','\u001b[0m\n",
      "\u001b[35m[2020-02-23:13:15:41:INFO] Determined delimiter of CSV input is ','\u001b[0m\n",
      "\u001b[34m[2020-02-23:13:15:43:INFO] Sniff delimiter as ','\u001b[0m\n",
      "\u001b[34m[2020-02-23:13:15:43:INFO] Determined delimiter of CSV input is ','\u001b[0m\n",
      "\u001b[34m[2020-02-23:13:15:43:INFO] Sniff delimiter as ','\u001b[0m\n",
      "\u001b[34m[2020-02-23:13:15:43:INFO] Determined delimiter of CSV input is ','\u001b[0m\n",
      "\u001b[34m[2020-02-23:13:15:43:INFO] Sniff delimiter as ','\u001b[0m\n",
      "\u001b[34m[2020-02-23:13:15:43:INFO] Determined delimiter of CSV input is ','\u001b[0m\n",
      "\u001b[34m[2020-02-23:13:15:43:INFO] Sniff delimiter as ','\u001b[0m\n",
      "\u001b[34m[2020-02-23:13:15:43:INFO] Determined delimiter of CSV input is ','\u001b[0m\n",
      "\u001b[35m[2020-02-23:13:15:43:INFO] Sniff delimiter as ','\u001b[0m\n",
      "\u001b[35m[2020-02-23:13:15:43:INFO] Determined delimiter of CSV input is ','\u001b[0m\n",
      "\u001b[35m[2020-02-23:13:15:43:INFO] Sniff delimiter as ','\u001b[0m\n",
      "\u001b[35m[2020-02-23:13:15:43:INFO] Determined delimiter of CSV input is ','\u001b[0m\n",
      "\u001b[35m[2020-02-23:13:15:43:INFO] Sniff delimiter as ','\u001b[0m\n",
      "\u001b[35m[2020-02-23:13:15:43:INFO] Determined delimiter of CSV input is ','\u001b[0m\n",
      "\u001b[35m[2020-02-23:13:15:43:INFO] Sniff delimiter as ','\u001b[0m\n",
      "\u001b[35m[2020-02-23:13:15:43:INFO] Determined delimiter of CSV input is ','\u001b[0m\n",
      "\u001b[34m[2020-02-23:13:15:45:INFO] Sniff delimiter as ','\u001b[0m\n",
      "\u001b[34m[2020-02-23:13:15:45:INFO] Determined delimiter of CSV input is ','\u001b[0m\n",
      "\u001b[34m[2020-02-23:13:15:45:INFO] Sniff delimiter as ','\u001b[0m\n",
      "\u001b[34m[2020-02-23:13:15:45:INFO] Determined delimiter of CSV input is ','\u001b[0m\n",
      "\u001b[34m[2020-02-23:13:15:46:INFO] Sniff delimiter as ','\u001b[0m\n",
      "\u001b[34m[2020-02-23:13:15:46:INFO] Determined delimiter of CSV input is ','\u001b[0m\n",
      "\u001b[35m[2020-02-23:13:15:45:INFO] Sniff delimiter as ','\u001b[0m\n",
      "\u001b[35m[2020-02-23:13:15:45:INFO] Determined delimiter of CSV input is ','\u001b[0m\n",
      "\u001b[35m[2020-02-23:13:15:45:INFO] Sniff delimiter as ','\u001b[0m\n",
      "\u001b[35m[2020-02-23:13:15:45:INFO] Determined delimiter of CSV input is ','\u001b[0m\n",
      "\u001b[35m[2020-02-23:13:15:46:INFO] Sniff delimiter as ','\u001b[0m\n",
      "\u001b[35m[2020-02-23:13:15:46:INFO] Determined delimiter of CSV input is ','\u001b[0m\n",
      "\u001b[34m[2020-02-23:13:15:46:INFO] Sniff delimiter as ','\u001b[0m\n",
      "\u001b[34m[2020-02-23:13:15:46:INFO] Determined delimiter of CSV input is ','\u001b[0m\n",
      "\u001b[35m[2020-02-23:13:15:46:INFO] Sniff delimiter as ','\u001b[0m\n",
      "\u001b[35m[2020-02-23:13:15:46:INFO] Determined delimiter of CSV input is ','\u001b[0m\n",
      "\u001b[34m[2020-02-23:13:15:48:INFO] Sniff delimiter as ','\u001b[0m\n",
      "\u001b[34m[2020-02-23:13:15:48:INFO] Determined delimiter of CSV input is ','\u001b[0m\n",
      "\u001b[35m[2020-02-23:13:15:48:INFO] Sniff delimiter as ','\u001b[0m\n",
      "\u001b[35m[2020-02-23:13:15:48:INFO] Determined delimiter of CSV input is ','\u001b[0m\n",
      "\u001b[34m[2020-02-23:13:15:48:INFO] Sniff delimiter as ','\u001b[0m\n",
      "\u001b[34m[2020-02-23:13:15:48:INFO] Determined delimiter of CSV input is ','\u001b[0m\n",
      "\u001b[34m[2020-02-23:13:15:48:INFO] Sniff delimiter as ','\u001b[0m\n",
      "\u001b[34m[2020-02-23:13:15:48:INFO] Determined delimiter of CSV input is ','\u001b[0m\n",
      "\u001b[35m[2020-02-23:13:15:48:INFO] Sniff delimiter as ','\u001b[0m\n",
      "\u001b[35m[2020-02-23:13:15:48:INFO] Determined delimiter of CSV input is ','\u001b[0m\n",
      "\u001b[35m[2020-02-23:13:15:48:INFO] Sniff delimiter as ','\u001b[0m\n",
      "\u001b[35m[2020-02-23:13:15:48:INFO] Determined delimiter of CSV input is ','\u001b[0m\n",
      "\u001b[34m[2020-02-23:13:15:50:INFO] Sniff delimiter as ','\u001b[0m\n",
      "\u001b[34m[2020-02-23:13:15:50:INFO] Determined delimiter of CSV input is ','\u001b[0m\n",
      "\u001b[34m[2020-02-23:13:15:50:INFO] Sniff delimiter as ','\u001b[0m\n",
      "\u001b[34m[2020-02-23:13:15:50:INFO] Determined delimiter of CSV input is ','\u001b[0m\n",
      "\u001b[34m[2020-02-23:13:15:50:INFO] Sniff delimiter as ','\u001b[0m\n",
      "\u001b[34m[2020-02-23:13:15:50:INFO] Determined delimiter of CSV input is ','\u001b[0m\n",
      "\u001b[34m[2020-02-23:13:15:51:INFO] Sniff delimiter as ','\u001b[0m\n",
      "\u001b[34m[2020-02-23:13:15:51:INFO] Determined delimiter of CSV input is ','\u001b[0m\n",
      "\u001b[35m[2020-02-23:13:15:50:INFO] Sniff delimiter as ','\u001b[0m\n",
      "\u001b[35m[2020-02-23:13:15:50:INFO] Determined delimiter of CSV input is ','\u001b[0m\n",
      "\u001b[35m[2020-02-23:13:15:50:INFO] Sniff delimiter as ','\u001b[0m\n",
      "\u001b[35m[2020-02-23:13:15:50:INFO] Determined delimiter of CSV input is ','\u001b[0m\n",
      "\u001b[35m[2020-02-23:13:15:50:INFO] Sniff delimiter as ','\u001b[0m\n",
      "\u001b[35m[2020-02-23:13:15:50:INFO] Determined delimiter of CSV input is ','\u001b[0m\n",
      "\u001b[35m[2020-02-23:13:15:51:INFO] Sniff delimiter as ','\u001b[0m\n",
      "\u001b[35m[2020-02-23:13:15:51:INFO] Determined delimiter of CSV input is ','\u001b[0m\n",
      "\u001b[34m[2020-02-23:13:15:52:INFO] Sniff delimiter as ','\u001b[0m\n",
      "\u001b[34m[2020-02-23:13:15:52:INFO] Determined delimiter of CSV input is ','\u001b[0m\n",
      "\u001b[34m[2020-02-23:13:15:53:INFO] Sniff delimiter as ','\u001b[0m\n",
      "\u001b[34m[2020-02-23:13:15:53:INFO] Determined delimiter of CSV input is ','\u001b[0m\n",
      "\u001b[35m[2020-02-23:13:15:52:INFO] Sniff delimiter as ','\u001b[0m\n",
      "\u001b[35m[2020-02-23:13:15:52:INFO] Determined delimiter of CSV input is ','\u001b[0m\n",
      "\u001b[35m[2020-02-23:13:15:53:INFO] Sniff delimiter as ','\u001b[0m\n",
      "\u001b[35m[2020-02-23:13:15:53:INFO] Determined delimiter of CSV input is ','\u001b[0m\n",
      "\u001b[34m[2020-02-23:13:15:53:INFO] Sniff delimiter as ','\u001b[0m\n",
      "\u001b[34m[2020-02-23:13:15:53:INFO] Determined delimiter of CSV input is ','\u001b[0m\n",
      "\u001b[34m[2020-02-23:13:15:53:INFO] Sniff delimiter as ','\u001b[0m\n",
      "\u001b[34m[2020-02-23:13:15:53:INFO] Determined delimiter of CSV input is ','\u001b[0m\n",
      "\u001b[35m[2020-02-23:13:15:53:INFO] Sniff delimiter as ','\u001b[0m\n",
      "\u001b[35m[2020-02-23:13:15:53:INFO] Determined delimiter of CSV input is ','\u001b[0m\n",
      "\u001b[35m[2020-02-23:13:15:53:INFO] Sniff delimiter as ','\u001b[0m\n",
      "\u001b[35m[2020-02-23:13:15:53:INFO] Determined delimiter of CSV input is ','\u001b[0m\n",
      "\u001b[34m[2020-02-23:13:15:55:INFO] Sniff delimiter as ','\u001b[0m\n",
      "\u001b[34m[2020-02-23:13:15:55:INFO] Determined delimiter of CSV input is ','\u001b[0m\n",
      "\u001b[34m[2020-02-23:13:15:55:INFO] Sniff delimiter as ','\u001b[0m\n",
      "\u001b[34m[2020-02-23:13:15:55:INFO] Determined delimiter of CSV input is ','\u001b[0m\n",
      "\u001b[34m[2020-02-23:13:15:55:INFO] Sniff delimiter as ','\u001b[0m\n",
      "\u001b[34m[2020-02-23:13:15:55:INFO] Determined delimiter of CSV input is ','\u001b[0m\n",
      "\u001b[34m[2020-02-23:13:15:55:INFO] Sniff delimiter as ','\u001b[0m\n",
      "\u001b[34m[2020-02-23:13:15:55:INFO] Determined delimiter of CSV input is ','\u001b[0m\n",
      "\u001b[35m[2020-02-23:13:15:55:INFO] Sniff delimiter as ','\u001b[0m\n",
      "\u001b[35m[2020-02-23:13:15:55:INFO] Determined delimiter of CSV input is ','\u001b[0m\n",
      "\u001b[35m[2020-02-23:13:15:55:INFO] Sniff delimiter as ','\u001b[0m\n",
      "\u001b[35m[2020-02-23:13:15:55:INFO] Determined delimiter of CSV input is ','\u001b[0m\n",
      "\u001b[35m[2020-02-23:13:15:55:INFO] Sniff delimiter as ','\u001b[0m\n",
      "\u001b[35m[2020-02-23:13:15:55:INFO] Determined delimiter of CSV input is ','\u001b[0m\n",
      "\u001b[35m[2020-02-23:13:15:55:INFO] Sniff delimiter as ','\u001b[0m\n",
      "\u001b[35m[2020-02-23:13:15:55:INFO] Determined delimiter of CSV input is ','\u001b[0m\n"
     ]
    },
    {
     "name": "stdout",
     "output_type": "stream",
     "text": [
      "\n"
     ]
    }
   ],
   "source": [
    "# TODO: Using xgb_transformer, transform the new_data_location data. You may wish to **wait** until\n",
    "#       the batch transform job has finished.\n",
    "\n",
    "xgb_transformer.transform(new_data_location, content_type='text/csv', split_type='Line')\n",
    "xgb_transformer.wait()"
   ]
  },
  {
   "cell_type": "markdown",
   "metadata": {},
   "source": [
    "As usual, we copy the results of the batch transform job to our local instance."
   ]
  },
  {
   "cell_type": "code",
   "execution_count": 36,
   "metadata": {},
   "outputs": [
    {
     "name": "stdout",
     "output_type": "stream",
     "text": [
      "Completed 256.0 KiB/368.3 KiB (4.0 MiB/s) with 1 file(s) remaining\r",
      "Completed 368.3 KiB/368.3 KiB (5.6 MiB/s) with 1 file(s) remaining\r",
      "download: s3://sagemaker-us-east-2-437802772464/xgboost-2020-02-23-13-12-10-704/new_data.csv.out to ../data/sentiment_update/new_data.csv.out\r\n"
     ]
    }
   ],
   "source": [
    "!aws s3 cp --recursive $xgb_transformer.output_path $data_dir"
   ]
  },
  {
   "cell_type": "markdown",
   "metadata": {},
   "source": [
    "Read in the results of the batch transform job."
   ]
  },
  {
   "cell_type": "code",
   "execution_count": 37,
   "metadata": {},
   "outputs": [],
   "source": [
    "predictions = pd.read_csv(os.path.join(data_dir, 'new_data.csv.out'), header=None)\n",
    "predictions = [round(num) for num in predictions.squeeze().values]"
   ]
  },
  {
   "cell_type": "markdown",
   "metadata": {},
   "source": [
    "And check the accuracy of our current model."
   ]
  },
  {
   "cell_type": "code",
   "execution_count": 38,
   "metadata": {},
   "outputs": [
    {
     "data": {
      "text/plain": [
       "0.71724"
      ]
     },
     "execution_count": 38,
     "metadata": {},
     "output_type": "execute_result"
    }
   ],
   "source": [
    "accuracy_score(new_Y, predictions)"
   ]
  },
  {
   "cell_type": "markdown",
   "metadata": {},
   "source": [
    "So it would appear that *something* has changed since our model is no longer (as) effective at determining the sentiment of a user provided review.\n",
    "\n",
    "In a real life scenario you would check a number of different things to see what exactly is going on. In our case, we are only going to check one and that is whether some aspect of the underlying distribution has changed. In other words, we want to see if the words that appear in our new collection of reviews matches the words that appear in the original training set. Of course, we want to narrow our scope a little bit so we will only look at the `5000` most frequently appearing words in each data set, or in other words, the vocabulary generated by each data set.\n",
    "\n",
    "Before doing that, however, let's take a look at some of the incorrectly classified reviews in the new data set.\n",
    "\n",
    "To start, we will deploy the original XGBoost model. We will then use the deployed model to infer the sentiment of some of the new reviews. This will also serve as a nice excuse to deploy our model so that we can mimic a real life scenario where we have a model that has been deployed and is being used in production.\n",
    "\n",
    "**TODO:** Deploy the XGBoost model."
   ]
  },
  {
   "cell_type": "code",
   "execution_count": 39,
   "metadata": {},
   "outputs": [
    {
     "name": "stderr",
     "output_type": "stream",
     "text": [
      "WARNING:sagemaker:Using already existing model: xgboost-2020-02-23-12-59-48-838\n"
     ]
    },
    {
     "name": "stdout",
     "output_type": "stream",
     "text": [
      "-----------!"
     ]
    }
   ],
   "source": [
    "# TODO: Deploy the model that was created earlier. Recall that the object name is 'xgb'.\n",
    "\n",
    "xgb_predictor = xgb.deploy(initial_instance_count = 1, instance_type = 'ml.m4.xlarge')"
   ]
  },
  {
   "cell_type": "markdown",
   "metadata": {},
   "source": [
    "### Diagnose the problem\n",
    "\n",
    "Now that we have our deployed \"production\" model, we can send some of our new data to it and filter out some of the incorrectly classified reviews."
   ]
  },
  {
   "cell_type": "code",
   "execution_count": 40,
   "metadata": {},
   "outputs": [],
   "source": [
    "from sagemaker.predictor import csv_serializer\n",
    "\n",
    "# We need to tell the endpoint what format the data we are sending is in so that SageMaker can perform the serialization.\n",
    "xgb_predictor.content_type = 'text/csv'\n",
    "xgb_predictor.serializer = csv_serializer"
   ]
  },
  {
   "cell_type": "markdown",
   "metadata": {},
   "source": [
    "It will be useful to look at a few different examples of incorrectly classified reviews so we will start by creating a *generator* which we will use to iterate through some of the new reviews and find ones that are incorrect.\n",
    "\n",
    "**NOTE:** Understanding what Python generators are isn't really required for this module. The reason we use them here is so that we don't have to iterate through all of the new reviews, searching for incorrectly classified samples."
   ]
  },
  {
   "cell_type": "code",
   "execution_count": 41,
   "metadata": {},
   "outputs": [],
   "source": [
    "def get_sample(in_X, in_XV, in_Y):\n",
    "    for idx, smp in enumerate(in_X):\n",
    "        res = round(float(xgb_predictor.predict(in_XV[idx])))\n",
    "        if res != in_Y[idx]:\n",
    "            yield smp, in_Y[idx]"
   ]
  },
  {
   "cell_type": "code",
   "execution_count": 42,
   "metadata": {},
   "outputs": [],
   "source": [
    "gn = get_sample(new_X, new_XV, new_Y)"
   ]
  },
  {
   "cell_type": "markdown",
   "metadata": {},
   "source": [
    "At this point, `gn` is the *generator* which generates samples from the new data set which are not classified correctly. To get the *next* sample we simply call the `next` method on our generator."
   ]
  },
  {
   "cell_type": "code",
   "execution_count": 43,
   "metadata": {},
   "outputs": [
    {
     "name": "stdout",
     "output_type": "stream",
     "text": [
      "(['movi', 'realli', 'kick', 'ass', 'watch', 'never', 'got', 'bore', 'angelina', 'joli', 'realli', 'kick', 'ass', 'movi', 'see', 'movi', 'disappoint', 'anoth', 'reason', 'see', 'movi', 'guy', 'x', 'file', 'david', 'duchovni'], 1)\n"
     ]
    }
   ],
   "source": [
    "print(next(gn))"
   ]
  },
  {
   "cell_type": "markdown",
   "metadata": {},
   "source": [
    "After looking at a few examples, maybe we decide to look at the most frequently appearing `5000` words in each data set, the original training data set and the new data set. The reason for looking at this might be that we expect the frequency of use of different words to have changed, maybe there is some new slang that has been introduced or some other artifact of popular culture that has changed the way that people write movie reviews.\n",
    "\n",
    "To do this, we start by fitting a `CountVectorizer` to the new data."
   ]
  },
  {
   "cell_type": "code",
   "execution_count": 44,
   "metadata": {},
   "outputs": [
    {
     "data": {
      "text/plain": [
       "CountVectorizer(analyzer='word', binary=False, decode_error='strict',\n",
       "        dtype=<class 'numpy.int64'>, encoding='utf-8', input='content',\n",
       "        lowercase=True, max_df=1.0, max_features=5000, min_df=1,\n",
       "        ngram_range=(1, 1),\n",
       "        preprocessor=<function <lambda> at 0x7fae8ef3de18>,\n",
       "        stop_words=None, strip_accents=None,\n",
       "        token_pattern='(?u)\\\\b\\\\w\\\\w+\\\\b',\n",
       "        tokenizer=<function <lambda> at 0x7fae8ef2f158>, vocabulary=None)"
      ]
     },
     "execution_count": 44,
     "metadata": {},
     "output_type": "execute_result"
    }
   ],
   "source": [
    "new_vectorizer = CountVectorizer(max_features=5000,\n",
    "                preprocessor=lambda x: x, tokenizer=lambda x: x)\n",
    "new_vectorizer.fit(new_X)"
   ]
  },
  {
   "cell_type": "markdown",
   "metadata": {},
   "source": [
    "Now that we have this new `CountVectorizor` object, we can check to see if the corresponding vocabulary has changed between the two data sets."
   ]
  },
  {
   "cell_type": "code",
   "execution_count": 45,
   "metadata": {},
   "outputs": [],
   "source": [
    "original_vocabulary = set(vocabulary.keys())\n",
    "new_vocabulary = set(new_vectorizer.vocabulary_.keys())"
   ]
  },
  {
   "cell_type": "markdown",
   "metadata": {},
   "source": [
    "We can look at the words that were in the original vocabulary but not in the new vocabulary."
   ]
  },
  {
   "cell_type": "code",
   "execution_count": 46,
   "metadata": {},
   "outputs": [
    {
     "name": "stdout",
     "output_type": "stream",
     "text": [
      "{'victorian', 'spill', 'ghetto', 'reincarn', 'weari', '21st', 'playboy'}\n"
     ]
    }
   ],
   "source": [
    "print(original_vocabulary - new_vocabulary)"
   ]
  },
  {
   "cell_type": "markdown",
   "metadata": {},
   "source": [
    "And similarly, we can look at the words that are in the new vocabulary but which were not in the original vocabulary."
   ]
  },
  {
   "cell_type": "code",
   "execution_count": 47,
   "metadata": {},
   "outputs": [
    {
     "name": "stdout",
     "output_type": "stream",
     "text": [
      "{'sophi', 'dubiou', 'banana', 'masterson', 'optimist', 'omin', 'orchestr'}\n"
     ]
    }
   ],
   "source": [
    "print(new_vocabulary - original_vocabulary)"
   ]
  },
  {
   "cell_type": "markdown",
   "metadata": {},
   "source": [
    "### (TODO) Build a new model\n",
    "\n",
    "Supposing that we believe something has changed about the underlying distribution of the words that our reviews are made up of, we need to create a new model. This way our new model will take into account whatever it is that has changed.\n",
    "\n",
    "To begin with, we will use the new vocabulary to create a bag of words encoding of the new data. We will then use this data to train a new XGBoost model.\n",
    "\n",
    "**NOTE:** Because we believe that the underlying distribution of words has changed it should follow that the original vocabulary that we used to construct a bag of words encoding of the reviews is no longer valid. This means that we need to be careful with our data. If we send an bag of words encoded review using the *original* vocabulary we should not expect any sort of meaningful results.\n",
    "\n",
    "In particular, this means that if we had deployed our XGBoost model like we did in the Web App notebook then we would need to implement this vocabulary change in the Lambda function as well."
   ]
  },
  {
   "cell_type": "code",
   "execution_count": 48,
   "metadata": {},
   "outputs": [],
   "source": [
    "new_XV = new_vectorizer.transform(new_X).toarray()"
   ]
  },
  {
   "cell_type": "markdown",
   "metadata": {},
   "source": [
    "And a quick check to make sure that the newly encoded reviews have the correct length, which should be the size of the new vocabulary which we created."
   ]
  },
  {
   "cell_type": "code",
   "execution_count": 49,
   "metadata": {},
   "outputs": [
    {
     "data": {
      "text/plain": [
       "5000"
      ]
     },
     "execution_count": 49,
     "metadata": {},
     "output_type": "execute_result"
    }
   ],
   "source": [
    "len(new_XV[0])"
   ]
  },
  {
   "cell_type": "markdown",
   "metadata": {},
   "source": [
    "Now that we have our newly encoded, newly collected data, we can split it up into a training and validation set so that we can train a new XGBoost model. As usual, we first split up the data, then save it locally and then upload it to S3."
   ]
  },
  {
   "cell_type": "code",
   "execution_count": 50,
   "metadata": {},
   "outputs": [],
   "source": [
    "import pandas as pd\n",
    "\n",
    "# Earlier we shuffled the training dataset so to make things simple we can just assign\n",
    "# the first 10 000 reviews to the validation set and use the remaining reviews for training.\n",
    "new_val_X = pd.DataFrame(new_XV[:10000])\n",
    "new_train_X = pd.DataFrame(new_XV[10000:])\n",
    "\n",
    "new_val_y = pd.DataFrame(new_Y[:10000])\n",
    "new_train_y = pd.DataFrame(new_Y[10000:])"
   ]
  },
  {
   "cell_type": "markdown",
   "metadata": {},
   "source": [
    "In order to save some memory we will effectively delete the `new_X` variable. Remember that this contained a list of reviews and each review was a list of words. Note that once this cell has been executed you will need to read the new data in again if you want to work with it."
   ]
  },
  {
   "cell_type": "code",
   "execution_count": 51,
   "metadata": {},
   "outputs": [],
   "source": [
    "new_X = None"
   ]
  },
  {
   "cell_type": "markdown",
   "metadata": {},
   "source": [
    "Next we save the new training and validation sets locally. Note that we overwrite the training and validation sets used earlier. This is mostly because the amount of space that we have available on our notebook instance is limited. Of course, you can increase this if you'd like but to do so may increase the cost of running the notebook instance."
   ]
  },
  {
   "cell_type": "code",
   "execution_count": 52,
   "metadata": {},
   "outputs": [],
   "source": [
    "pd.DataFrame(new_XV).to_csv(os.path.join(data_dir, 'new_data.csv'), header=False, index=False)\n",
    "\n",
    "pd.concat([new_val_y, new_val_X], axis=1).to_csv(os.path.join(data_dir, 'new_validation.csv'), header=False, index=False)\n",
    "pd.concat([new_train_y, new_train_X], axis=1).to_csv(os.path.join(data_dir, 'new_train.csv'), header=False, index=False)"
   ]
  },
  {
   "cell_type": "markdown",
   "metadata": {},
   "source": [
    "Now that we've saved our data to the local instance, we can safely delete the variables to save on memory."
   ]
  },
  {
   "cell_type": "code",
   "execution_count": 53,
   "metadata": {},
   "outputs": [],
   "source": [
    "new_val_y = new_val_X = new_train_y = new_train_X = new_XV = None"
   ]
  },
  {
   "cell_type": "markdown",
   "metadata": {},
   "source": [
    "Lastly, we make sure to upload the new training and validation sets to S3.\n",
    "\n",
    "**TODO:** Upload the new data as well as the new training and validation data sets to S3."
   ]
  },
  {
   "cell_type": "code",
   "execution_count": 54,
   "metadata": {},
   "outputs": [],
   "source": [
    "# TODO: Upload the new data and the new validation.csv and train.csv files in the data_dir directory to S3.\n",
    "\n",
    "new_data_location = session.upload_data(os.path.join(data_dir, 'new_data.csv'), key_prefix=prefix)\n",
    "new_val_location = session.upload_data(os.path.join(data_dir, 'new_validation.csv'), key_prefix=prefix)\n",
    "new_train_location = session.upload_data(os.path.join(data_dir, 'new_train.csv'), key_prefix=prefix)"
   ]
  },
  {
   "cell_type": "markdown",
   "metadata": {},
   "source": [
    "Once our new training data has been uploaded to S3, we can create a new XGBoost model that will take into account the changes that have occured in our data set.\n",
    "\n",
    "**TODO:** Create a new XGBoost estimator object."
   ]
  },
  {
   "cell_type": "code",
   "execution_count": 55,
   "metadata": {},
   "outputs": [],
   "source": [
    "# TODO: First, create a SageMaker estimator object for our model.\n",
    "\n",
    "new_xgb = sagemaker.estimator.Estimator(container, # The location of the container we wish to use\n",
    "                                    role,                                    # What is our current IAM Role\n",
    "                                    train_instance_count=1,                  # How many compute instances\n",
    "                                    train_instance_type='ml.m4.xlarge',      # What kind of compute instances\n",
    "                                    output_path='s3://{}/{}/output'.format(session.default_bucket(), prefix),\n",
    "                                    sagemaker_session=session)\n",
    "\n",
    "# TODO: Then set the algorithm specific parameters. You may wish to use the same parameters that were\n",
    "#       used when training the original model.\n",
    "\n",
    "new_xgb.set_hyperparameters(max_depth=5,\n",
    "                        eta=0.2,\n",
    "                        gamma=4,\n",
    "                        min_child_weight=6,\n",
    "                        subsample=0.8,\n",
    "                        silent=0,\n",
    "                        objective='binary:logistic',\n",
    "                        early_stopping_rounds=10,\n",
    "                        num_round=500)"
   ]
  },
  {
   "cell_type": "markdown",
   "metadata": {},
   "source": [
    "Once the model has been created, we can train it with our new data.\n",
    "\n",
    "**TODO:** Train the new XGBoost model."
   ]
  },
  {
   "cell_type": "code",
   "execution_count": 56,
   "metadata": {},
   "outputs": [],
   "source": [
    "# TODO: First, make sure that you create s3 input objects so that SageMaker knows where to\n",
    "#       find the training and validation data.\n",
    "\n",
    "s3_new_input_train = sagemaker.s3_input(s3_data=new_train_location, content_type='csv')\n",
    "s3_new_input_validation = sagemaker.s3_input(s3_data=new_val_location, content_type='csv')"
   ]
  },
  {
   "cell_type": "code",
   "execution_count": 57,
   "metadata": {},
   "outputs": [
    {
     "name": "stdout",
     "output_type": "stream",
     "text": [
      "2020-02-23 13:26:54 Starting - Starting the training job...\n",
      "2020-02-23 13:26:55 Starting - Launching requested ML instances...\n",
      "2020-02-23 13:27:49 Starting - Preparing the instances for training......\n",
      "2020-02-23 13:28:41 Downloading - Downloading input data...\n",
      "2020-02-23 13:29:16 Training - Training image download completed. Training in progress.\u001b[34mArguments: train\u001b[0m\n",
      "\u001b[34m[2020-02-23:13:29:17:INFO] Running standalone xgboost training.\u001b[0m\n",
      "\u001b[34m[2020-02-23:13:29:17:INFO] File size need to be processed in the node: 238.47mb. Available memory size in the node: 8519.41mb\u001b[0m\n",
      "\u001b[34m[2020-02-23:13:29:17:INFO] Determined delimiter of CSV input is ','\u001b[0m\n",
      "\u001b[34m[13:29:17] S3DistributionType set as FullyReplicated\u001b[0m\n",
      "\u001b[34m[13:29:19] 15000x5000 matrix with 75000000 entries loaded from /opt/ml/input/data/train?format=csv&label_column=0&delimiter=,\u001b[0m\n",
      "\u001b[34m[2020-02-23:13:29:19:INFO] Determined delimiter of CSV input is ','\u001b[0m\n",
      "\u001b[34m[13:29:19] S3DistributionType set as FullyReplicated\u001b[0m\n",
      "\u001b[34m[13:29:20] 10000x5000 matrix with 50000000 entries loaded from /opt/ml/input/data/validation?format=csv&label_column=0&delimiter=,\u001b[0m\n",
      "\u001b[34m[13:29:23] src/tree/updater_prune.cc:74: tree pruning end, 1 roots, 44 extra nodes, 4 pruned nodes, max_depth=5\u001b[0m\n",
      "\u001b[34m[0]#011train-error:0.301467#011validation-error:0.3009\u001b[0m\n",
      "\u001b[34mMultiple eval metrics have been passed: 'validation-error' will be used for early stopping.\n",
      "\u001b[0m\n",
      "\u001b[34mWill train until validation-error hasn't improved in 10 rounds.\u001b[0m\n",
      "\u001b[34m[13:29:25] src/tree/updater_prune.cc:74: tree pruning end, 1 roots, 38 extra nodes, 8 pruned nodes, max_depth=5\u001b[0m\n",
      "\u001b[34m[1]#011train-error:0.289#011validation-error:0.2881\u001b[0m\n",
      "\u001b[34m[13:29:26] src/tree/updater_prune.cc:74: tree pruning end, 1 roots, 40 extra nodes, 8 pruned nodes, max_depth=5\u001b[0m\n",
      "\u001b[34m[2]#011train-error:0.277067#011validation-error:0.2798\u001b[0m\n",
      "\u001b[34m[13:29:27] src/tree/updater_prune.cc:74: tree pruning end, 1 roots, 44 extra nodes, 6 pruned nodes, max_depth=5\u001b[0m\n",
      "\u001b[34m[3]#011train-error:0.271333#011validation-error:0.2743\u001b[0m\n",
      "\u001b[34m[13:29:29] src/tree/updater_prune.cc:74: tree pruning end, 1 roots, 36 extra nodes, 6 pruned nodes, max_depth=5\u001b[0m\n",
      "\u001b[34m[4]#011train-error:0.2636#011validation-error:0.2681\u001b[0m\n",
      "\u001b[34m[13:29:30] src/tree/updater_prune.cc:74: tree pruning end, 1 roots, 38 extra nodes, 6 pruned nodes, max_depth=5\u001b[0m\n",
      "\u001b[34m[5]#011train-error:0.259933#011validation-error:0.2647\u001b[0m\n",
      "\u001b[34m[13:29:31] src/tree/updater_prune.cc:74: tree pruning end, 1 roots, 38 extra nodes, 6 pruned nodes, max_depth=5\u001b[0m\n",
      "\u001b[34m[6]#011train-error:0.253533#011validation-error:0.2568\u001b[0m\n",
      "\u001b[34m[13:29:33] src/tree/updater_prune.cc:74: tree pruning end, 1 roots, 36 extra nodes, 4 pruned nodes, max_depth=5\u001b[0m\n",
      "\u001b[34m[7]#011train-error:0.248467#011validation-error:0.2516\u001b[0m\n",
      "\u001b[34m[13:29:34] src/tree/updater_prune.cc:74: tree pruning end, 1 roots, 38 extra nodes, 12 pruned nodes, max_depth=5\u001b[0m\n",
      "\u001b[34m[8]#011train-error:0.243267#011validation-error:0.2478\u001b[0m\n",
      "\u001b[34m[13:29:35] src/tree/updater_prune.cc:74: tree pruning end, 1 roots, 34 extra nodes, 12 pruned nodes, max_depth=5\u001b[0m\n",
      "\u001b[34m[9]#011train-error:0.238467#011validation-error:0.2467\u001b[0m\n",
      "\u001b[34m[13:29:36] src/tree/updater_prune.cc:74: tree pruning end, 1 roots, 46 extra nodes, 4 pruned nodes, max_depth=5\u001b[0m\n",
      "\u001b[34m[10]#011train-error:0.230333#011validation-error:0.2404\u001b[0m\n",
      "\u001b[34m[13:29:38] src/tree/updater_prune.cc:74: tree pruning end, 1 roots, 32 extra nodes, 12 pruned nodes, max_depth=5\u001b[0m\n",
      "\u001b[34m[11]#011train-error:0.230333#011validation-error:0.2375\u001b[0m\n",
      "\u001b[34m[13:29:39] src/tree/updater_prune.cc:74: tree pruning end, 1 roots, 32 extra nodes, 8 pruned nodes, max_depth=5\u001b[0m\n",
      "\u001b[34m[12]#011train-error:0.226333#011validation-error:0.2321\u001b[0m\n",
      "\u001b[34m[13:29:40] src/tree/updater_prune.cc:74: tree pruning end, 1 roots, 36 extra nodes, 6 pruned nodes, max_depth=5\u001b[0m\n",
      "\u001b[34m[13]#011train-error:0.2218#011validation-error:0.2317\u001b[0m\n",
      "\u001b[34m[13:29:41] src/tree/updater_prune.cc:74: tree pruning end, 1 roots, 22 extra nodes, 12 pruned nodes, max_depth=5\u001b[0m\n",
      "\u001b[34m[14]#011train-error:0.215933#011validation-error:0.2266\u001b[0m\n",
      "\u001b[34m[13:29:43] src/tree/updater_prune.cc:74: tree pruning end, 1 roots, 42 extra nodes, 6 pruned nodes, max_depth=5\u001b[0m\n",
      "\u001b[34m[15]#011train-error:0.210733#011validation-error:0.2237\u001b[0m\n",
      "\u001b[34m[13:29:44] src/tree/updater_prune.cc:74: tree pruning end, 1 roots, 36 extra nodes, 2 pruned nodes, max_depth=5\u001b[0m\n",
      "\u001b[34m[16]#011train-error:0.2098#011validation-error:0.2208\u001b[0m\n",
      "\u001b[34m[13:29:45] src/tree/updater_prune.cc:74: tree pruning end, 1 roots, 28 extra nodes, 18 pruned nodes, max_depth=5\u001b[0m\n",
      "\u001b[34m[17]#011train-error:0.2072#011validation-error:0.22\u001b[0m\n",
      "\u001b[34m[13:29:46] src/tree/updater_prune.cc:74: tree pruning end, 1 roots, 42 extra nodes, 8 pruned nodes, max_depth=5\u001b[0m\n",
      "\u001b[34m[18]#011train-error:0.203533#011validation-error:0.2164\u001b[0m\n",
      "\u001b[34m[13:29:48] src/tree/updater_prune.cc:74: tree pruning end, 1 roots, 34 extra nodes, 6 pruned nodes, max_depth=5\u001b[0m\n",
      "\u001b[34m[19]#011train-error:0.201933#011validation-error:0.213\u001b[0m\n",
      "\u001b[34m[13:29:49] src/tree/updater_prune.cc:74: tree pruning end, 1 roots, 26 extra nodes, 12 pruned nodes, max_depth=5\u001b[0m\n",
      "\u001b[34m[20]#011train-error:0.199733#011validation-error:0.21\u001b[0m\n",
      "\u001b[34m[13:29:50] src/tree/updater_prune.cc:74: tree pruning end, 1 roots, 22 extra nodes, 10 pruned nodes, max_depth=5\u001b[0m\n",
      "\u001b[34m[21]#011train-error:0.197133#011validation-error:0.2076\u001b[0m\n",
      "\u001b[34m[13:29:52] src/tree/updater_prune.cc:74: tree pruning end, 1 roots, 30 extra nodes, 6 pruned nodes, max_depth=5\u001b[0m\n",
      "\u001b[34m[22]#011train-error:0.1942#011validation-error:0.2064\u001b[0m\n",
      "\u001b[34m[13:29:53] src/tree/updater_prune.cc:74: tree pruning end, 1 roots, 28 extra nodes, 4 pruned nodes, max_depth=5\u001b[0m\n",
      "\u001b[34m[23]#011train-error:0.192733#011validation-error:0.2053\u001b[0m\n",
      "\u001b[34m[13:29:54] src/tree/updater_prune.cc:74: tree pruning end, 1 roots, 20 extra nodes, 4 pruned nodes, max_depth=5\u001b[0m\n",
      "\u001b[34m[24]#011train-error:0.191533#011validation-error:0.2024\u001b[0m\n",
      "\u001b[34m[13:29:55] src/tree/updater_prune.cc:74: tree pruning end, 1 roots, 28 extra nodes, 10 pruned nodes, max_depth=5\u001b[0m\n",
      "\u001b[34m[25]#011train-error:0.1904#011validation-error:0.2028\u001b[0m\n",
      "\u001b[34m[13:29:57] src/tree/updater_prune.cc:74: tree pruning end, 1 roots, 32 extra nodes, 4 pruned nodes, max_depth=5\u001b[0m\n",
      "\u001b[34m[26]#011train-error:0.186067#011validation-error:0.2015\u001b[0m\n",
      "\u001b[34m[13:29:58] src/tree/updater_prune.cc:74: tree pruning end, 1 roots, 26 extra nodes, 6 pruned nodes, max_depth=5\u001b[0m\n",
      "\u001b[34m[27]#011train-error:0.183533#011validation-error:0.1992\u001b[0m\n",
      "\u001b[34m[13:29:59] src/tree/updater_prune.cc:74: tree pruning end, 1 roots, 26 extra nodes, 8 pruned nodes, max_depth=5\u001b[0m\n",
      "\u001b[34m[28]#011train-error:0.1828#011validation-error:0.199\u001b[0m\n",
      "\u001b[34m[13:30:00] src/tree/updater_prune.cc:74: tree pruning end, 1 roots, 24 extra nodes, 4 pruned nodes, max_depth=5\u001b[0m\n",
      "\u001b[34m[29]#011train-error:0.179533#011validation-error:0.1988\u001b[0m\n",
      "\u001b[34m[13:30:02] src/tree/updater_prune.cc:74: tree pruning end, 1 roots, 38 extra nodes, 10 pruned nodes, max_depth=5\u001b[0m\n",
      "\u001b[34m[30]#011train-error:0.1774#011validation-error:0.1952\u001b[0m\n",
      "\u001b[34m[13:30:03] src/tree/updater_prune.cc:74: tree pruning end, 1 roots, 38 extra nodes, 8 pruned nodes, max_depth=5\u001b[0m\n",
      "\u001b[34m[31]#011train-error:0.176467#011validation-error:0.1971\u001b[0m\n",
      "\u001b[34m[13:30:04] src/tree/updater_prune.cc:74: tree pruning end, 1 roots, 22 extra nodes, 10 pruned nodes, max_depth=5\u001b[0m\n",
      "\u001b[34m[32]#011train-error:0.1742#011validation-error:0.1958\u001b[0m\n",
      "\u001b[34m[13:30:05] src/tree/updater_prune.cc:74: tree pruning end, 1 roots, 34 extra nodes, 10 pruned nodes, max_depth=5\u001b[0m\n",
      "\u001b[34m[33]#011train-error:0.171933#011validation-error:0.1949\u001b[0m\n",
      "\u001b[34m[13:30:07] src/tree/updater_prune.cc:74: tree pruning end, 1 roots, 22 extra nodes, 14 pruned nodes, max_depth=5\u001b[0m\n",
      "\u001b[34m[34]#011train-error:0.1728#011validation-error:0.1928\u001b[0m\n",
      "\u001b[34m[13:30:08] src/tree/updater_prune.cc:74: tree pruning end, 1 roots, 34 extra nodes, 6 pruned nodes, max_depth=5\u001b[0m\n",
      "\u001b[34m[35]#011train-error:0.170733#011validation-error:0.192\u001b[0m\n",
      "\u001b[34m[13:30:09] src/tree/updater_prune.cc:74: tree pruning end, 1 roots, 38 extra nodes, 8 pruned nodes, max_depth=5\u001b[0m\n",
      "\u001b[34m[36]#011train-error:0.168267#011validation-error:0.193\u001b[0m\n",
      "\u001b[34m[13:30:10] src/tree/updater_prune.cc:74: tree pruning end, 1 roots, 22 extra nodes, 6 pruned nodes, max_depth=5\u001b[0m\n",
      "\u001b[34m[37]#011train-error:0.166867#011validation-error:0.1943\u001b[0m\n",
      "\u001b[34m[13:30:12] src/tree/updater_prune.cc:74: tree pruning end, 1 roots, 22 extra nodes, 20 pruned nodes, max_depth=5\u001b[0m\n",
      "\u001b[34m[38]#011train-error:0.166133#011validation-error:0.1938\u001b[0m\n",
      "\u001b[34m[13:30:13] src/tree/updater_prune.cc:74: tree pruning end, 1 roots, 20 extra nodes, 8 pruned nodes, max_depth=5\u001b[0m\n",
      "\u001b[34m[39]#011train-error:0.166067#011validation-error:0.1926\u001b[0m\n",
      "\u001b[34m[13:30:14] src/tree/updater_prune.cc:74: tree pruning end, 1 roots, 26 extra nodes, 6 pruned nodes, max_depth=5\u001b[0m\n",
      "\u001b[34m[40]#011train-error:0.164333#011validation-error:0.1907\u001b[0m\n",
      "\u001b[34m[13:30:15] src/tree/updater_prune.cc:74: tree pruning end, 1 roots, 20 extra nodes, 10 pruned nodes, max_depth=5\u001b[0m\n",
      "\u001b[34m[41]#011train-error:0.164067#011validation-error:0.1909\u001b[0m\n",
      "\u001b[34m[13:30:17] src/tree/updater_prune.cc:74: tree pruning end, 1 roots, 36 extra nodes, 12 pruned nodes, max_depth=5\u001b[0m\n",
      "\u001b[34m[42]#011train-error:0.1622#011validation-error:0.1913\u001b[0m\n",
      "\u001b[34m[13:30:18] src/tree/updater_prune.cc:74: tree pruning end, 1 roots, 20 extra nodes, 8 pruned nodes, max_depth=5\u001b[0m\n",
      "\u001b[34m[43]#011train-error:0.161867#011validation-error:0.1899\u001b[0m\n"
     ]
    },
    {
     "name": "stdout",
     "output_type": "stream",
     "text": [
      "\u001b[34m[13:30:19] src/tree/updater_prune.cc:74: tree pruning end, 1 roots, 30 extra nodes, 0 pruned nodes, max_depth=5\u001b[0m\n",
      "\u001b[34m[44]#011train-error:0.1604#011validation-error:0.1898\u001b[0m\n",
      "\u001b[34m[13:30:20] src/tree/updater_prune.cc:74: tree pruning end, 1 roots, 28 extra nodes, 10 pruned nodes, max_depth=5\u001b[0m\n",
      "\u001b[34m[45]#011train-error:0.1588#011validation-error:0.1872\u001b[0m\n",
      "\u001b[34m[13:30:22] src/tree/updater_prune.cc:74: tree pruning end, 1 roots, 24 extra nodes, 8 pruned nodes, max_depth=5\u001b[0m\n",
      "\u001b[34m[46]#011train-error:0.1584#011validation-error:0.1868\u001b[0m\n",
      "\u001b[34m[13:30:23] src/tree/updater_prune.cc:74: tree pruning end, 1 roots, 34 extra nodes, 8 pruned nodes, max_depth=5\u001b[0m\n",
      "\u001b[34m[47]#011train-error:0.156667#011validation-error:0.1871\u001b[0m\n",
      "\u001b[34m[13:30:24] src/tree/updater_prune.cc:74: tree pruning end, 1 roots, 24 extra nodes, 12 pruned nodes, max_depth=5\u001b[0m\n",
      "\u001b[34m[48]#011train-error:0.1556#011validation-error:0.1871\u001b[0m\n",
      "\u001b[34m[13:30:25] src/tree/updater_prune.cc:74: tree pruning end, 1 roots, 18 extra nodes, 14 pruned nodes, max_depth=5\u001b[0m\n",
      "\u001b[34m[49]#011train-error:0.154333#011validation-error:0.1864\u001b[0m\n",
      "\u001b[34m[13:30:27] src/tree/updater_prune.cc:74: tree pruning end, 1 roots, 30 extra nodes, 2 pruned nodes, max_depth=5\u001b[0m\n",
      "\u001b[34m[50]#011train-error:0.1536#011validation-error:0.1859\u001b[0m\n",
      "\u001b[34m[13:30:28] src/tree/updater_prune.cc:74: tree pruning end, 1 roots, 34 extra nodes, 14 pruned nodes, max_depth=5\u001b[0m\n",
      "\u001b[34m[51]#011train-error:0.1518#011validation-error:0.1844\u001b[0m\n",
      "\u001b[34m[13:30:29] src/tree/updater_prune.cc:74: tree pruning end, 1 roots, 22 extra nodes, 6 pruned nodes, max_depth=5\u001b[0m\n",
      "\u001b[34m[52]#011train-error:0.151467#011validation-error:0.1857\u001b[0m\n",
      "\u001b[34m[13:30:30] src/tree/updater_prune.cc:74: tree pruning end, 1 roots, 14 extra nodes, 4 pruned nodes, max_depth=5\u001b[0m\n",
      "\u001b[34m[53]#011train-error:0.1512#011validation-error:0.1856\u001b[0m\n",
      "\u001b[34m[13:30:32] src/tree/updater_prune.cc:74: tree pruning end, 1 roots, 20 extra nodes, 6 pruned nodes, max_depth=5\u001b[0m\n",
      "\u001b[34m[54]#011train-error:0.150733#011validation-error:0.1851\u001b[0m\n",
      "\u001b[34m[13:30:33] src/tree/updater_prune.cc:74: tree pruning end, 1 roots, 14 extra nodes, 10 pruned nodes, max_depth=5\u001b[0m\n",
      "\u001b[34m[55]#011train-error:0.150933#011validation-error:0.1851\u001b[0m\n",
      "\u001b[34m[13:30:34] src/tree/updater_prune.cc:74: tree pruning end, 1 roots, 22 extra nodes, 8 pruned nodes, max_depth=5\u001b[0m\n",
      "\u001b[34m[56]#011train-error:0.150667#011validation-error:0.1854\u001b[0m\n",
      "\u001b[34m[13:30:35] src/tree/updater_prune.cc:74: tree pruning end, 1 roots, 28 extra nodes, 14 pruned nodes, max_depth=5\u001b[0m\n",
      "\u001b[34m[57]#011train-error:0.149333#011validation-error:0.1853\u001b[0m\n",
      "\u001b[34m[13:30:37] src/tree/updater_prune.cc:74: tree pruning end, 1 roots, 20 extra nodes, 12 pruned nodes, max_depth=5\u001b[0m\n",
      "\u001b[34m[58]#011train-error:0.148333#011validation-error:0.1859\u001b[0m\n",
      "\u001b[34m[13:30:38] src/tree/updater_prune.cc:74: tree pruning end, 1 roots, 40 extra nodes, 8 pruned nodes, max_depth=5\u001b[0m\n",
      "\u001b[34m[59]#011train-error:0.146467#011validation-error:0.1838\u001b[0m\n",
      "\u001b[34m[13:30:39] src/tree/updater_prune.cc:74: tree pruning end, 1 roots, 16 extra nodes, 8 pruned nodes, max_depth=5\u001b[0m\n",
      "\u001b[34m[60]#011train-error:0.145133#011validation-error:0.1832\u001b[0m\n",
      "\u001b[34m[13:30:40] src/tree/updater_prune.cc:74: tree pruning end, 1 roots, 46 extra nodes, 10 pruned nodes, max_depth=5\u001b[0m\n",
      "\u001b[34m[61]#011train-error:0.143933#011validation-error:0.1811\u001b[0m\n",
      "\u001b[34m[13:30:42] src/tree/updater_prune.cc:74: tree pruning end, 1 roots, 26 extra nodes, 10 pruned nodes, max_depth=5\u001b[0m\n",
      "\u001b[34m[62]#011train-error:0.143#011validation-error:0.1795\u001b[0m\n",
      "\u001b[34m[13:30:43] src/tree/updater_prune.cc:74: tree pruning end, 1 roots, 14 extra nodes, 12 pruned nodes, max_depth=5\u001b[0m\n",
      "\u001b[34m[63]#011train-error:0.1434#011validation-error:0.1787\u001b[0m\n",
      "\u001b[34m[13:30:44] src/tree/updater_prune.cc:74: tree pruning end, 1 roots, 24 extra nodes, 8 pruned nodes, max_depth=5\u001b[0m\n",
      "\u001b[34m[64]#011train-error:0.142733#011validation-error:0.1785\u001b[0m\n",
      "\u001b[34m[13:30:46] src/tree/updater_prune.cc:74: tree pruning end, 1 roots, 26 extra nodes, 4 pruned nodes, max_depth=5\u001b[0m\n",
      "\u001b[34m[65]#011train-error:0.142133#011validation-error:0.1774\u001b[0m\n",
      "\u001b[34m[13:30:47] src/tree/updater_prune.cc:74: tree pruning end, 1 roots, 32 extra nodes, 8 pruned nodes, max_depth=5\u001b[0m\n",
      "\u001b[34m[66]#011train-error:0.140933#011validation-error:0.1775\u001b[0m\n",
      "\u001b[34m[13:30:48] src/tree/updater_prune.cc:74: tree pruning end, 1 roots, 24 extra nodes, 8 pruned nodes, max_depth=5\u001b[0m\n",
      "\u001b[34m[67]#011train-error:0.140267#011validation-error:0.1793\u001b[0m\n",
      "\u001b[34m[13:30:49] src/tree/updater_prune.cc:74: tree pruning end, 1 roots, 26 extra nodes, 6 pruned nodes, max_depth=5\u001b[0m\n",
      "\u001b[34m[68]#011train-error:0.138933#011validation-error:0.1787\u001b[0m\n",
      "\u001b[34m[13:30:51] src/tree/updater_prune.cc:74: tree pruning end, 1 roots, 22 extra nodes, 6 pruned nodes, max_depth=5\u001b[0m\n",
      "\u001b[34m[69]#011train-error:0.137667#011validation-error:0.1794\u001b[0m\n",
      "\u001b[34m[13:30:52] src/tree/updater_prune.cc:74: tree pruning end, 1 roots, 12 extra nodes, 2 pruned nodes, max_depth=5\u001b[0m\n",
      "\u001b[34m[70]#011train-error:0.1368#011validation-error:0.1792\u001b[0m\n",
      "\u001b[34m[13:30:53] src/tree/updater_prune.cc:74: tree pruning end, 1 roots, 24 extra nodes, 6 pruned nodes, max_depth=5\u001b[0m\n",
      "\u001b[34m[71]#011train-error:0.136333#011validation-error:0.1805\u001b[0m\n",
      "\u001b[34m[13:30:54] src/tree/updater_prune.cc:74: tree pruning end, 1 roots, 16 extra nodes, 10 pruned nodes, max_depth=5\u001b[0m\n",
      "\u001b[34m[72]#011train-error:0.137467#011validation-error:0.1799\u001b[0m\n",
      "\u001b[34m[13:30:56] src/tree/updater_prune.cc:74: tree pruning end, 1 roots, 22 extra nodes, 4 pruned nodes, max_depth=5\u001b[0m\n",
      "\u001b[34m[73]#011train-error:0.1368#011validation-error:0.1805\u001b[0m\n",
      "\u001b[34m[13:30:57] src/tree/updater_prune.cc:74: tree pruning end, 1 roots, 14 extra nodes, 10 pruned nodes, max_depth=5\u001b[0m\n",
      "\u001b[34m[74]#011train-error:0.135733#011validation-error:0.1802\u001b[0m\n",
      "\u001b[34m[13:30:58] src/tree/updater_prune.cc:74: tree pruning end, 1 roots, 12 extra nodes, 4 pruned nodes, max_depth=5\u001b[0m\n",
      "\u001b[34m[75]#011train-error:0.135533#011validation-error:0.1801\u001b[0m\n",
      "\u001b[34mStopping. Best iteration:\u001b[0m\n",
      "\u001b[34m[65]#011train-error:0.142133#011validation-error:0.1774\n",
      "\u001b[0m\n",
      "\n",
      "2020-02-23 13:31:10 Uploading - Uploading generated training model\n",
      "2020-02-23 13:31:10 Completed - Training job completed\n",
      "Training seconds: 149\n",
      "Billable seconds: 149\n"
     ]
    }
   ],
   "source": [
    "# TODO: Using the new validation and training data, 'fit' your new model.\n",
    "\n",
    "new_xgb.fit({'train': s3_new_input_train, 'validation': s3_new_input_validation})"
   ]
  },
  {
   "cell_type": "markdown",
   "metadata": {},
   "source": [
    "### (TODO) Check the new model\n",
    "\n",
    "So now we have a new XGBoost model that we believe more accurately represents the state of the world at this time, at least in how it relates to the sentiment analysis problem that we are working on. The next step is to double check that our model is performing reasonably.\n",
    "\n",
    "To do this, we will first test our model on the new data.\n",
    "\n",
    "**Note:** In practice this is a pretty bad idea. We already trained our model on the new data, so testing it shouldn't really tell us much. In fact, this is sort of a textbook example of leakage. We are only doing it here so that we have a numerical baseline.\n",
    "\n"
   ]
  },
  {
   "cell_type": "markdown",
   "metadata": {},
   "source": [
    "First, we create a new transformer based on our new XGBoost model.\n",
    "\n",
    "**TODO:** Create a transformer object from the newly created XGBoost model."
   ]
  },
  {
   "cell_type": "code",
   "execution_count": 58,
   "metadata": {},
   "outputs": [],
   "source": [
    "# TODO: Create a transformer object from the new_xgb model\n",
    "\n",
    "\n",
    "new_xgb_transformer = new_xgb.transformer(instance_count = 1, instance_type = 'ml.m4.xlarge')"
   ]
  },
  {
   "cell_type": "markdown",
   "metadata": {},
   "source": [
    "Next we test our model on the new data.\n",
    "\n",
    "**TODO:** Use the transformer object to transform the new data (stored in the `new_data_location` variable)"
   ]
  },
  {
   "cell_type": "code",
   "execution_count": 59,
   "metadata": {},
   "outputs": [
    {
     "name": "stdout",
     "output_type": "stream",
     "text": [
      ".....................\u001b[34mArguments: serve\u001b[0m\n",
      "\u001b[34m[2020-02-23 13:34:54 +0000] [1] [INFO] Starting gunicorn 19.7.1\u001b[0m\n",
      "\u001b[34m[2020-02-23 13:34:54 +0000] [1] [INFO] Listening at: http://0.0.0.0:8080 (1)\u001b[0m\n",
      "\u001b[35mArguments: serve\u001b[0m\n",
      "\u001b[35m[2020-02-23 13:34:54 +0000] [1] [INFO] Starting gunicorn 19.7.1\u001b[0m\n",
      "\u001b[35m[2020-02-23 13:34:54 +0000] [1] [INFO] Listening at: http://0.0.0.0:8080 (1)\u001b[0m\n",
      "\u001b[34m[2020-02-23 13:34:54 +0000] [1] [INFO] Using worker: gevent\u001b[0m\n",
      "\u001b[34m[2020-02-23 13:34:54 +0000] [38] [INFO] Booting worker with pid: 38\u001b[0m\n",
      "\u001b[34m[2020-02-23 13:34:54 +0000] [39] [INFO] Booting worker with pid: 39\u001b[0m\n",
      "\u001b[35m[2020-02-23 13:34:54 +0000] [1] [INFO] Using worker: gevent\u001b[0m\n",
      "\u001b[35m[2020-02-23 13:34:54 +0000] [38] [INFO] Booting worker with pid: 38\u001b[0m\n",
      "\u001b[35m[2020-02-23 13:34:54 +0000] [39] [INFO] Booting worker with pid: 39\u001b[0m\n",
      "\u001b[34m[2020-02-23 13:34:54 +0000] [40] [INFO] Booting worker with pid: 40\u001b[0m\n",
      "\u001b[34m[2020-02-23 13:34:54 +0000] [41] [INFO] Booting worker with pid: 41\u001b[0m\n",
      "\u001b[34m[2020-02-23:13:34:54:INFO] Model loaded successfully for worker : 38\u001b[0m\n",
      "\u001b[34m[2020-02-23:13:34:54:INFO] Model loaded successfully for worker : 39\u001b[0m\n",
      "\u001b[34m[2020-02-23:13:34:54:INFO] Model loaded successfully for worker : 40\u001b[0m\n",
      "\u001b[34m[2020-02-23:13:34:54:INFO] Model loaded successfully for worker : 41\u001b[0m\n",
      "\u001b[35m[2020-02-23 13:34:54 +0000] [40] [INFO] Booting worker with pid: 40\u001b[0m\n",
      "\u001b[35m[2020-02-23 13:34:54 +0000] [41] [INFO] Booting worker with pid: 41\u001b[0m\n",
      "\u001b[35m[2020-02-23:13:34:54:INFO] Model loaded successfully for worker : 38\u001b[0m\n",
      "\u001b[35m[2020-02-23:13:34:54:INFO] Model loaded successfully for worker : 39\u001b[0m\n",
      "\u001b[35m[2020-02-23:13:34:54:INFO] Model loaded successfully for worker : 40\u001b[0m\n",
      "\u001b[35m[2020-02-23:13:34:54:INFO] Model loaded successfully for worker : 41\u001b[0m\n",
      "\u001b[32m2020-02-23T13:34:56.140:[sagemaker logs]: MaxConcurrentTransforms=4, MaxPayloadInMB=6, BatchStrategy=MULTI_RECORD\u001b[0m\n",
      "\u001b[34m[2020-02-23:13:34:59:INFO] Sniff delimiter as ','\u001b[0m\n",
      "\u001b[34m[2020-02-23:13:34:59:INFO] Determined delimiter of CSV input is ','\u001b[0m\n",
      "\u001b[34m[2020-02-23:13:34:59:INFO] Sniff delimiter as ','\u001b[0m\n",
      "\u001b[34m[2020-02-23:13:34:59:INFO] Determined delimiter of CSV input is ','\u001b[0m\n",
      "\u001b[35m[2020-02-23:13:34:59:INFO] Sniff delimiter as ','\u001b[0m\n",
      "\u001b[35m[2020-02-23:13:34:59:INFO] Determined delimiter of CSV input is ','\u001b[0m\n",
      "\u001b[35m[2020-02-23:13:34:59:INFO] Sniff delimiter as ','\u001b[0m\n",
      "\u001b[35m[2020-02-23:13:34:59:INFO] Determined delimiter of CSV input is ','\u001b[0m\n",
      "\u001b[34m[2020-02-23:13:34:59:INFO] Sniff delimiter as ','\u001b[0m\n",
      "\u001b[34m[2020-02-23:13:34:59:INFO] Determined delimiter of CSV input is ','\u001b[0m\n",
      "\u001b[34m[2020-02-23:13:34:59:INFO] Sniff delimiter as ','\u001b[0m\n",
      "\u001b[34m[2020-02-23:13:34:59:INFO] Determined delimiter of CSV input is ','\u001b[0m\n",
      "\u001b[35m[2020-02-23:13:34:59:INFO] Sniff delimiter as ','\u001b[0m\n",
      "\u001b[35m[2020-02-23:13:34:59:INFO] Determined delimiter of CSV input is ','\u001b[0m\n",
      "\u001b[35m[2020-02-23:13:34:59:INFO] Sniff delimiter as ','\u001b[0m\n",
      "\u001b[35m[2020-02-23:13:34:59:INFO] Determined delimiter of CSV input is ','\u001b[0m\n",
      "\u001b[34m[2020-02-23:13:35:01:INFO] Sniff delimiter as ','\u001b[0m\n",
      "\u001b[34m[2020-02-23:13:35:01:INFO] Determined delimiter of CSV input is ','\u001b[0m\n",
      "\u001b[34m[2020-02-23:13:35:02:INFO] Sniff delimiter as ','\u001b[0m\n",
      "\u001b[34m[2020-02-23:13:35:02:INFO] Determined delimiter of CSV input is ','\u001b[0m\n",
      "\u001b[34m[2020-02-23:13:35:02:INFO] Sniff delimiter as ','\u001b[0m\n",
      "\u001b[34m[2020-02-23:13:35:02:INFO] Determined delimiter of CSV input is ','\u001b[0m\n",
      "\u001b[34m[2020-02-23:13:35:02:INFO] Sniff delimiter as ','\u001b[0m\n",
      "\u001b[34m[2020-02-23:13:35:02:INFO] Determined delimiter of CSV input is ','\u001b[0m\n",
      "\u001b[35m[2020-02-23:13:35:01:INFO] Sniff delimiter as ','\u001b[0m\n",
      "\u001b[35m[2020-02-23:13:35:01:INFO] Determined delimiter of CSV input is ','\u001b[0m\n",
      "\u001b[35m[2020-02-23:13:35:02:INFO] Sniff delimiter as ','\u001b[0m\n",
      "\u001b[35m[2020-02-23:13:35:02:INFO] Determined delimiter of CSV input is ','\u001b[0m\n",
      "\u001b[35m[2020-02-23:13:35:02:INFO] Sniff delimiter as ','\u001b[0m\n",
      "\u001b[35m[2020-02-23:13:35:02:INFO] Determined delimiter of CSV input is ','\u001b[0m\n",
      "\u001b[35m[2020-02-23:13:35:02:INFO] Sniff delimiter as ','\u001b[0m\n",
      "\u001b[35m[2020-02-23:13:35:02:INFO] Determined delimiter of CSV input is ','\u001b[0m\n",
      "\u001b[34m[2020-02-23:13:35:06:INFO] Sniff delimiter as ','\u001b[0m\n",
      "\u001b[34m[2020-02-23:13:35:06:INFO] Determined delimiter of CSV input is ','\u001b[0m\n",
      "\u001b[35m[2020-02-23:13:35:06:INFO] Sniff delimiter as ','\u001b[0m\n",
      "\u001b[35m[2020-02-23:13:35:06:INFO] Determined delimiter of CSV input is ','\u001b[0m\n",
      "\u001b[34m[2020-02-23:13:35:07:INFO] Sniff delimiter as ','\u001b[0m\n",
      "\u001b[34m[2020-02-23:13:35:07:INFO] Determined delimiter of CSV input is ','\u001b[0m\n",
      "\u001b[34m[2020-02-23:13:35:07:INFO] Sniff delimiter as ','\u001b[0m\n",
      "\u001b[34m[2020-02-23:13:35:07:INFO] Determined delimiter of CSV input is ','\u001b[0m\n",
      "\u001b[35m[2020-02-23:13:35:07:INFO] Sniff delimiter as ','\u001b[0m\n",
      "\u001b[35m[2020-02-23:13:35:07:INFO] Determined delimiter of CSV input is ','\u001b[0m\n",
      "\u001b[35m[2020-02-23:13:35:07:INFO] Sniff delimiter as ','\u001b[0m\n",
      "\u001b[35m[2020-02-23:13:35:07:INFO] Determined delimiter of CSV input is ','\u001b[0m\n",
      "\u001b[34m[2020-02-23:13:35:07:INFO] Sniff delimiter as ','\u001b[0m\n",
      "\u001b[34m[2020-02-23:13:35:07:INFO] Determined delimiter of CSV input is ','\u001b[0m\n",
      "\u001b[35m[2020-02-23:13:35:07:INFO] Sniff delimiter as ','\u001b[0m\n",
      "\u001b[35m[2020-02-23:13:35:07:INFO] Determined delimiter of CSV input is ','\u001b[0m\n",
      "\u001b[34m[2020-02-23:13:35:09:INFO] Sniff delimiter as ','\u001b[0m\n",
      "\u001b[34m[2020-02-23:13:35:09:INFO] Determined delimiter of CSV input is ','\u001b[0m\n",
      "\u001b[35m[2020-02-23:13:35:09:INFO] Sniff delimiter as ','\u001b[0m\n",
      "\u001b[35m[2020-02-23:13:35:09:INFO] Determined delimiter of CSV input is ','\u001b[0m\n",
      "\u001b[34m[2020-02-23:13:35:09:INFO] Sniff delimiter as ','\u001b[0m\n",
      "\u001b[34m[2020-02-23:13:35:09:INFO] Determined delimiter of CSV input is ','\u001b[0m\n",
      "\u001b[34m[2020-02-23:13:35:09:INFO] Sniff delimiter as ','\u001b[0m\n",
      "\u001b[34m[2020-02-23:13:35:09:INFO] Determined delimiter of CSV input is ','\u001b[0m\n",
      "\u001b[34m[2020-02-23:13:35:10:INFO] Sniff delimiter as ','\u001b[0m\n",
      "\u001b[34m[2020-02-23:13:35:10:INFO] Determined delimiter of CSV input is ','\u001b[0m\n",
      "\u001b[35m[2020-02-23:13:35:09:INFO] Sniff delimiter as ','\u001b[0m\n",
      "\u001b[35m[2020-02-23:13:35:09:INFO] Determined delimiter of CSV input is ','\u001b[0m\n",
      "\u001b[35m[2020-02-23:13:35:09:INFO] Sniff delimiter as ','\u001b[0m\n",
      "\u001b[35m[2020-02-23:13:35:09:INFO] Determined delimiter of CSV input is ','\u001b[0m\n",
      "\u001b[35m[2020-02-23:13:35:10:INFO] Sniff delimiter as ','\u001b[0m\n",
      "\u001b[35m[2020-02-23:13:35:10:INFO] Determined delimiter of CSV input is ','\u001b[0m\n",
      "\u001b[34m[2020-02-23:13:35:11:INFO] Sniff delimiter as ','\u001b[0m\n",
      "\u001b[34m[2020-02-23:13:35:11:INFO] Determined delimiter of CSV input is ','\u001b[0m\n",
      "\u001b[34m[2020-02-23:13:35:11:INFO] Sniff delimiter as ','\u001b[0m\n",
      "\u001b[34m[2020-02-23:13:35:11:INFO] Determined delimiter of CSV input is ','\u001b[0m\n",
      "\u001b[34m[2020-02-23:13:35:12:INFO] Sniff delimiter as ','\u001b[0m\n",
      "\u001b[34m[2020-02-23:13:35:12:INFO] Determined delimiter of CSV input is ','\u001b[0m\n",
      "\u001b[35m[2020-02-23:13:35:11:INFO] Sniff delimiter as ','\u001b[0m\n",
      "\u001b[35m[2020-02-23:13:35:11:INFO] Determined delimiter of CSV input is ','\u001b[0m\n",
      "\u001b[35m[2020-02-23:13:35:11:INFO] Sniff delimiter as ','\u001b[0m\n",
      "\u001b[35m[2020-02-23:13:35:11:INFO] Determined delimiter of CSV input is ','\u001b[0m\n",
      "\u001b[35m[2020-02-23:13:35:12:INFO] Sniff delimiter as ','\u001b[0m\n",
      "\u001b[35m[2020-02-23:13:35:12:INFO] Determined delimiter of CSV input is ','\u001b[0m\n",
      "\u001b[34m[2020-02-23:13:35:12:INFO] Sniff delimiter as ','\u001b[0m\n",
      "\u001b[34m[2020-02-23:13:35:12:INFO] Determined delimiter of CSV input is ','\u001b[0m\n",
      "\u001b[35m[2020-02-23:13:35:12:INFO] Sniff delimiter as ','\u001b[0m\n",
      "\u001b[35m[2020-02-23:13:35:12:INFO] Determined delimiter of CSV input is ','\u001b[0m\n",
      "\u001b[34m[2020-02-23:13:35:14:INFO] Sniff delimiter as ','\u001b[0m\n",
      "\u001b[34m[2020-02-23:13:35:14:INFO] Determined delimiter of CSV input is ','\u001b[0m\n",
      "\u001b[35m[2020-02-23:13:35:14:INFO] Sniff delimiter as ','\u001b[0m\n",
      "\u001b[35m[2020-02-23:13:35:14:INFO] Determined delimiter of CSV input is ','\u001b[0m\n",
      "\u001b[34m[2020-02-23:13:35:14:INFO] Sniff delimiter as ','\u001b[0m\n",
      "\u001b[34m[2020-02-23:13:35:14:INFO] Determined delimiter of CSV input is ','\u001b[0m\n",
      "\u001b[34m[2020-02-23:13:35:14:INFO] Sniff delimiter as ','\u001b[0m\n",
      "\u001b[34m[2020-02-23:13:35:14:INFO] Determined delimiter of CSV input is ','\u001b[0m\n",
      "\u001b[35m[2020-02-23:13:35:14:INFO] Sniff delimiter as ','\u001b[0m\n",
      "\u001b[35m[2020-02-23:13:35:14:INFO] Determined delimiter of CSV input is ','\u001b[0m\n",
      "\u001b[35m[2020-02-23:13:35:14:INFO] Sniff delimiter as ','\u001b[0m\n",
      "\u001b[35m[2020-02-23:13:35:14:INFO] Determined delimiter of CSV input is ','\u001b[0m\n",
      "\u001b[34m[2020-02-23:13:35:16:INFO] Sniff delimiter as ','\u001b[0m\n",
      "\u001b[34m[2020-02-23:13:35:16:INFO] Determined delimiter of CSV input is ','\u001b[0m\n",
      "\u001b[34m[2020-02-23:13:35:16:INFO] Sniff delimiter as ','\u001b[0m\n",
      "\u001b[34m[2020-02-23:13:35:16:INFO] Determined delimiter of CSV input is ','\u001b[0m\n",
      "\u001b[34m[2020-02-23:13:35:17:INFO] Sniff delimiter as ','\u001b[0m\n",
      "\u001b[34m[2020-02-23:13:35:17:INFO] Determined delimiter of CSV input is ','\u001b[0m\n",
      "\u001b[34m[2020-02-23:13:35:17:INFO] Sniff delimiter as ','\u001b[0m\n",
      "\u001b[34m[2020-02-23:13:35:17:INFO] Determined delimiter of CSV input is ','\u001b[0m\n",
      "\u001b[35m[2020-02-23:13:35:16:INFO] Sniff delimiter as ','\u001b[0m\n",
      "\u001b[35m[2020-02-23:13:35:16:INFO] Determined delimiter of CSV input is ','\u001b[0m\n",
      "\u001b[35m[2020-02-23:13:35:16:INFO] Sniff delimiter as ','\u001b[0m\n",
      "\u001b[35m[2020-02-23:13:35:16:INFO] Determined delimiter of CSV input is ','\u001b[0m\n",
      "\u001b[35m[2020-02-23:13:35:17:INFO] Sniff delimiter as ','\u001b[0m\n",
      "\u001b[35m[2020-02-23:13:35:17:INFO] Determined delimiter of CSV input is ','\u001b[0m\n",
      "\u001b[35m[2020-02-23:13:35:17:INFO] Sniff delimiter as ','\u001b[0m\n",
      "\u001b[35m[2020-02-23:13:35:17:INFO] Determined delimiter of CSV input is ','\u001b[0m\n",
      "\u001b[34m[2020-02-23:13:35:19:INFO] Sniff delimiter as ','\u001b[0m\n",
      "\u001b[34m[2020-02-23:13:35:19:INFO] Determined delimiter of CSV input is ','\u001b[0m\n",
      "\u001b[34m[2020-02-23:13:35:19:INFO] Sniff delimiter as ','\u001b[0m\n",
      "\u001b[34m[2020-02-23:13:35:19:INFO] Determined delimiter of CSV input is ','\u001b[0m\n",
      "\u001b[34m[2020-02-23:13:35:19:INFO] Sniff delimiter as ','\u001b[0m\n",
      "\u001b[34m[2020-02-23:13:35:19:INFO] Determined delimiter of CSV input is ','\u001b[0m\n",
      "\u001b[35m[2020-02-23:13:35:19:INFO] Sniff delimiter as ','\u001b[0m\n",
      "\u001b[35m[2020-02-23:13:35:19:INFO] Determined delimiter of CSV input is ','\u001b[0m\n",
      "\u001b[35m[2020-02-23:13:35:19:INFO] Sniff delimiter as ','\u001b[0m\n",
      "\u001b[35m[2020-02-23:13:35:19:INFO] Determined delimiter of CSV input is ','\u001b[0m\n",
      "\u001b[35m[2020-02-23:13:35:19:INFO] Sniff delimiter as ','\u001b[0m\n",
      "\u001b[35m[2020-02-23:13:35:19:INFO] Determined delimiter of CSV input is ','\u001b[0m\n",
      "\u001b[34m[2020-02-23:13:35:19:INFO] Sniff delimiter as ','\u001b[0m\n",
      "\u001b[34m[2020-02-23:13:35:19:INFO] Determined delimiter of CSV input is ','\u001b[0m\n",
      "\u001b[35m[2020-02-23:13:35:19:INFO] Sniff delimiter as ','\u001b[0m\n",
      "\u001b[35m[2020-02-23:13:35:19:INFO] Determined delimiter of CSV input is ','\u001b[0m\n",
      "\u001b[34m[2020-02-23:13:35:21:INFO] Sniff delimiter as ','\u001b[0m\n",
      "\u001b[34m[2020-02-23:13:35:21:INFO] Determined delimiter of CSV input is ','\u001b[0m\n",
      "\u001b[34m[2020-02-23:13:35:21:INFO] Sniff delimiter as ','\u001b[0m\n",
      "\u001b[34m[2020-02-23:13:35:21:INFO] Determined delimiter of CSV input is ','\u001b[0m\n",
      "\u001b[34m[2020-02-23:13:35:21:INFO] Sniff delimiter as ','\u001b[0m\n",
      "\u001b[34m[2020-02-23:13:35:21:INFO] Determined delimiter of CSV input is ','\u001b[0m\n",
      "\u001b[34m[2020-02-23:13:35:22:INFO] Sniff delimiter as ','\u001b[0m\n",
      "\u001b[34m[2020-02-23:13:35:22:INFO] Determined delimiter of CSV input is ','\u001b[0m\n",
      "\u001b[35m[2020-02-23:13:35:21:INFO] Sniff delimiter as ','\u001b[0m\n",
      "\u001b[35m[2020-02-23:13:35:21:INFO] Determined delimiter of CSV input is ','\u001b[0m\n",
      "\u001b[35m[2020-02-23:13:35:21:INFO] Sniff delimiter as ','\u001b[0m\n",
      "\u001b[35m[2020-02-23:13:35:21:INFO] Determined delimiter of CSV input is ','\u001b[0m\n",
      "\u001b[35m[2020-02-23:13:35:21:INFO] Sniff delimiter as ','\u001b[0m\n",
      "\u001b[35m[2020-02-23:13:35:21:INFO] Determined delimiter of CSV input is ','\u001b[0m\n",
      "\u001b[35m[2020-02-23:13:35:22:INFO] Sniff delimiter as ','\u001b[0m\n",
      "\u001b[35m[2020-02-23:13:35:22:INFO] Determined delimiter of CSV input is ','\u001b[0m\n"
     ]
    },
    {
     "name": "stdout",
     "output_type": "stream",
     "text": [
      "\n"
     ]
    }
   ],
   "source": [
    "# TODO: Using new_xgb_transformer, transform the new_data_location data. You may wish to\n",
    "#       'wait' for the transform job to finish.\n",
    "\n",
    "new_xgb_transformer.transform(new_data_location, content_type='text/csv', split_type='Line')\n",
    "new_xgb_transformer.wait()"
   ]
  },
  {
   "cell_type": "markdown",
   "metadata": {},
   "source": [
    "Copy the results to our local instance."
   ]
  },
  {
   "cell_type": "code",
   "execution_count": 60,
   "metadata": {},
   "outputs": [
    {
     "name": "stdout",
     "output_type": "stream",
     "text": [
      "Completed 256.0 KiB/366.0 KiB (3.9 MiB/s) with 1 file(s) remaining\r",
      "Completed 366.0 KiB/366.0 KiB (5.5 MiB/s) with 1 file(s) remaining\r",
      "download: s3://sagemaker-us-east-2-437802772464/xgboost-2020-02-23-13-31-37-191/new_data.csv.out to ../data/sentiment_update/new_data.csv.out\r\n"
     ]
    }
   ],
   "source": [
    "!aws s3 cp --recursive $new_xgb_transformer.output_path $data_dir"
   ]
  },
  {
   "cell_type": "markdown",
   "metadata": {},
   "source": [
    "And see how well the model did."
   ]
  },
  {
   "cell_type": "code",
   "execution_count": 61,
   "metadata": {},
   "outputs": [],
   "source": [
    "predictions = pd.read_csv(os.path.join(data_dir, 'new_data.csv.out'), header=None)\n",
    "predictions = [round(num) for num in predictions.squeeze().values]"
   ]
  },
  {
   "cell_type": "code",
   "execution_count": 62,
   "metadata": {},
   "outputs": [
    {
     "data": {
      "text/plain": [
       "0.84376"
      ]
     },
     "execution_count": 62,
     "metadata": {},
     "output_type": "execute_result"
    }
   ],
   "source": [
    "accuracy_score(new_Y, predictions)"
   ]
  },
  {
   "cell_type": "markdown",
   "metadata": {},
   "source": [
    "As expected, since we trained the model on this data, our model performs pretty well. So, we have reason to believe that our new XGBoost model is a \"better\" model.\n",
    "\n",
    "However, before we start changing our deployed model, we should first make sure that our new model isn't too different. In other words, if our new model performed really poorly on the original test data then this might be an indication that something else has gone wrong.\n",
    "\n",
    "To start with, since we got rid of the variable that stored the original test reviews, we will read them in again from the cache that we created in Step 3. Note that we need to make sure that we read in the original test data after it has been pre-processed with `nltk` but before it has been bag of words encoded. This is because we need to use the new vocabulary instead of the original one."
   ]
  },
  {
   "cell_type": "code",
   "execution_count": 63,
   "metadata": {},
   "outputs": [
    {
     "name": "stdout",
     "output_type": "stream",
     "text": [
      "Read preprocessed data from cache file: preprocessed_data.pkl\n"
     ]
    }
   ],
   "source": [
    "cache_data = None\n",
    "with open(os.path.join(cache_dir, \"preprocessed_data.pkl\"), \"rb\") as f:\n",
    "            cache_data = pickle.load(f)\n",
    "            print(\"Read preprocessed data from cache file:\", \"preprocessed_data.pkl\")\n",
    "            \n",
    "test_X = cache_data['words_test']\n",
    "test_Y = cache_data['labels_test']\n",
    "\n",
    "# Here we set cache_data to None so that it doesn't occupy memory\n",
    "cache_data = None"
   ]
  },
  {
   "cell_type": "markdown",
   "metadata": {},
   "source": [
    "Once we've loaded the original test reviews, we need to create a bag of words encoding of them using the new vocabulary that we created, based on the new data.\n",
    "\n",
    "**TODO:** Transform the original test data using the new vocabulary."
   ]
  },
  {
   "cell_type": "code",
   "execution_count": 64,
   "metadata": {},
   "outputs": [],
   "source": [
    "# TODO: Use the new_vectorizer object that you created earlier to transform the test_X data.\n",
    "\n",
    "test_X = new_vectorizer.transform(test_X).toarray()"
   ]
  },
  {
   "cell_type": "markdown",
   "metadata": {},
   "source": [
    "Now that we have correctly encoded the original test data, we can write it to the local instance, upload it to S3 and test it."
   ]
  },
  {
   "cell_type": "code",
   "execution_count": 65,
   "metadata": {},
   "outputs": [],
   "source": [
    "pd.DataFrame(test_X).to_csv(os.path.join(data_dir, 'test.csv'), header=False, index=False)"
   ]
  },
  {
   "cell_type": "code",
   "execution_count": 66,
   "metadata": {},
   "outputs": [],
   "source": [
    "test_location = session.upload_data(os.path.join(data_dir, 'test.csv'), key_prefix=prefix)"
   ]
  },
  {
   "cell_type": "code",
   "execution_count": 67,
   "metadata": {},
   "outputs": [
    {
     "name": "stdout",
     "output_type": "stream",
     "text": [
      "....................\u001b[34mArguments: serve\u001b[0m\n",
      "\u001b[34m[2020-02-23 13:41:23 +0000] [1] [INFO] Starting gunicorn 19.7.1\u001b[0m\n",
      "\u001b[34m[2020-02-23 13:41:23 +0000] [1] [INFO] Listening at: http://0.0.0.0:8080 (1)\u001b[0m\n",
      "\u001b[34m[2020-02-23 13:41:23 +0000] [1] [INFO] Using worker: gevent\u001b[0m\n",
      "\u001b[34m[2020-02-23 13:41:23 +0000] [38] [INFO] Booting worker with pid: 38\u001b[0m\n",
      "\u001b[34m[2020-02-23 13:41:23 +0000] [39] [INFO] Booting worker with pid: 39\u001b[0m\n",
      "\u001b[34m[2020-02-23 13:41:23 +0000] [40] [INFO] Booting worker with pid: 40\u001b[0m\n",
      "\u001b[34m[2020-02-23 13:41:23 +0000] [41] [INFO] Booting worker with pid: 41\u001b[0m\n",
      "\u001b[34m[2020-02-23:13:41:23:INFO] Model loaded successfully for worker : 38\u001b[0m\n",
      "\u001b[34m[2020-02-23:13:41:23:INFO] Model loaded successfully for worker : 39\u001b[0m\n",
      "\u001b[34m[2020-02-23:13:41:24:INFO] Model loaded successfully for worker : 41\u001b[0m\n",
      "\u001b[34m[2020-02-23:13:41:24:INFO] Model loaded successfully for worker : 40\u001b[0m\n",
      "\u001b[32m2020-02-23T13:41:34.069:[sagemaker logs]: MaxConcurrentTransforms=4, MaxPayloadInMB=6, BatchStrategy=MULTI_RECORD\u001b[0m\n",
      "\u001b[34m[2020-02-23:13:41:37:INFO] Sniff delimiter as ','\u001b[0m\n",
      "\u001b[35m[2020-02-23:13:41:37:INFO] Sniff delimiter as ','\u001b[0m\n",
      "\u001b[34m[2020-02-23:13:41:37:INFO] Determined delimiter of CSV input is ','\u001b[0m\n",
      "\u001b[34m[2020-02-23:13:41:37:INFO] Sniff delimiter as ','\u001b[0m\n",
      "\u001b[34m[2020-02-23:13:41:37:INFO] Determined delimiter of CSV input is ','\u001b[0m\n",
      "\u001b[35m[2020-02-23:13:41:37:INFO] Determined delimiter of CSV input is ','\u001b[0m\n",
      "\u001b[35m[2020-02-23:13:41:37:INFO] Sniff delimiter as ','\u001b[0m\n",
      "\u001b[35m[2020-02-23:13:41:37:INFO] Determined delimiter of CSV input is ','\u001b[0m\n",
      "\u001b[34m[2020-02-23:13:41:37:INFO] Sniff delimiter as ','\u001b[0m\n",
      "\u001b[34m[2020-02-23:13:41:37:INFO] Determined delimiter of CSV input is ','\u001b[0m\n",
      "\u001b[34m[2020-02-23:13:41:37:INFO] Sniff delimiter as ','\u001b[0m\n",
      "\u001b[34m[2020-02-23:13:41:37:INFO] Determined delimiter of CSV input is ','\u001b[0m\n",
      "\u001b[35m[2020-02-23:13:41:37:INFO] Sniff delimiter as ','\u001b[0m\n",
      "\u001b[35m[2020-02-23:13:41:37:INFO] Determined delimiter of CSV input is ','\u001b[0m\n",
      "\u001b[35m[2020-02-23:13:41:37:INFO] Sniff delimiter as ','\u001b[0m\n",
      "\u001b[35m[2020-02-23:13:41:37:INFO] Determined delimiter of CSV input is ','\u001b[0m\n",
      "\u001b[34m[2020-02-23:13:41:39:INFO] Sniff delimiter as ','\u001b[0m\n",
      "\u001b[34m[2020-02-23:13:41:39:INFO] Determined delimiter of CSV input is ','\u001b[0m\n",
      "\u001b[34m[2020-02-23:13:41:39:INFO] Sniff delimiter as ','\u001b[0m\n",
      "\u001b[34m[2020-02-23:13:41:39:INFO] Determined delimiter of CSV input is ','\u001b[0m\n",
      "\u001b[34m[2020-02-23:13:41:39:INFO] Sniff delimiter as ','\u001b[0m\n",
      "\u001b[34m[2020-02-23:13:41:39:INFO] Determined delimiter of CSV input is ','\u001b[0m\n",
      "\u001b[34m[2020-02-23:13:41:40:INFO] Sniff delimiter as ','\u001b[0m\n",
      "\u001b[34m[2020-02-23:13:41:40:INFO] Determined delimiter of CSV input is ','\u001b[0m\n",
      "\u001b[35m[2020-02-23:13:41:39:INFO] Sniff delimiter as ','\u001b[0m\n",
      "\u001b[35m[2020-02-23:13:41:39:INFO] Determined delimiter of CSV input is ','\u001b[0m\n",
      "\u001b[35m[2020-02-23:13:41:39:INFO] Sniff delimiter as ','\u001b[0m\n",
      "\u001b[35m[2020-02-23:13:41:39:INFO] Determined delimiter of CSV input is ','\u001b[0m\n",
      "\u001b[35m[2020-02-23:13:41:39:INFO] Sniff delimiter as ','\u001b[0m\n",
      "\u001b[35m[2020-02-23:13:41:39:INFO] Determined delimiter of CSV input is ','\u001b[0m\n",
      "\u001b[35m[2020-02-23:13:41:40:INFO] Sniff delimiter as ','\u001b[0m\n",
      "\u001b[35m[2020-02-23:13:41:40:INFO] Determined delimiter of CSV input is ','\u001b[0m\n",
      "\u001b[34m[2020-02-23:13:41:44:INFO] Sniff delimiter as ','\u001b[0m\n",
      "\u001b[34m[2020-02-23:13:41:44:INFO] Determined delimiter of CSV input is ','\u001b[0m\n",
      "\u001b[34m[2020-02-23:13:41:44:INFO] Sniff delimiter as ','\u001b[0m\n",
      "\u001b[34m[2020-02-23:13:41:44:INFO] Determined delimiter of CSV input is ','\u001b[0m\n",
      "\u001b[34m[2020-02-23:13:41:44:INFO] Sniff delimiter as ','\u001b[0m\n",
      "\u001b[34m[2020-02-23:13:41:44:INFO] Determined delimiter of CSV input is ','\u001b[0m\n",
      "\u001b[34m[2020-02-23:13:41:44:INFO] Sniff delimiter as ','\u001b[0m\n",
      "\u001b[34m[2020-02-23:13:41:44:INFO] Determined delimiter of CSV input is ','\u001b[0m\n",
      "\u001b[35m[2020-02-23:13:41:44:INFO] Sniff delimiter as ','\u001b[0m\n",
      "\u001b[35m[2020-02-23:13:41:44:INFO] Determined delimiter of CSV input is ','\u001b[0m\n",
      "\u001b[35m[2020-02-23:13:41:44:INFO] Sniff delimiter as ','\u001b[0m\n",
      "\u001b[35m[2020-02-23:13:41:44:INFO] Determined delimiter of CSV input is ','\u001b[0m\n",
      "\u001b[35m[2020-02-23:13:41:44:INFO] Sniff delimiter as ','\u001b[0m\n",
      "\u001b[35m[2020-02-23:13:41:44:INFO] Determined delimiter of CSV input is ','\u001b[0m\n",
      "\u001b[35m[2020-02-23:13:41:44:INFO] Sniff delimiter as ','\u001b[0m\n",
      "\u001b[35m[2020-02-23:13:41:44:INFO] Determined delimiter of CSV input is ','\u001b[0m\n",
      "\u001b[34m[2020-02-23:13:41:46:INFO] Sniff delimiter as ','\u001b[0m\n",
      "\u001b[34m[2020-02-23:13:41:46:INFO] Determined delimiter of CSV input is ','\u001b[0m\n",
      "\u001b[34m[2020-02-23:13:41:46:INFO] Sniff delimiter as ','\u001b[0m\n",
      "\u001b[34m[2020-02-23:13:41:46:INFO] Determined delimiter of CSV input is ','\u001b[0m\n",
      "\u001b[34m[2020-02-23:13:41:47:INFO] Sniff delimiter as ','\u001b[0m\n",
      "\u001b[34m[2020-02-23:13:41:47:INFO] Determined delimiter of CSV input is ','\u001b[0m\n",
      "\u001b[35m[2020-02-23:13:41:46:INFO] Sniff delimiter as ','\u001b[0m\n",
      "\u001b[35m[2020-02-23:13:41:46:INFO] Determined delimiter of CSV input is ','\u001b[0m\n",
      "\u001b[35m[2020-02-23:13:41:46:INFO] Sniff delimiter as ','\u001b[0m\n",
      "\u001b[35m[2020-02-23:13:41:46:INFO] Determined delimiter of CSV input is ','\u001b[0m\n",
      "\u001b[35m[2020-02-23:13:41:47:INFO] Sniff delimiter as ','\u001b[0m\n",
      "\u001b[35m[2020-02-23:13:41:47:INFO] Determined delimiter of CSV input is ','\u001b[0m\n",
      "\u001b[34m[2020-02-23:13:41:47:INFO] Sniff delimiter as ','\u001b[0m\n",
      "\u001b[34m[2020-02-23:13:41:47:INFO] Determined delimiter of CSV input is ','\u001b[0m\n",
      "\u001b[35m[2020-02-23:13:41:47:INFO] Sniff delimiter as ','\u001b[0m\n",
      "\u001b[35m[2020-02-23:13:41:47:INFO] Determined delimiter of CSV input is ','\u001b[0m\n",
      "\u001b[34m[2020-02-23:13:41:49:INFO] Sniff delimiter as ','\u001b[0m\n",
      "\u001b[34m[2020-02-23:13:41:49:INFO] Determined delimiter of CSV input is ','\u001b[0m\n",
      "\u001b[35m[2020-02-23:13:41:49:INFO] Sniff delimiter as ','\u001b[0m\n",
      "\u001b[35m[2020-02-23:13:41:49:INFO] Determined delimiter of CSV input is ','\u001b[0m\n",
      "\u001b[34m[2020-02-23:13:41:49:INFO] Sniff delimiter as ','\u001b[0m\n",
      "\u001b[35m[2020-02-23:13:41:49:INFO] Sniff delimiter as ','\u001b[0m\n",
      "\u001b[34m[2020-02-23:13:41:49:INFO] Determined delimiter of CSV input is ','\u001b[0m\n",
      "\u001b[34m[2020-02-23:13:41:49:INFO] Sniff delimiter as ','\u001b[0m\n",
      "\u001b[34m[2020-02-23:13:41:49:INFO] Determined delimiter of CSV input is ','\u001b[0m\n",
      "\u001b[34m[2020-02-23:13:41:49:INFO] Sniff delimiter as ','\u001b[0m\n",
      "\u001b[34m[2020-02-23:13:41:49:INFO] Determined delimiter of CSV input is ','\u001b[0m\n",
      "\u001b[35m[2020-02-23:13:41:49:INFO] Determined delimiter of CSV input is ','\u001b[0m\n",
      "\u001b[35m[2020-02-23:13:41:49:INFO] Sniff delimiter as ','\u001b[0m\n",
      "\u001b[35m[2020-02-23:13:41:49:INFO] Determined delimiter of CSV input is ','\u001b[0m\n",
      "\u001b[35m[2020-02-23:13:41:49:INFO] Sniff delimiter as ','\u001b[0m\n",
      "\u001b[35m[2020-02-23:13:41:49:INFO] Determined delimiter of CSV input is ','\u001b[0m\n",
      "\u001b[34m[2020-02-23:13:41:52:INFO] Determined delimiter of CSV input is ','\u001b[0m\n",
      "\u001b[34m[2020-02-23:13:41:52:INFO] Sniff delimiter as ','\u001b[0m\n",
      "\u001b[34m[2020-02-23:13:41:52:INFO] Determined delimiter of CSV input is ','\u001b[0m\n",
      "\u001b[35m[2020-02-23:13:41:52:INFO] Determined delimiter of CSV input is ','\u001b[0m\n",
      "\u001b[35m[2020-02-23:13:41:52:INFO] Sniff delimiter as ','\u001b[0m\n",
      "\u001b[35m[2020-02-23:13:41:52:INFO] Determined delimiter of CSV input is ','\u001b[0m\n",
      "\u001b[34m[2020-02-23:13:41:54:INFO] Sniff delimiter as ','\u001b[0m\n",
      "\u001b[34m[2020-02-23:13:41:54:INFO] Determined delimiter of CSV input is ','\u001b[0m\n",
      "\u001b[34m[2020-02-23:13:41:54:INFO] Sniff delimiter as ','\u001b[0m\n",
      "\u001b[34m[2020-02-23:13:41:54:INFO] Determined delimiter of CSV input is ','\u001b[0m\n",
      "\u001b[35m[2020-02-23:13:41:54:INFO] Sniff delimiter as ','\u001b[0m\n",
      "\u001b[35m[2020-02-23:13:41:54:INFO] Determined delimiter of CSV input is ','\u001b[0m\n",
      "\u001b[35m[2020-02-23:13:41:54:INFO] Sniff delimiter as ','\u001b[0m\n",
      "\u001b[35m[2020-02-23:13:41:54:INFO] Determined delimiter of CSV input is ','\u001b[0m\n",
      "\u001b[34m[2020-02-23:13:41:54:INFO] Sniff delimiter as ','\u001b[0m\n",
      "\u001b[34m[2020-02-23:13:41:54:INFO] Determined delimiter of CSV input is ','\u001b[0m\n",
      "\u001b[34m[2020-02-23:13:41:54:INFO] Sniff delimiter as ','\u001b[0m\n",
      "\u001b[34m[2020-02-23:13:41:54:INFO] Determined delimiter of CSV input is ','\u001b[0m\n",
      "\u001b[35m[2020-02-23:13:41:54:INFO] Sniff delimiter as ','\u001b[0m\n",
      "\u001b[35m[2020-02-23:13:41:54:INFO] Determined delimiter of CSV input is ','\u001b[0m\n",
      "\u001b[35m[2020-02-23:13:41:54:INFO] Sniff delimiter as ','\u001b[0m\n",
      "\u001b[35m[2020-02-23:13:41:54:INFO] Determined delimiter of CSV input is ','\u001b[0m\n",
      "\u001b[34m[2020-02-23:13:41:56:INFO] Sniff delimiter as ','\u001b[0m\n",
      "\u001b[34m[2020-02-23:13:41:56:INFO] Determined delimiter of CSV input is ','\u001b[0m\n",
      "\u001b[34m[2020-02-23:13:41:56:INFO] Sniff delimiter as ','\u001b[0m\n",
      "\u001b[34m[2020-02-23:13:41:56:INFO] Determined delimiter of CSV input is ','\u001b[0m\n",
      "\u001b[34m[2020-02-23:13:41:56:INFO] Sniff delimiter as ','\u001b[0m\n",
      "\u001b[34m[2020-02-23:13:41:56:INFO] Determined delimiter of CSV input is ','\u001b[0m\n",
      "\u001b[34m[2020-02-23:13:41:57:INFO] Sniff delimiter as ','\u001b[0m\n",
      "\u001b[34m[2020-02-23:13:41:57:INFO] Determined delimiter of CSV input is ','\u001b[0m\n",
      "\u001b[35m[2020-02-23:13:41:56:INFO] Sniff delimiter as ','\u001b[0m\n",
      "\u001b[35m[2020-02-23:13:41:56:INFO] Determined delimiter of CSV input is ','\u001b[0m\n",
      "\u001b[35m[2020-02-23:13:41:56:INFO] Sniff delimiter as ','\u001b[0m\n",
      "\u001b[35m[2020-02-23:13:41:56:INFO] Determined delimiter of CSV input is ','\u001b[0m\n",
      "\u001b[35m[2020-02-23:13:41:56:INFO] Sniff delimiter as ','\u001b[0m\n",
      "\u001b[35m[2020-02-23:13:41:56:INFO] Determined delimiter of CSV input is ','\u001b[0m\n",
      "\u001b[35m[2020-02-23:13:41:57:INFO] Sniff delimiter as ','\u001b[0m\n",
      "\u001b[35m[2020-02-23:13:41:57:INFO] Determined delimiter of CSV input is ','\u001b[0m\n",
      "\u001b[34m[2020-02-23:13:41:59:INFO] Sniff delimiter as ','\u001b[0m\n",
      "\u001b[34m[2020-02-23:13:41:59:INFO] Determined delimiter of CSV input is ','\u001b[0m\n",
      "\u001b[34m[2020-02-23:13:41:59:INFO] Sniff delimiter as ','\u001b[0m\n",
      "\u001b[34m[2020-02-23:13:41:59:INFO] Determined delimiter of CSV input is ','\u001b[0m\n",
      "\u001b[34m[2020-02-23:13:41:59:INFO] Sniff delimiter as ','\u001b[0m\n",
      "\u001b[34m[2020-02-23:13:41:59:INFO] Determined delimiter of CSV input is ','\u001b[0m\n",
      "\u001b[35m[2020-02-23:13:41:59:INFO] Sniff delimiter as ','\u001b[0m\n",
      "\u001b[35m[2020-02-23:13:41:59:INFO] Determined delimiter of CSV input is ','\u001b[0m\n",
      "\u001b[35m[2020-02-23:13:41:59:INFO] Sniff delimiter as ','\u001b[0m\n",
      "\u001b[35m[2020-02-23:13:41:59:INFO] Determined delimiter of CSV input is ','\u001b[0m\n",
      "\u001b[35m[2020-02-23:13:41:59:INFO] Sniff delimiter as ','\u001b[0m\n",
      "\u001b[35m[2020-02-23:13:41:59:INFO] Determined delimiter of CSV input is ','\u001b[0m\n",
      "\u001b[34m[2020-02-23:13:41:59:INFO] Sniff delimiter as ','\u001b[0m\n",
      "\u001b[34m[2020-02-23:13:41:59:INFO] Determined delimiter of CSV input is ','\u001b[0m\n",
      "\u001b[35m[2020-02-23:13:41:59:INFO] Sniff delimiter as ','\u001b[0m\n",
      "\u001b[35m[2020-02-23:13:41:59:INFO] Determined delimiter of CSV input is ','\u001b[0m\n"
     ]
    },
    {
     "name": "stdout",
     "output_type": "stream",
     "text": [
      "\n"
     ]
    }
   ],
   "source": [
    "new_xgb_transformer.transform(test_location, content_type='text/csv', split_type='Line')\n",
    "new_xgb_transformer.wait()"
   ]
  },
  {
   "cell_type": "code",
   "execution_count": 68,
   "metadata": {},
   "outputs": [
    {
     "name": "stdout",
     "output_type": "stream",
     "text": [
      "Completed 256.0 KiB/366.4 KiB (4.9 MiB/s) with 1 file(s) remaining\r",
      "Completed 366.4 KiB/366.4 KiB (6.7 MiB/s) with 1 file(s) remaining\r",
      "download: s3://sagemaker-us-east-2-437802772464/xgboost-2020-02-23-13-38-15-446/test.csv.out to ../data/sentiment_update/test.csv.out\r\n"
     ]
    }
   ],
   "source": [
    "!aws s3 cp --recursive $new_xgb_transformer.output_path $data_dir"
   ]
  },
  {
   "cell_type": "code",
   "execution_count": 69,
   "metadata": {},
   "outputs": [],
   "source": [
    "predictions = pd.read_csv(os.path.join(data_dir, 'test.csv.out'), header=None)\n",
    "predictions = [round(num) for num in predictions.squeeze().values]"
   ]
  },
  {
   "cell_type": "code",
   "execution_count": 70,
   "metadata": {},
   "outputs": [
    {
     "data": {
      "text/plain": [
       "0.83256"
      ]
     },
     "execution_count": 70,
     "metadata": {},
     "output_type": "execute_result"
    }
   ],
   "source": [
    "accuracy_score(test_Y, predictions)"
   ]
  },
  {
   "cell_type": "markdown",
   "metadata": {},
   "source": [
    "It would appear that our new XGBoost model is performing quite well on the old test data. This gives us some indication that our new model should be put into production and replace our original model."
   ]
  },
  {
   "cell_type": "markdown",
   "metadata": {},
   "source": [
    "## Step 6: (TODO) Updating the Model\n",
    "\n",
    "So we have a new model that we'd like to use instead of one that is already deployed. Furthermore, we are assuming that the model that is already deployed is being used in some sort of application. As a result, what we want to do is update the existing endpoint so that it uses our new model.\n",
    "\n",
    "Of course, to do this we need to create an endpoint configuration for our newly created model.\n",
    "\n",
    "First, note that we can access the name of the model that we created above using the `model_name` property of the transformer. The reason for this is that in order for the transformer to create a batch transform job it needs to first create the model object inside of SageMaker. Since we've sort of already done this we should take advantage of it."
   ]
  },
  {
   "cell_type": "code",
   "execution_count": 71,
   "metadata": {},
   "outputs": [
    {
     "data": {
      "text/plain": [
       "'xgboost-2020-02-23-13-26-54-127'"
      ]
     },
     "execution_count": 71,
     "metadata": {},
     "output_type": "execute_result"
    }
   ],
   "source": [
    "new_xgb_transformer.model_name"
   ]
  },
  {
   "cell_type": "markdown",
   "metadata": {},
   "source": [
    "Next, we create an endpoint configuration using the low level approach of creating the dictionary object which describes the endpoint configuration we want.\n",
    "\n",
    "**TODO:** Using the low level approach, create a new endpoint configuration. Don't forget that it needs a name and that the name needs to be unique. If you get stuck, try looking at the Boston Housing Low Level Deployment tutorial notebook."
   ]
  },
  {
   "cell_type": "code",
   "execution_count": 72,
   "metadata": {},
   "outputs": [],
   "source": [
    "from time import gmtime, strftime\n",
    "\n",
    "\n",
    "# TODO: Give our endpoint configuration a name. Remember, it needs to be unique.\n",
    "\n",
    "new_xgb_endpoint_config_name = \"sentiment-update-xgboost-endpoint-config-\" + strftime(\"%Y-%m-%d-%H-%M-%S\", gmtime())\n",
    "\n",
    "# TODO: Using the SageMaker Client, construct the endpoint configuration.\n",
    "\n",
    "new_xgb_endpoint_config_info = session.sagemaker_client.create_endpoint_config(\n",
    "                            EndpointConfigName = new_xgb_endpoint_config_name,\n",
    "                            ProductionVariants = [{\n",
    "                                \"InstanceType\": \"ml.m4.xlarge\",\n",
    "                                \"InitialVariantWeight\": 1,\n",
    "                                \"InitialInstanceCount\": 1,\n",
    "                                \"ModelName\": new_xgb_transformer.model_name,\n",
    "                                \"VariantName\": \"XGB-Model\"\n",
    "                            }])"
   ]
  },
  {
   "cell_type": "markdown",
   "metadata": {},
   "source": [
    "Once the endpoint configuration has been constructed, it is a straightforward matter to ask SageMaker to update the existing endpoint so that it uses the new endpoint configuration.\n",
    "\n",
    "Of note here is that SageMaker does this in such a way that there is no downtime. Essentially, SageMaker deploys the new model and then updates the original endpoint so that it points to the newly deployed model. After that, the original model is shut down. This way, whatever app is using our endpoint won't notice that we've changed the model that is being used.\n",
    "\n",
    "**TODO:** Use the SageMaker Client to update the endpoint that you deployed earlier."
   ]
  },
  {
   "cell_type": "code",
   "execution_count": 73,
   "metadata": {},
   "outputs": [
    {
     "data": {
      "text/plain": [
       "{'EndpointArn': 'arn:aws:sagemaker:us-east-2:437802772464:endpoint/xgboost-2020-02-23-12-59-48-838',\n",
       " 'ResponseMetadata': {'RequestId': 'dfb70393-a575-47de-b8a7-67a2e80d1601',\n",
       "  'HTTPStatusCode': 200,\n",
       "  'HTTPHeaders': {'x-amzn-requestid': 'dfb70393-a575-47de-b8a7-67a2e80d1601',\n",
       "   'content-type': 'application/x-amz-json-1.1',\n",
       "   'content-length': '99',\n",
       "   'date': 'Sun, 23 Feb 2020 13:42:29 GMT'},\n",
       "  'RetryAttempts': 0}}"
      ]
     },
     "execution_count": 73,
     "metadata": {},
     "output_type": "execute_result"
    }
   ],
   "source": [
    "# TODO: Update the xgb_predictor.endpoint so that it uses new_xgb_endpoint_config_name.\n",
    "\n",
    "session.sagemaker_client.update_endpoint(EndpointName=xgb_predictor.endpoint, EndpointConfigName=new_xgb_endpoint_config_name)"
   ]
  },
  {
   "cell_type": "markdown",
   "metadata": {},
   "source": [
    "And, as is generally the case with SageMaker requests, this is being done in the background so if we want to wait for it to complete we need to call the appropriate method."
   ]
  },
  {
   "cell_type": "code",
   "execution_count": 74,
   "metadata": {},
   "outputs": [
    {
     "name": "stdout",
     "output_type": "stream",
     "text": [
      "-----------!"
     ]
    },
    {
     "data": {
      "text/plain": [
       "{'EndpointName': 'xgboost-2020-02-23-12-59-48-838',\n",
       " 'EndpointArn': 'arn:aws:sagemaker:us-east-2:437802772464:endpoint/xgboost-2020-02-23-12-59-48-838',\n",
       " 'EndpointConfigName': 'sentiment-update-xgboost-endpoint-config-2020-02-23-13-42-29',\n",
       " 'ProductionVariants': [{'VariantName': 'XGB-Model',\n",
       "   'DeployedImages': [{'SpecifiedImage': '825641698319.dkr.ecr.us-east-2.amazonaws.com/xgboost:1',\n",
       "     'ResolvedImage': '825641698319.dkr.ecr.us-east-2.amazonaws.com/xgboost@sha256:513e8442b35b9ecc9d326f85659f8e30b10e2cec096b863f04a9738baa9ebb57',\n",
       "     'ResolutionTime': datetime.datetime(2020, 2, 23, 13, 42, 33, 260000, tzinfo=tzlocal())}],\n",
       "   'CurrentWeight': 1.0,\n",
       "   'DesiredWeight': 1.0,\n",
       "   'CurrentInstanceCount': 1,\n",
       "   'DesiredInstanceCount': 1}],\n",
       " 'EndpointStatus': 'InService',\n",
       " 'CreationTime': datetime.datetime(2020, 2, 23, 13, 16, 25, 537000, tzinfo=tzlocal()),\n",
       " 'LastModifiedTime': datetime.datetime(2020, 2, 23, 13, 47, 39, 567000, tzinfo=tzlocal()),\n",
       " 'ResponseMetadata': {'RequestId': '8099473b-ffb0-4baa-9129-7b933485a807',\n",
       "  'HTTPStatusCode': 200,\n",
       "  'HTTPHeaders': {'x-amzn-requestid': '8099473b-ffb0-4baa-9129-7b933485a807',\n",
       "   'content-type': 'application/x-amz-json-1.1',\n",
       "   'content-length': '741',\n",
       "   'date': 'Sun, 23 Feb 2020 13:48:00 GMT'},\n",
       "  'RetryAttempts': 0}}"
      ]
     },
     "execution_count": 74,
     "metadata": {},
     "output_type": "execute_result"
    }
   ],
   "source": [
    "session.wait_for_endpoint(xgb_predictor.endpoint)"
   ]
  },
  {
   "cell_type": "markdown",
   "metadata": {},
   "source": [
    "## Step 7: Delete the Endpoint\n",
    "\n",
    "Of course, since we are done with the deployed endpoint we need to make sure to shut it down, otherwise we will continue to be charged for it."
   ]
  },
  {
   "cell_type": "code",
   "execution_count": 75,
   "metadata": {},
   "outputs": [],
   "source": [
    "xgb_predictor.delete_endpoint()"
   ]
  },
  {
   "cell_type": "markdown",
   "metadata": {},
   "source": [
    "## Some Additional Questions\n",
    "\n",
    "This notebook is a little different from the other notebooks in this module. In part, this is because it is meant to be a little bit closer to the type of problem you may face in a real world scenario. Of course, this problem is a very easy one with a prescribed solution, but there are many other interesting questions that we did not consider here and that you may wish to consider yourself.\n",
    "\n",
    "For example,\n",
    "- What other ways could the underlying distribution change?\n",
    "- Is it a good idea to re-train the model using only the new data?\n",
    "- What would change if the quantity of new data wasn't large. Say you only received 500 samples?\n"
   ]
  },
  {
   "cell_type": "markdown",
   "metadata": {},
   "source": [
    "## Optional: Clean up\n",
    "\n",
    "The default notebook instance on SageMaker doesn't have a lot of excess disk space available. As you continue to complete and execute notebooks you will eventually fill up this disk space, leading to errors which can be difficult to diagnose. Once you are completely finished using a notebook it is a good idea to remove the files that you created along the way. Of course, you can do this from the terminal or from the notebook hub if you would like. The cell below contains some commands to clean up the created files from within the notebook."
   ]
  },
  {
   "cell_type": "code",
   "execution_count": 76,
   "metadata": {},
   "outputs": [],
   "source": [
    "# First we will remove all of the files contained in the data_dir directory\n",
    "!rm $data_dir/*\n",
    "\n",
    "# And then we delete the directory itself\n",
    "!rmdir $data_dir\n",
    "\n",
    "# Similarly we will remove the files in the cache_dir directory and the directory itself\n",
    "!rm $cache_dir/*\n",
    "!rmdir $cache_dir"
   ]
  },
  {
   "cell_type": "code",
   "execution_count": null,
   "metadata": {},
   "outputs": [],
   "source": []
  }
 ],
 "metadata": {
  "kernelspec": {
   "display_name": "conda_pytorch_p36",
   "language": "python",
   "name": "conda_pytorch_p36"
  },
  "language_info": {
   "codemirror_mode": {
    "name": "ipython",
    "version": 3
   },
   "file_extension": ".py",
   "mimetype": "text/x-python",
   "name": "python",
   "nbconvert_exporter": "python",
   "pygments_lexer": "ipython3",
   "version": "3.6.5"
  }
 },
 "nbformat": 4,
 "nbformat_minor": 2
}
